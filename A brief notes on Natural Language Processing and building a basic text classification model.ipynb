{
 "cells": [
  {
   "cell_type": "markdown",
   "metadata": {},
   "source": [
    "### To Carried out Feature extraction operation as Word counts, Characters count, Average characters per word, Stop words count, Count #HashTags and @Mentions, Upper case word count,\n",
    "\n",
    "### Data processing operation, and built a basic machine learning model for binary sentiment classification from twitter data labelled with positive and negative tweets\n",
    "\n",
    "### Notebook also contain some advanced text processing and feature extraction operation\n",
    "\n",
    "### Choosing the best machine learning models for text classification"
   ]
  },
  {
   "cell_type": "markdown",
   "metadata": {},
   "source": [
    "## Step 1 :  Loading file, cleaning data and labelling target variables"
   ]
  },
  {
   "cell_type": "code",
   "execution_count": 1,
   "metadata": {},
   "outputs": [],
   "source": [
    "import pandas as pd\n",
    "import numpy as np"
   ]
  },
  {
   "cell_type": "code",
   "execution_count": 2,
   "metadata": {},
   "outputs": [],
   "source": [
    "import spacy #can say its a numpy for natural language processing\n",
    "from spacy.lang.en.stop_words import STOP_WORDS #most common words in a language"
   ]
  },
  {
   "cell_type": "markdown",
   "metadata": {},
   "source": [
    "#### Spacy - \n",
    "a free, open-source library for Natural Language Processing in Python. It's written in Cython and is designed to build information extraction or natural language understanding systems.\n",
    "\n",
    "#### Features of spacy\n",
    "Non-destructive tokenization, Named entity recognition, Support for 59+ languages, 46 statistical models for 16 languages, Pretrained word vectors, State-of-the-art speed, Easy deep learning integration, Part-of-speech tagging, Labelled dependency parsing, Syntax-driven sentence segmentation, Built in visualizers for syntax and NER, Convenient string-to-hash mapping, Export to numpy data arrays, Efficient binary serialization, Easy model packaging and deployment, Robust, rigorously evaluated accuracy"
   ]
  },
  {
   "cell_type": "markdown",
   "metadata": {},
   "source": [
    "#### Dataset : https://www.kaggle.com/kazanova/sentiment140"
   ]
  },
  {
   "cell_type": "code",
   "execution_count": 4,
   "metadata": {},
   "outputs": [],
   "source": [
    "df = pd.read_csv('training.1600000.processed.noemoticon.csv',encoding = 'latin1', header = None)# latin1 to take on error as UnicodeDecodeError: 'utf-8' codec can't decode bytes in position 80-81: invalid continuation byte"
   ]
  },
  {
   "cell_type": "code",
   "execution_count": 5,
   "metadata": {},
   "outputs": [
    {
     "data": {
      "text/html": [
       "<div>\n",
       "<style scoped>\n",
       "    .dataframe tbody tr th:only-of-type {\n",
       "        vertical-align: middle;\n",
       "    }\n",
       "\n",
       "    .dataframe tbody tr th {\n",
       "        vertical-align: top;\n",
       "    }\n",
       "\n",
       "    .dataframe thead th {\n",
       "        text-align: right;\n",
       "    }\n",
       "</style>\n",
       "<table border=\"1\" class=\"dataframe\">\n",
       "  <thead>\n",
       "    <tr style=\"text-align: right;\">\n",
       "      <th></th>\n",
       "      <th>0</th>\n",
       "      <th>1</th>\n",
       "      <th>2</th>\n",
       "      <th>3</th>\n",
       "      <th>4</th>\n",
       "      <th>5</th>\n",
       "    </tr>\n",
       "  </thead>\n",
       "  <tbody>\n",
       "    <tr>\n",
       "      <th>0</th>\n",
       "      <td>0</td>\n",
       "      <td>1467810369</td>\n",
       "      <td>Mon Apr 06 22:19:45 PDT 2009</td>\n",
       "      <td>NO_QUERY</td>\n",
       "      <td>_TheSpecialOne_</td>\n",
       "      <td>@switchfoot http://twitpic.com/2y1zl - Awww, t...</td>\n",
       "    </tr>\n",
       "    <tr>\n",
       "      <th>1</th>\n",
       "      <td>0</td>\n",
       "      <td>1467810672</td>\n",
       "      <td>Mon Apr 06 22:19:49 PDT 2009</td>\n",
       "      <td>NO_QUERY</td>\n",
       "      <td>scotthamilton</td>\n",
       "      <td>is upset that he can't update his Facebook by ...</td>\n",
       "    </tr>\n",
       "    <tr>\n",
       "      <th>2</th>\n",
       "      <td>0</td>\n",
       "      <td>1467810917</td>\n",
       "      <td>Mon Apr 06 22:19:53 PDT 2009</td>\n",
       "      <td>NO_QUERY</td>\n",
       "      <td>mattycus</td>\n",
       "      <td>@Kenichan I dived many times for the ball. Man...</td>\n",
       "    </tr>\n",
       "    <tr>\n",
       "      <th>3</th>\n",
       "      <td>0</td>\n",
       "      <td>1467811184</td>\n",
       "      <td>Mon Apr 06 22:19:57 PDT 2009</td>\n",
       "      <td>NO_QUERY</td>\n",
       "      <td>ElleCTF</td>\n",
       "      <td>my whole body feels itchy and like its on fire</td>\n",
       "    </tr>\n",
       "    <tr>\n",
       "      <th>4</th>\n",
       "      <td>0</td>\n",
       "      <td>1467811193</td>\n",
       "      <td>Mon Apr 06 22:19:57 PDT 2009</td>\n",
       "      <td>NO_QUERY</td>\n",
       "      <td>Karoli</td>\n",
       "      <td>@nationwideclass no, it's not behaving at all....</td>\n",
       "    </tr>\n",
       "  </tbody>\n",
       "</table>\n",
       "</div>"
      ],
      "text/plain": [
       "   0           1                             2         3                4  \\\n",
       "0  0  1467810369  Mon Apr 06 22:19:45 PDT 2009  NO_QUERY  _TheSpecialOne_   \n",
       "1  0  1467810672  Mon Apr 06 22:19:49 PDT 2009  NO_QUERY    scotthamilton   \n",
       "2  0  1467810917  Mon Apr 06 22:19:53 PDT 2009  NO_QUERY         mattycus   \n",
       "3  0  1467811184  Mon Apr 06 22:19:57 PDT 2009  NO_QUERY          ElleCTF   \n",
       "4  0  1467811193  Mon Apr 06 22:19:57 PDT 2009  NO_QUERY           Karoli   \n",
       "\n",
       "                                                   5  \n",
       "0  @switchfoot http://twitpic.com/2y1zl - Awww, t...  \n",
       "1  is upset that he can't update his Facebook by ...  \n",
       "2  @Kenichan I dived many times for the ball. Man...  \n",
       "3    my whole body feels itchy and like its on fire   \n",
       "4  @nationwideclass no, it's not behaving at all....  "
      ]
     },
     "execution_count": 5,
     "metadata": {},
     "output_type": "execute_result"
    }
   ],
   "source": [
    "df.head()"
   ]
  },
  {
   "cell_type": "code",
   "execution_count": 7,
   "metadata": {},
   "outputs": [],
   "source": [
    "df = df[[5,0]] # we only need 0th column which is our target or response variable and 5th column(feature variable) for this project"
   ]
  },
  {
   "cell_type": "code",
   "execution_count": 8,
   "metadata": {},
   "outputs": [
    {
     "data": {
      "text/html": [
       "<div>\n",
       "<style scoped>\n",
       "    .dataframe tbody tr th:only-of-type {\n",
       "        vertical-align: middle;\n",
       "    }\n",
       "\n",
       "    .dataframe tbody tr th {\n",
       "        vertical-align: top;\n",
       "    }\n",
       "\n",
       "    .dataframe thead th {\n",
       "        text-align: right;\n",
       "    }\n",
       "</style>\n",
       "<table border=\"1\" class=\"dataframe\">\n",
       "  <thead>\n",
       "    <tr style=\"text-align: right;\">\n",
       "      <th></th>\n",
       "      <th>tweets</th>\n",
       "      <th>sentiment</th>\n",
       "    </tr>\n",
       "  </thead>\n",
       "  <tbody>\n",
       "    <tr>\n",
       "      <th>0</th>\n",
       "      <td>@switchfoot http://twitpic.com/2y1zl - Awww, t...</td>\n",
       "      <td>0</td>\n",
       "    </tr>\n",
       "    <tr>\n",
       "      <th>1</th>\n",
       "      <td>is upset that he can't update his Facebook by ...</td>\n",
       "      <td>0</td>\n",
       "    </tr>\n",
       "    <tr>\n",
       "      <th>2</th>\n",
       "      <td>@Kenichan I dived many times for the ball. Man...</td>\n",
       "      <td>0</td>\n",
       "    </tr>\n",
       "    <tr>\n",
       "      <th>3</th>\n",
       "      <td>my whole body feels itchy and like its on fire</td>\n",
       "      <td>0</td>\n",
       "    </tr>\n",
       "    <tr>\n",
       "      <th>4</th>\n",
       "      <td>@nationwideclass no, it's not behaving at all....</td>\n",
       "      <td>0</td>\n",
       "    </tr>\n",
       "  </tbody>\n",
       "</table>\n",
       "</div>"
      ],
      "text/plain": [
       "                                              tweets  sentiment\n",
       "0  @switchfoot http://twitpic.com/2y1zl - Awww, t...          0\n",
       "1  is upset that he can't update his Facebook by ...          0\n",
       "2  @Kenichan I dived many times for the ball. Man...          0\n",
       "3    my whole body feels itchy and like its on fire           0\n",
       "4  @nationwideclass no, it's not behaving at all....          0"
      ]
     },
     "execution_count": 8,
     "metadata": {},
     "output_type": "execute_result"
    }
   ],
   "source": [
    "df.columns = ['tweets', 'sentiment']\n",
    "df.head()"
   ]
  },
  {
   "cell_type": "code",
   "execution_count": 9,
   "metadata": {},
   "outputs": [
    {
     "data": {
      "text/plain": [
       "4    800000\n",
       "0    800000\n",
       "Name: sentiment, dtype: int64"
      ]
     },
     "execution_count": 9,
     "metadata": {},
     "output_type": "execute_result"
    }
   ],
   "source": [
    "df['sentiment'].value_counts()"
   ]
  },
  {
   "cell_type": "markdown",
   "metadata": {},
   "source": [
    "Here we have two classes under sentiment we gonna name them acc. to information provided with the dataset"
   ]
  },
  {
   "cell_type": "code",
   "execution_count": 10,
   "metadata": {},
   "outputs": [],
   "source": [
    "target_mapping = {0: 'negative', 4: 'positive'}"
   ]
  },
  {
   "cell_type": "markdown",
   "metadata": {},
   "source": [
    "## Step 2: Feature Extraction from the tweets"
   ]
  },
  {
   "cell_type": "markdown",
   "metadata": {},
   "source": [
    "### Word Count in each Tweets"
   ]
  },
  {
   "cell_type": "code",
   "execution_count": 26,
   "metadata": {},
   "outputs": [],
   "source": [
    "df['word_counts'] = df['tweets'].apply(lambda x: len(str(x).split())) #str func is used to convert numerical value and count them too"
   ]
  },
  {
   "cell_type": "code",
   "execution_count": 27,
   "metadata": {},
   "outputs": [
    {
     "data": {
      "text/html": [
       "<div>\n",
       "<style scoped>\n",
       "    .dataframe tbody tr th:only-of-type {\n",
       "        vertical-align: middle;\n",
       "    }\n",
       "\n",
       "    .dataframe tbody tr th {\n",
       "        vertical-align: top;\n",
       "    }\n",
       "\n",
       "    .dataframe thead th {\n",
       "        text-align: right;\n",
       "    }\n",
       "</style>\n",
       "<table border=\"1\" class=\"dataframe\">\n",
       "  <thead>\n",
       "    <tr style=\"text-align: right;\">\n",
       "      <th></th>\n",
       "      <th>tweets</th>\n",
       "      <th>sentiment</th>\n",
       "      <th>word_counts</th>\n",
       "    </tr>\n",
       "  </thead>\n",
       "  <tbody>\n",
       "    <tr>\n",
       "      <th>0</th>\n",
       "      <td>@switchfoot http://twitpic.com/2y1zl - Awww, t...</td>\n",
       "      <td>0</td>\n",
       "      <td>19</td>\n",
       "    </tr>\n",
       "    <tr>\n",
       "      <th>1</th>\n",
       "      <td>is upset that he can't update his Facebook by ...</td>\n",
       "      <td>0</td>\n",
       "      <td>21</td>\n",
       "    </tr>\n",
       "    <tr>\n",
       "      <th>2</th>\n",
       "      <td>@Kenichan I dived many times for the ball. Man...</td>\n",
       "      <td>0</td>\n",
       "      <td>18</td>\n",
       "    </tr>\n",
       "    <tr>\n",
       "      <th>3</th>\n",
       "      <td>my whole body feels itchy and like its on fire</td>\n",
       "      <td>0</td>\n",
       "      <td>10</td>\n",
       "    </tr>\n",
       "    <tr>\n",
       "      <th>4</th>\n",
       "      <td>@nationwideclass no, it's not behaving at all....</td>\n",
       "      <td>0</td>\n",
       "      <td>21</td>\n",
       "    </tr>\n",
       "  </tbody>\n",
       "</table>\n",
       "</div>"
      ],
      "text/plain": [
       "                                              tweets  sentiment  word_counts\n",
       "0  @switchfoot http://twitpic.com/2y1zl - Awww, t...          0           19\n",
       "1  is upset that he can't update his Facebook by ...          0           21\n",
       "2  @Kenichan I dived many times for the ball. Man...          0           18\n",
       "3    my whole body feels itchy and like its on fire           0           10\n",
       "4  @nationwideclass no, it's not behaving at all....          0           21"
      ]
     },
     "execution_count": 27,
     "metadata": {},
     "output_type": "execute_result"
    }
   ],
   "source": [
    "df.head()"
   ]
  },
  {
   "cell_type": "markdown",
   "metadata": {},
   "source": [
    "### Total characters in each tweets"
   ]
  },
  {
   "cell_type": "code",
   "execution_count": 28,
   "metadata": {},
   "outputs": [],
   "source": [
    "df['char_counts'] = df['tweets'].apply(lambda x: len(x))"
   ]
  },
  {
   "cell_type": "code",
   "execution_count": 29,
   "metadata": {},
   "outputs": [
    {
     "data": {
      "text/html": [
       "<div>\n",
       "<style scoped>\n",
       "    .dataframe tbody tr th:only-of-type {\n",
       "        vertical-align: middle;\n",
       "    }\n",
       "\n",
       "    .dataframe tbody tr th {\n",
       "        vertical-align: top;\n",
       "    }\n",
       "\n",
       "    .dataframe thead th {\n",
       "        text-align: right;\n",
       "    }\n",
       "</style>\n",
       "<table border=\"1\" class=\"dataframe\">\n",
       "  <thead>\n",
       "    <tr style=\"text-align: right;\">\n",
       "      <th></th>\n",
       "      <th>tweets</th>\n",
       "      <th>sentiment</th>\n",
       "      <th>word_counts</th>\n",
       "      <th>char_counts</th>\n",
       "    </tr>\n",
       "  </thead>\n",
       "  <tbody>\n",
       "    <tr>\n",
       "      <th>0</th>\n",
       "      <td>@switchfoot http://twitpic.com/2y1zl - Awww, t...</td>\n",
       "      <td>0</td>\n",
       "      <td>19</td>\n",
       "      <td>115</td>\n",
       "    </tr>\n",
       "    <tr>\n",
       "      <th>1</th>\n",
       "      <td>is upset that he can't update his Facebook by ...</td>\n",
       "      <td>0</td>\n",
       "      <td>21</td>\n",
       "      <td>111</td>\n",
       "    </tr>\n",
       "    <tr>\n",
       "      <th>2</th>\n",
       "      <td>@Kenichan I dived many times for the ball. Man...</td>\n",
       "      <td>0</td>\n",
       "      <td>18</td>\n",
       "      <td>89</td>\n",
       "    </tr>\n",
       "    <tr>\n",
       "      <th>3</th>\n",
       "      <td>my whole body feels itchy and like its on fire</td>\n",
       "      <td>0</td>\n",
       "      <td>10</td>\n",
       "      <td>47</td>\n",
       "    </tr>\n",
       "    <tr>\n",
       "      <th>4</th>\n",
       "      <td>@nationwideclass no, it's not behaving at all....</td>\n",
       "      <td>0</td>\n",
       "      <td>21</td>\n",
       "      <td>111</td>\n",
       "    </tr>\n",
       "  </tbody>\n",
       "</table>\n",
       "</div>"
      ],
      "text/plain": [
       "                                              tweets  sentiment  word_counts  \\\n",
       "0  @switchfoot http://twitpic.com/2y1zl - Awww, t...          0           19   \n",
       "1  is upset that he can't update his Facebook by ...          0           21   \n",
       "2  @Kenichan I dived many times for the ball. Man...          0           18   \n",
       "3    my whole body feels itchy and like its on fire           0           10   \n",
       "4  @nationwideclass no, it's not behaving at all....          0           21   \n",
       "\n",
       "   char_counts  \n",
       "0          115  \n",
       "1          111  \n",
       "2           89  \n",
       "3           47  \n",
       "4          111  "
      ]
     },
     "execution_count": 29,
     "metadata": {},
     "output_type": "execute_result"
    }
   ],
   "source": [
    "df.head()"
   ]
  },
  {
   "cell_type": "markdown",
   "metadata": {},
   "source": [
    "### Average word length"
   ]
  },
  {
   "cell_type": "code",
   "execution_count": 30,
   "metadata": {},
   "outputs": [
    {
     "data": {
      "text/plain": [
       "4.75"
      ]
     },
     "execution_count": 30,
     "metadata": {},
     "output_type": "execute_result"
    }
   ],
   "source": [
    "#Example\n",
    "len('Hello! how are you?')/4"
   ]
  },
  {
   "cell_type": "code",
   "execution_count": 31,
   "metadata": {},
   "outputs": [],
   "source": [
    "def get_avg_word_len(x):\n",
    "    words = x.split()\n",
    "    word_len = 0\n",
    "    for word in words:\n",
    "        word_len = word_len + len(word)\n",
    "    return word_len/len(words) # =!len(x)/len(words)"
   ]
  },
  {
   "cell_type": "code",
   "execution_count": 32,
   "metadata": {},
   "outputs": [],
   "source": [
    "df['avg_word_len'] = df['tweets'].apply(lambda x: get_avg_word_len(x))"
   ]
  },
  {
   "cell_type": "code",
   "execution_count": 33,
   "metadata": {},
   "outputs": [
    {
     "data": {
      "text/html": [
       "<div>\n",
       "<style scoped>\n",
       "    .dataframe tbody tr th:only-of-type {\n",
       "        vertical-align: middle;\n",
       "    }\n",
       "\n",
       "    .dataframe tbody tr th {\n",
       "        vertical-align: top;\n",
       "    }\n",
       "\n",
       "    .dataframe thead th {\n",
       "        text-align: right;\n",
       "    }\n",
       "</style>\n",
       "<table border=\"1\" class=\"dataframe\">\n",
       "  <thead>\n",
       "    <tr style=\"text-align: right;\">\n",
       "      <th></th>\n",
       "      <th>tweets</th>\n",
       "      <th>sentiment</th>\n",
       "      <th>word_counts</th>\n",
       "      <th>char_counts</th>\n",
       "      <th>avg_word_len</th>\n",
       "    </tr>\n",
       "  </thead>\n",
       "  <tbody>\n",
       "    <tr>\n",
       "      <th>0</th>\n",
       "      <td>@switchfoot http://twitpic.com/2y1zl - Awww, t...</td>\n",
       "      <td>0</td>\n",
       "      <td>19</td>\n",
       "      <td>115</td>\n",
       "      <td>5.052632</td>\n",
       "    </tr>\n",
       "    <tr>\n",
       "      <th>1</th>\n",
       "      <td>is upset that he can't update his Facebook by ...</td>\n",
       "      <td>0</td>\n",
       "      <td>21</td>\n",
       "      <td>111</td>\n",
       "      <td>4.285714</td>\n",
       "    </tr>\n",
       "    <tr>\n",
       "      <th>2</th>\n",
       "      <td>@Kenichan I dived many times for the ball. Man...</td>\n",
       "      <td>0</td>\n",
       "      <td>18</td>\n",
       "      <td>89</td>\n",
       "      <td>3.944444</td>\n",
       "    </tr>\n",
       "    <tr>\n",
       "      <th>3</th>\n",
       "      <td>my whole body feels itchy and like its on fire</td>\n",
       "      <td>0</td>\n",
       "      <td>10</td>\n",
       "      <td>47</td>\n",
       "      <td>3.700000</td>\n",
       "    </tr>\n",
       "    <tr>\n",
       "      <th>4</th>\n",
       "      <td>@nationwideclass no, it's not behaving at all....</td>\n",
       "      <td>0</td>\n",
       "      <td>21</td>\n",
       "      <td>111</td>\n",
       "      <td>4.285714</td>\n",
       "    </tr>\n",
       "  </tbody>\n",
       "</table>\n",
       "</div>"
      ],
      "text/plain": [
       "                                              tweets  sentiment  word_counts  \\\n",
       "0  @switchfoot http://twitpic.com/2y1zl - Awww, t...          0           19   \n",
       "1  is upset that he can't update his Facebook by ...          0           21   \n",
       "2  @Kenichan I dived many times for the ball. Man...          0           18   \n",
       "3    my whole body feels itchy and like its on fire           0           10   \n",
       "4  @nationwideclass no, it's not behaving at all....          0           21   \n",
       "\n",
       "   char_counts  avg_word_len  \n",
       "0          115      5.052632  \n",
       "1          111      4.285714  \n",
       "2           89      3.944444  \n",
       "3           47      3.700000  \n",
       "4          111      4.285714  "
      ]
     },
     "execution_count": 33,
     "metadata": {},
     "output_type": "execute_result"
    }
   ],
   "source": [
    "df.head()"
   ]
  },
  {
   "cell_type": "markdown",
   "metadata": {},
   "source": [
    "### Stop words count\n",
    "Those words which occurs frequently in the test data but context, syntactic meaning required, that's why sometimes this stop words are necessary\n",
    "\n",
    "Have a look on stop words"
   ]
  },
  {
   "cell_type": "code",
   "execution_count": 34,
   "metadata": {},
   "outputs": [
    {
     "name": "stdout",
     "output_type": "stream",
     "text": [
      "{'used', 'nevertheless', 'formerly', 'serious', 'he', 'us', 'mostly', 'you', 'why', 'go', 'at', 'sometime', 'if', 'with', 'they', 'while', \"n't\", 'wherein', '’ve', 'or', 'using', 'becomes', '’m', 'move', '’d', 'else', 'will', 'show', 'what', 'alone', 'such', 'that', 'be', 'whatever', 'was', 'amongst', 'many', 'off', 'put', 'sometimes', 'most', 'take', 'to', 'thru', 'same', 'twenty', 'beside', 'had', 'behind', 'six', 'can', 'under', 'there', 'than', 'along', 'here', 'wherever', 'her', 'before', 'then', 'beforehand', 'being', 'full', 'all', 'however', 'quite', 'even', 'everyone', 'somehow', 'we', 'those', 'during', 'though', 'hereby', 'him', 'my', 'three', 'herself', 'therein', 'but', 'besides', 'herein', 'front', 'almost', 'after', 'would', 'also', 'too', 'either', 'next', 'forty', 'already', 'so', 'mine', 'between', 'latterly', 'thereupon', \"'d\", 'this', 'see', 'amount', 'various', 're', 'a', 'became', 'for', 'now', '‘d', 'together', 'sixty', 'onto', 'your', 'become', 'everything', 'thence', 'regarding', 'towards', 'himself', 'both', 'other', '‘re', 'hereupon', 'well', 'another', 'fifty', \"'ve\", 'rather', 'of', 'is', 'several', 'hundred', 'has', 'once', 'again', 'no', 'down', 'on', '‘m', 'ten', 'does', 'someone', 'say', 'some', 'least', 'name', 'his', 'nor', 'thereafter', 'whoever', \"'ll\", 'which', '’re', 'only', 'really', 'latter', 'yourself', 'were', 'yourselves', 'whose', 'bottom', 'five', 'its', 'nine', 'hereafter', 'whenever', 'somewhere', 'everywhere', 'up', 'whole', 'eight', 'seems', 'hers', 'anything', 'n’t', 'nowhere', 'empty', 'whither', 'done', 'thus', 'whether', 'until', 'nobody', 'hence', 'top', 'across', 'part', 'last', 'the', 'are', 'none', 'whom', 'seeming', 'still', 'have', 'anywhere', 'per', 'ever', 'give', 'did', 'very', 'anyhow', 'afterwards', 'just', 'get', 'who', 'moreover', 'noone', 'except', 'others', 'twelve', 'becoming', 'within', '‘ll', 'throughout', 'back', 'made', 'by', 'any', 'and', 'am', 'via', 'these', 'anyone', 'an', 'nothing', '’s', '’ll', 'out', 'where', 'yet', 'never', 'above', '‘s', 'call', 'always', 'less', 'please', 'yours', 'into', 'third', 'among', 'been', 'about', 'around', 'should', '‘ve', 'beyond', 'few', 'whereas', 'their', 'in', 'seemed', 'could', 'whereby', 'n‘t', 'how', 'from', 'ourselves', 'against', 'further', 'without', 'must', 'first', 'might', 'otherwise', 'fifteen', 'myself', 'enough', 'she', 'keep', 'much', 'doing', \"'re\", 'since', 'thereby', 'it', 'when', 'often', 'meanwhile', 'ca', 'as', 'own', 'indeed', 'may', 'two', 'although', 'namely', 'itself', 'ours', 'cannot', 'through', 'me', 'upon', 'one', 'something', 'whence', 'side', 'perhaps', 'toward', 'over', 'them', 'former', 'make', 'four', 'therefore', 'anyway', 'due', 'our', \"'s\", 'because', 'themselves', 'whereupon', 'below', \"'m\", 'i', 'unless', 'neither', 'every', 'each', 'do', 'not', 'elsewhere', 'seem', 'eleven', 'more', 'whereafter'}\n"
     ]
    }
   ],
   "source": [
    "print(STOP_WORDS) "
   ]
  },
  {
   "cell_type": "code",
   "execution_count": 35,
   "metadata": {},
   "outputs": [],
   "source": [
    "x = 'this is a great example'"
   ]
  },
  {
   "cell_type": "code",
   "execution_count": 36,
   "metadata": {
    "scrolled": true
   },
   "outputs": [
    {
     "data": {
      "text/plain": [
       "['this', 'is', 'a', 'great', 'example']"
      ]
     },
     "execution_count": 36,
     "metadata": {},
     "output_type": "execute_result"
    }
   ],
   "source": [
    "x.split()"
   ]
  },
  {
   "cell_type": "code",
   "execution_count": 37,
   "metadata": {},
   "outputs": [
    {
     "data": {
      "text/plain": [
       "['this', 'is', 'a']"
      ]
     },
     "execution_count": 37,
     "metadata": {},
     "output_type": "execute_result"
    }
   ],
   "source": [
    "[t for t in x.split() if t in STOP_WORDS]"
   ]
  },
  {
   "cell_type": "code",
   "execution_count": 38,
   "metadata": {},
   "outputs": [
    {
     "data": {
      "text/plain": [
       "3"
      ]
     },
     "execution_count": 38,
     "metadata": {},
     "output_type": "execute_result"
    }
   ],
   "source": [
    "len([t for t in x.split() if t in STOP_WORDS])"
   ]
  },
  {
   "cell_type": "markdown",
   "metadata": {},
   "source": [
    "Similarly we are going to count the stop words in each tweets"
   ]
  },
  {
   "cell_type": "code",
   "execution_count": 40,
   "metadata": {},
   "outputs": [],
   "source": [
    "df['stop_words_len'] = df['tweets'].apply(lambda x: len([t for t in x.split() if t in STOP_WORDS]))"
   ]
  },
  {
   "cell_type": "code",
   "execution_count": 41,
   "metadata": {},
   "outputs": [
    {
     "data": {
      "text/html": [
       "<div>\n",
       "<style scoped>\n",
       "    .dataframe tbody tr th:only-of-type {\n",
       "        vertical-align: middle;\n",
       "    }\n",
       "\n",
       "    .dataframe tbody tr th {\n",
       "        vertical-align: top;\n",
       "    }\n",
       "\n",
       "    .dataframe thead th {\n",
       "        text-align: right;\n",
       "    }\n",
       "</style>\n",
       "<table border=\"1\" class=\"dataframe\">\n",
       "  <thead>\n",
       "    <tr style=\"text-align: right;\">\n",
       "      <th></th>\n",
       "      <th>tweets</th>\n",
       "      <th>sentiment</th>\n",
       "      <th>word_counts</th>\n",
       "      <th>char_counts</th>\n",
       "      <th>avg_word_len</th>\n",
       "      <th>stop_words_len</th>\n",
       "    </tr>\n",
       "  </thead>\n",
       "  <tbody>\n",
       "    <tr>\n",
       "      <th>0</th>\n",
       "      <td>@switchfoot http://twitpic.com/2y1zl - Awww, t...</td>\n",
       "      <td>0</td>\n",
       "      <td>19</td>\n",
       "      <td>115</td>\n",
       "      <td>5.052632</td>\n",
       "      <td>4</td>\n",
       "    </tr>\n",
       "    <tr>\n",
       "      <th>1</th>\n",
       "      <td>is upset that he can't update his Facebook by ...</td>\n",
       "      <td>0</td>\n",
       "      <td>21</td>\n",
       "      <td>111</td>\n",
       "      <td>4.285714</td>\n",
       "      <td>9</td>\n",
       "    </tr>\n",
       "    <tr>\n",
       "      <th>2</th>\n",
       "      <td>@Kenichan I dived many times for the ball. Man...</td>\n",
       "      <td>0</td>\n",
       "      <td>18</td>\n",
       "      <td>89</td>\n",
       "      <td>3.944444</td>\n",
       "      <td>7</td>\n",
       "    </tr>\n",
       "    <tr>\n",
       "      <th>3</th>\n",
       "      <td>my whole body feels itchy and like its on fire</td>\n",
       "      <td>0</td>\n",
       "      <td>10</td>\n",
       "      <td>47</td>\n",
       "      <td>3.700000</td>\n",
       "      <td>5</td>\n",
       "    </tr>\n",
       "    <tr>\n",
       "      <th>4</th>\n",
       "      <td>@nationwideclass no, it's not behaving at all....</td>\n",
       "      <td>0</td>\n",
       "      <td>21</td>\n",
       "      <td>111</td>\n",
       "      <td>4.285714</td>\n",
       "      <td>10</td>\n",
       "    </tr>\n",
       "  </tbody>\n",
       "</table>\n",
       "</div>"
      ],
      "text/plain": [
       "                                              tweets  sentiment  word_counts  \\\n",
       "0  @switchfoot http://twitpic.com/2y1zl - Awww, t...          0           19   \n",
       "1  is upset that he can't update his Facebook by ...          0           21   \n",
       "2  @Kenichan I dived many times for the ball. Man...          0           18   \n",
       "3    my whole body feels itchy and like its on fire           0           10   \n",
       "4  @nationwideclass no, it's not behaving at all....          0           21   \n",
       "\n",
       "   char_counts  avg_word_len  stop_words_len  \n",
       "0          115      5.052632               4  \n",
       "1          111      4.285714               9  \n",
       "2           89      3.944444               7  \n",
       "3           47      3.700000               5  \n",
       "4          111      4.285714              10  "
      ]
     },
     "execution_count": 41,
     "metadata": {},
     "output_type": "execute_result"
    }
   ],
   "source": [
    "df.head()"
   ]
  },
  {
   "cell_type": "markdown",
   "metadata": {},
   "source": [
    "### Count #Hashtags and @Mentions on the each tweets"
   ]
  },
  {
   "cell_type": "code",
   "execution_count": 42,
   "metadata": {},
   "outputs": [],
   "source": [
    "x = 'this is #hastag and this is @mention'\n",
    "# x = x.split()\n",
    "# x"
   ]
  },
  {
   "cell_type": "code",
   "execution_count": 43,
   "metadata": {},
   "outputs": [
    {
     "data": {
      "text/plain": [
       "['@mention']"
      ]
     },
     "execution_count": 43,
     "metadata": {},
     "output_type": "execute_result"
    }
   ],
   "source": [
    "[t for t in x.split() if t.startswith('@')]"
   ]
  },
  {
   "cell_type": "code",
   "execution_count": 44,
   "metadata": {},
   "outputs": [],
   "source": [
    "df['hashtags_count'] = df['tweets'].apply(lambda x: len([t for t in x.split() if t.startswith('#')]))\n",
    "df['mentions_count'] = df['tweets'].apply(lambda x: len([t for t in x.split() if t.startswith('@')]))"
   ]
  },
  {
   "cell_type": "code",
   "execution_count": 45,
   "metadata": {},
   "outputs": [
    {
     "data": {
      "text/html": [
       "<div>\n",
       "<style scoped>\n",
       "    .dataframe tbody tr th:only-of-type {\n",
       "        vertical-align: middle;\n",
       "    }\n",
       "\n",
       "    .dataframe tbody tr th {\n",
       "        vertical-align: top;\n",
       "    }\n",
       "\n",
       "    .dataframe thead th {\n",
       "        text-align: right;\n",
       "    }\n",
       "</style>\n",
       "<table border=\"1\" class=\"dataframe\">\n",
       "  <thead>\n",
       "    <tr style=\"text-align: right;\">\n",
       "      <th></th>\n",
       "      <th>tweets</th>\n",
       "      <th>sentiment</th>\n",
       "      <th>word_counts</th>\n",
       "      <th>char_counts</th>\n",
       "      <th>avg_word_len</th>\n",
       "      <th>stop_words_len</th>\n",
       "      <th>hashtags_count</th>\n",
       "      <th>mentions_count</th>\n",
       "    </tr>\n",
       "  </thead>\n",
       "  <tbody>\n",
       "    <tr>\n",
       "      <th>0</th>\n",
       "      <td>@switchfoot http://twitpic.com/2y1zl - Awww, t...</td>\n",
       "      <td>0</td>\n",
       "      <td>19</td>\n",
       "      <td>115</td>\n",
       "      <td>5.052632</td>\n",
       "      <td>4</td>\n",
       "      <td>0</td>\n",
       "      <td>1</td>\n",
       "    </tr>\n",
       "    <tr>\n",
       "      <th>1</th>\n",
       "      <td>is upset that he can't update his Facebook by ...</td>\n",
       "      <td>0</td>\n",
       "      <td>21</td>\n",
       "      <td>111</td>\n",
       "      <td>4.285714</td>\n",
       "      <td>9</td>\n",
       "      <td>0</td>\n",
       "      <td>0</td>\n",
       "    </tr>\n",
       "    <tr>\n",
       "      <th>2</th>\n",
       "      <td>@Kenichan I dived many times for the ball. Man...</td>\n",
       "      <td>0</td>\n",
       "      <td>18</td>\n",
       "      <td>89</td>\n",
       "      <td>3.944444</td>\n",
       "      <td>7</td>\n",
       "      <td>0</td>\n",
       "      <td>1</td>\n",
       "    </tr>\n",
       "    <tr>\n",
       "      <th>3</th>\n",
       "      <td>my whole body feels itchy and like its on fire</td>\n",
       "      <td>0</td>\n",
       "      <td>10</td>\n",
       "      <td>47</td>\n",
       "      <td>3.700000</td>\n",
       "      <td>5</td>\n",
       "      <td>0</td>\n",
       "      <td>0</td>\n",
       "    </tr>\n",
       "    <tr>\n",
       "      <th>4</th>\n",
       "      <td>@nationwideclass no, it's not behaving at all....</td>\n",
       "      <td>0</td>\n",
       "      <td>21</td>\n",
       "      <td>111</td>\n",
       "      <td>4.285714</td>\n",
       "      <td>10</td>\n",
       "      <td>0</td>\n",
       "      <td>1</td>\n",
       "    </tr>\n",
       "  </tbody>\n",
       "</table>\n",
       "</div>"
      ],
      "text/plain": [
       "                                              tweets  sentiment  word_counts  \\\n",
       "0  @switchfoot http://twitpic.com/2y1zl - Awww, t...          0           19   \n",
       "1  is upset that he can't update his Facebook by ...          0           21   \n",
       "2  @Kenichan I dived many times for the ball. Man...          0           18   \n",
       "3    my whole body feels itchy and like its on fire           0           10   \n",
       "4  @nationwideclass no, it's not behaving at all....          0           21   \n",
       "\n",
       "   char_counts  avg_word_len  stop_words_len  hashtags_count  mentions_count  \n",
       "0          115      5.052632               4               0               1  \n",
       "1          111      4.285714               9               0               0  \n",
       "2           89      3.944444               7               0               1  \n",
       "3           47      3.700000               5               0               0  \n",
       "4          111      4.285714              10               0               1  "
      ]
     },
     "execution_count": 45,
     "metadata": {},
     "output_type": "execute_result"
    }
   ],
   "source": [
    "df.head()"
   ]
  },
  {
   "cell_type": "markdown",
   "metadata": {},
   "source": [
    "### To check if numerical digits are present in the Tweets"
   ]
  },
  {
   "cell_type": "code",
   "execution_count": 46,
   "metadata": {},
   "outputs": [],
   "source": [
    "df['numeric_count'] = df['tweets'].apply(lambda x: len([t for t in x.split() if t.isdigit()]))"
   ]
  },
  {
   "cell_type": "code",
   "execution_count": 47,
   "metadata": {},
   "outputs": [
    {
     "data": {
      "text/html": [
       "<div>\n",
       "<style scoped>\n",
       "    .dataframe tbody tr th:only-of-type {\n",
       "        vertical-align: middle;\n",
       "    }\n",
       "\n",
       "    .dataframe tbody tr th {\n",
       "        vertical-align: top;\n",
       "    }\n",
       "\n",
       "    .dataframe thead th {\n",
       "        text-align: right;\n",
       "    }\n",
       "</style>\n",
       "<table border=\"1\" class=\"dataframe\">\n",
       "  <thead>\n",
       "    <tr style=\"text-align: right;\">\n",
       "      <th></th>\n",
       "      <th>tweets</th>\n",
       "      <th>sentiment</th>\n",
       "      <th>word_counts</th>\n",
       "      <th>char_counts</th>\n",
       "      <th>avg_word_len</th>\n",
       "      <th>stop_words_len</th>\n",
       "      <th>hashtags_count</th>\n",
       "      <th>mentions_count</th>\n",
       "      <th>numeric_count</th>\n",
       "    </tr>\n",
       "  </thead>\n",
       "  <tbody>\n",
       "    <tr>\n",
       "      <th>0</th>\n",
       "      <td>@switchfoot http://twitpic.com/2y1zl - Awww, t...</td>\n",
       "      <td>0</td>\n",
       "      <td>19</td>\n",
       "      <td>115</td>\n",
       "      <td>5.052632</td>\n",
       "      <td>4</td>\n",
       "      <td>0</td>\n",
       "      <td>1</td>\n",
       "      <td>0</td>\n",
       "    </tr>\n",
       "    <tr>\n",
       "      <th>1</th>\n",
       "      <td>is upset that he can't update his Facebook by ...</td>\n",
       "      <td>0</td>\n",
       "      <td>21</td>\n",
       "      <td>111</td>\n",
       "      <td>4.285714</td>\n",
       "      <td>9</td>\n",
       "      <td>0</td>\n",
       "      <td>0</td>\n",
       "      <td>0</td>\n",
       "    </tr>\n",
       "    <tr>\n",
       "      <th>2</th>\n",
       "      <td>@Kenichan I dived many times for the ball. Man...</td>\n",
       "      <td>0</td>\n",
       "      <td>18</td>\n",
       "      <td>89</td>\n",
       "      <td>3.944444</td>\n",
       "      <td>7</td>\n",
       "      <td>0</td>\n",
       "      <td>1</td>\n",
       "      <td>0</td>\n",
       "    </tr>\n",
       "    <tr>\n",
       "      <th>3</th>\n",
       "      <td>my whole body feels itchy and like its on fire</td>\n",
       "      <td>0</td>\n",
       "      <td>10</td>\n",
       "      <td>47</td>\n",
       "      <td>3.700000</td>\n",
       "      <td>5</td>\n",
       "      <td>0</td>\n",
       "      <td>0</td>\n",
       "      <td>0</td>\n",
       "    </tr>\n",
       "    <tr>\n",
       "      <th>4</th>\n",
       "      <td>@nationwideclass no, it's not behaving at all....</td>\n",
       "      <td>0</td>\n",
       "      <td>21</td>\n",
       "      <td>111</td>\n",
       "      <td>4.285714</td>\n",
       "      <td>10</td>\n",
       "      <td>0</td>\n",
       "      <td>1</td>\n",
       "      <td>0</td>\n",
       "    </tr>\n",
       "  </tbody>\n",
       "</table>\n",
       "</div>"
      ],
      "text/plain": [
       "                                              tweets  sentiment  word_counts  \\\n",
       "0  @switchfoot http://twitpic.com/2y1zl - Awww, t...          0           19   \n",
       "1  is upset that he can't update his Facebook by ...          0           21   \n",
       "2  @Kenichan I dived many times for the ball. Man...          0           18   \n",
       "3    my whole body feels itchy and like its on fire           0           10   \n",
       "4  @nationwideclass no, it's not behaving at all....          0           21   \n",
       "\n",
       "   char_counts  avg_word_len  stop_words_len  hashtags_count  mentions_count  \\\n",
       "0          115      5.052632               4               0               1   \n",
       "1          111      4.285714               9               0               0   \n",
       "2           89      3.944444               7               0               1   \n",
       "3           47      3.700000               5               0               0   \n",
       "4          111      4.285714              10               0               1   \n",
       "\n",
       "   numeric_count  \n",
       "0              0  \n",
       "1              0  \n",
       "2              0  \n",
       "3              0  \n",
       "4              0  "
      ]
     },
     "execution_count": 47,
     "metadata": {},
     "output_type": "execute_result"
    }
   ],
   "source": [
    "df.head()"
   ]
  },
  {
   "cell_type": "code",
   "execution_count": 48,
   "metadata": {},
   "outputs": [
    {
     "data": {
      "text/plain": [
       "array([ 0,  1,  2,  3,  4,  5,  6,  9,  8,  7, 13], dtype=int64)"
      ]
     },
     "execution_count": 48,
     "metadata": {},
     "output_type": "execute_result"
    }
   ],
   "source": [
    "df.numeric_count.unique()"
   ]
  },
  {
   "cell_type": "markdown",
   "metadata": {},
   "source": [
    "we have lot of numerical data present in the tweets"
   ]
  },
  {
   "cell_type": "markdown",
   "metadata": {},
   "source": [
    "### Upper case words count"
   ]
  },
  {
   "cell_type": "code",
   "execution_count": 49,
   "metadata": {},
   "outputs": [],
   "source": [
    "df['upper_counts'] = df['tweets'].apply(lambda x: len([t for t in x.split() if t.isupper() and len(x)>3]))"
   ]
  },
  {
   "cell_type": "code",
   "execution_count": 50,
   "metadata": {},
   "outputs": [
    {
     "data": {
      "text/html": [
       "<div>\n",
       "<style scoped>\n",
       "    .dataframe tbody tr th:only-of-type {\n",
       "        vertical-align: middle;\n",
       "    }\n",
       "\n",
       "    .dataframe tbody tr th {\n",
       "        vertical-align: top;\n",
       "    }\n",
       "\n",
       "    .dataframe thead th {\n",
       "        text-align: right;\n",
       "    }\n",
       "</style>\n",
       "<table border=\"1\" class=\"dataframe\">\n",
       "  <thead>\n",
       "    <tr style=\"text-align: right;\">\n",
       "      <th></th>\n",
       "      <th>tweets</th>\n",
       "      <th>sentiment</th>\n",
       "      <th>word_counts</th>\n",
       "      <th>char_counts</th>\n",
       "      <th>avg_word_len</th>\n",
       "      <th>stop_words_len</th>\n",
       "      <th>hashtags_count</th>\n",
       "      <th>mentions_count</th>\n",
       "      <th>numeric_count</th>\n",
       "      <th>upper_counts</th>\n",
       "    </tr>\n",
       "  </thead>\n",
       "  <tbody>\n",
       "    <tr>\n",
       "      <th>0</th>\n",
       "      <td>@switchfoot http://twitpic.com/2y1zl - Awww, t...</td>\n",
       "      <td>0</td>\n",
       "      <td>19</td>\n",
       "      <td>115</td>\n",
       "      <td>5.052632</td>\n",
       "      <td>4</td>\n",
       "      <td>0</td>\n",
       "      <td>1</td>\n",
       "      <td>0</td>\n",
       "      <td>1</td>\n",
       "    </tr>\n",
       "    <tr>\n",
       "      <th>1</th>\n",
       "      <td>is upset that he can't update his Facebook by ...</td>\n",
       "      <td>0</td>\n",
       "      <td>21</td>\n",
       "      <td>111</td>\n",
       "      <td>4.285714</td>\n",
       "      <td>9</td>\n",
       "      <td>0</td>\n",
       "      <td>0</td>\n",
       "      <td>0</td>\n",
       "      <td>0</td>\n",
       "    </tr>\n",
       "    <tr>\n",
       "      <th>2</th>\n",
       "      <td>@Kenichan I dived many times for the ball. Man...</td>\n",
       "      <td>0</td>\n",
       "      <td>18</td>\n",
       "      <td>89</td>\n",
       "      <td>3.944444</td>\n",
       "      <td>7</td>\n",
       "      <td>0</td>\n",
       "      <td>1</td>\n",
       "      <td>0</td>\n",
       "      <td>1</td>\n",
       "    </tr>\n",
       "    <tr>\n",
       "      <th>3</th>\n",
       "      <td>my whole body feels itchy and like its on fire</td>\n",
       "      <td>0</td>\n",
       "      <td>10</td>\n",
       "      <td>47</td>\n",
       "      <td>3.700000</td>\n",
       "      <td>5</td>\n",
       "      <td>0</td>\n",
       "      <td>0</td>\n",
       "      <td>0</td>\n",
       "      <td>0</td>\n",
       "    </tr>\n",
       "    <tr>\n",
       "      <th>4</th>\n",
       "      <td>@nationwideclass no, it's not behaving at all....</td>\n",
       "      <td>0</td>\n",
       "      <td>21</td>\n",
       "      <td>111</td>\n",
       "      <td>4.285714</td>\n",
       "      <td>10</td>\n",
       "      <td>0</td>\n",
       "      <td>1</td>\n",
       "      <td>0</td>\n",
       "      <td>1</td>\n",
       "    </tr>\n",
       "  </tbody>\n",
       "</table>\n",
       "</div>"
      ],
      "text/plain": [
       "                                              tweets  sentiment  word_counts  \\\n",
       "0  @switchfoot http://twitpic.com/2y1zl - Awww, t...          0           19   \n",
       "1  is upset that he can't update his Facebook by ...          0           21   \n",
       "2  @Kenichan I dived many times for the ball. Man...          0           18   \n",
       "3    my whole body feels itchy and like its on fire           0           10   \n",
       "4  @nationwideclass no, it's not behaving at all....          0           21   \n",
       "\n",
       "   char_counts  avg_word_len  stop_words_len  hashtags_count  mentions_count  \\\n",
       "0          115      5.052632               4               0               1   \n",
       "1          111      4.285714               9               0               0   \n",
       "2           89      3.944444               7               0               1   \n",
       "3           47      3.700000               5               0               0   \n",
       "4          111      4.285714              10               0               1   \n",
       "\n",
       "   numeric_count  upper_counts  \n",
       "0              0             1  \n",
       "1              0             0  \n",
       "2              0             1  \n",
       "3              0             0  \n",
       "4              0             1  "
      ]
     },
     "execution_count": 50,
     "metadata": {},
     "output_type": "execute_result"
    }
   ],
   "source": [
    "df.head()"
   ]
  },
  {
   "cell_type": "code",
   "execution_count": 56,
   "metadata": {},
   "outputs": [
    {
     "data": {
      "text/plain": [
       "array([ 1,  0,  3,  2,  5,  4,  6, 13,  8, 24,  7,  9, 22, 27, 20, 11, 10,\n",
       "       14, 12, 16, 17, 21, 15, 18, 19, 25, 23, 28, 26, 29, 30, 31, 40],\n",
       "      dtype=int64)"
      ]
     },
     "execution_count": 56,
     "metadata": {},
     "output_type": "execute_result"
    }
   ],
   "source": [
    "df.upper_counts.unique()"
   ]
  },
  {
   "cell_type": "code",
   "execution_count": 62,
   "metadata": {},
   "outputs": [
    {
     "data": {
      "text/plain": [
       "'@Kenichan I dived many times for the ball. Managed to save 50%  The rest go out of bounds'"
      ]
     },
     "execution_count": 62,
     "metadata": {},
     "output_type": "execute_result"
    }
   ],
   "source": [
    "df.loc[2]['tweets']"
   ]
  },
  {
   "cell_type": "markdown",
   "metadata": {},
   "source": [
    "## Step 3:  Preprocessing and Cleaning"
   ]
  },
  {
   "cell_type": "markdown",
   "metadata": {},
   "source": [
    "### Lower case conversion of each tweets"
   ]
  },
  {
   "cell_type": "code",
   "execution_count": 63,
   "metadata": {},
   "outputs": [],
   "source": [
    "df['tweets'] = df['tweets'].apply(lambda x: x.lower())"
   ]
  },
  {
   "cell_type": "code",
   "execution_count": 64,
   "metadata": {},
   "outputs": [
    {
     "data": {
      "text/html": [
       "<div>\n",
       "<style scoped>\n",
       "    .dataframe tbody tr th:only-of-type {\n",
       "        vertical-align: middle;\n",
       "    }\n",
       "\n",
       "    .dataframe tbody tr th {\n",
       "        vertical-align: top;\n",
       "    }\n",
       "\n",
       "    .dataframe thead th {\n",
       "        text-align: right;\n",
       "    }\n",
       "</style>\n",
       "<table border=\"1\" class=\"dataframe\">\n",
       "  <thead>\n",
       "    <tr style=\"text-align: right;\">\n",
       "      <th></th>\n",
       "      <th>tweets</th>\n",
       "      <th>sentiment</th>\n",
       "      <th>word_counts</th>\n",
       "      <th>char_counts</th>\n",
       "      <th>avg_word_len</th>\n",
       "      <th>stop_words_len</th>\n",
       "      <th>hashtags_count</th>\n",
       "      <th>mentions_count</th>\n",
       "      <th>numeric_count</th>\n",
       "      <th>upper_counts</th>\n",
       "    </tr>\n",
       "  </thead>\n",
       "  <tbody>\n",
       "    <tr>\n",
       "      <th>0</th>\n",
       "      <td>@switchfoot http://twitpic.com/2y1zl - awww, t...</td>\n",
       "      <td>0</td>\n",
       "      <td>19</td>\n",
       "      <td>115</td>\n",
       "      <td>5.052632</td>\n",
       "      <td>4</td>\n",
       "      <td>0</td>\n",
       "      <td>1</td>\n",
       "      <td>0</td>\n",
       "      <td>1</td>\n",
       "    </tr>\n",
       "    <tr>\n",
       "      <th>1</th>\n",
       "      <td>is upset that he can't update his facebook by ...</td>\n",
       "      <td>0</td>\n",
       "      <td>21</td>\n",
       "      <td>111</td>\n",
       "      <td>4.285714</td>\n",
       "      <td>9</td>\n",
       "      <td>0</td>\n",
       "      <td>0</td>\n",
       "      <td>0</td>\n",
       "      <td>0</td>\n",
       "    </tr>\n",
       "  </tbody>\n",
       "</table>\n",
       "</div>"
      ],
      "text/plain": [
       "                                              tweets  sentiment  word_counts  \\\n",
       "0  @switchfoot http://twitpic.com/2y1zl - awww, t...          0           19   \n",
       "1  is upset that he can't update his facebook by ...          0           21   \n",
       "\n",
       "   char_counts  avg_word_len  stop_words_len  hashtags_count  mentions_count  \\\n",
       "0          115      5.052632               4               0               1   \n",
       "1          111      4.285714               9               0               0   \n",
       "\n",
       "   numeric_count  upper_counts  \n",
       "0              0             1  \n",
       "1              0             0  "
      ]
     },
     "execution_count": 64,
     "metadata": {},
     "output_type": "execute_result"
    }
   ],
   "source": [
    "df.head(2)"
   ]
  },
  {
   "cell_type": "markdown",
   "metadata": {},
   "source": [
    "### Contraction to Expansion \n",
    "Source : https://stackoverflow.com/questions/19790188/expanding-english-language-contractions-in-python"
   ]
  },
  {
   "cell_type": "code",
   "execution_count": 70,
   "metadata": {},
   "outputs": [],
   "source": [
    "contractions = { \n",
    "\"ain't\": \"am not / are not / is not / has not / have not\",\n",
    "\"aren't\": \"are not / am not\",\n",
    "\"can't\": \"cannot\",\n",
    "\"can't've\": \"cannot have\",\n",
    "\"'cause\": \"because\",\n",
    "\"could've\": \"could have\",\n",
    "\"couldn't\": \"could not\",\n",
    "\"couldn't've\": \"could not have\",\n",
    "\"didn't\": \"did not\",\n",
    "\"doesn't\": \"does not\",\n",
    "\"don't\": \"do not\",\n",
    "\"hadn't\": \"had not\",\n",
    "\"hadn't've\": \"had not have\",\n",
    "\"hasn't\": \"has not\",\n",
    "\"haven't\": \"have not\",\n",
    "\"he'd\": \"he had / he would\",\n",
    "\"he'd've\": \"he would have\",\n",
    "\"he'll\": \"he shall / he will\",\n",
    "\"he'll've\": \"he shall have / he will have\",\n",
    "\"he's\": \"he has / he is\",\n",
    "\"how'd\": \"how did\",\n",
    "\"how'd'y\": \"how do you\",\n",
    "\"how'll\": \"how will\",\n",
    "\"how's\": \"how has / how is / how does\",\n",
    "\"I'd\": \"I had / I would\",\n",
    "\"I'd've\": \"I would have\",\n",
    "\"I'll\": \"I shall / I will\",\n",
    "\"I'll've\": \"I shall have / I will have\",\n",
    "\"I'm\": \"I am\",\n",
    "\"I've\": \"I have\",\n",
    "\"i'd\": \"i had / i would\",\n",
    "\"i'd've\": \"i would have\",\n",
    "\"i'll\": \"i shall / i will\",\n",
    "\"i'll've\": \"i shall have / i will have\",\n",
    "\"i'm\": \"i am\",\n",
    "\"i've\": \"i have\",\n",
    "\"isn't\": \"is not\",\n",
    "\"it'd\": \"it had / it would\",\n",
    "\"it'd've\": \"it would have\",\n",
    "\"it'll\": \"it shall / it will\",\n",
    "\"it'll've\": \"it shall have / it will have\",\n",
    "\"it's\": \"it has / it is\",\n",
    "\"let's\": \"let us\",\n",
    "\"ma'am\": \"madam\",\n",
    "\"mayn't\": \"may not\",\n",
    "\"might've\": \"might have\",\n",
    "\"mightn't\": \"might not\",\n",
    "\"mightn't've\": \"might not have\",\n",
    "\"must've\": \"must have\",\n",
    "\"mustn't\": \"must not\",\n",
    "\"mustn't've\": \"must not have\",\n",
    "\"needn't\": \"need not\",\n",
    "\"needn't've\": \"need not have\",\n",
    "\"o'clock\": \"of the clock\",\n",
    "\"oughtn't\": \"ought not\",\n",
    "\"oughtn't've\": \"ought not have\",\n",
    "\"shan't\": \"shall not\",\n",
    "\"sha'n't\": \"shall not\",\n",
    "\"shan't've\": \"shall not have\",\n",
    "\"she'd\": \"she had / she would\",\n",
    "\"she'd've\": \"she would have\",\n",
    "\"she'll\": \"she shall / she will\",\n",
    "\"she'll've\": \"she shall have / she will have\",\n",
    "\"she's\": \"she has / she is\",\n",
    "\"should've\": \"should have\",\n",
    "\"shouldn't\": \"should not\",\n",
    "\"shouldn't've\": \"should not have\",\n",
    "\"so've\": \"so have\",\n",
    "\"so's\": \"so as / so is\",\n",
    "\"that'd\": \"that would / that had\",\n",
    "\"that'd've\": \"that would have\",\n",
    "\"that's\": \"that has / that is\",\n",
    "\"there'd\": \"there had / there would\",\n",
    "\"there'd've\": \"there would have\",\n",
    "\"there's\": \"there has / there is\",\n",
    "\"they'd\": \"they had / they would\",\n",
    "\"they'd've\": \"they would have\",\n",
    "\"they'll\": \"they shall / they will\",\n",
    "\"they'll've\": \"they shall have / they will have\",\n",
    "\"they're\": \"they are\",\n",
    "\"they've\": \"they have\",\n",
    "\"to've\": \"to have\",\n",
    "\"wasn't\": \"was not\",\n",
    "\"we'd\": \"we had / we would\",\n",
    "\"we'd've\": \"we would have\",\n",
    "\"we'll\": \"we will\",\n",
    "\"we'll've\": \"we will have\",\n",
    "\"we're\": \"we are\",\n",
    "\"we've\": \"we have\",\n",
    "\"weren't\": \"were not\",\n",
    "\"what'll\": \"what shall / what will\",\n",
    "\"what'll've\": \"what shall have / what will have\",\n",
    "\"what're\": \"what are\",\n",
    "\"what's\": \"what has / what is\",\n",
    "\"what've\": \"what have\",\n",
    "\"when's\": \"when has / when is\",\n",
    "\"when've\": \"when have\",\n",
    "\"where'd\": \"where did\",\n",
    "\"where's\": \"where has / where is\",\n",
    "\"where've\": \"where have\",\n",
    "\"who'll\": \"who shall / who will\",\n",
    "\"who'll've\": \"who shall have / who will have\",\n",
    "\"who's\": \"who has / who is\",\n",
    "\"who've\": \"who have\",\n",
    "\"why's\": \"why has / why is\",\n",
    "\"why've\": \"why have\",\n",
    "\"will've\": \"will have\",\n",
    "\"won't\": \"will not\",\n",
    "\"won't've\": \"will not have\",\n",
    "\"would've\": \"would have\",\n",
    "\"wouldn't\": \"would not\",\n",
    "\"wouldn't've\": \"would not have\",\n",
    "\"y'all\": \"you all\",\n",
    "\"y'all'd\": \"you all would\",\n",
    "\"y'all'd've\": \"you all would have\",\n",
    "\"y'all're\": \"you all are\",\n",
    "\"y'all've\": \"you all have\",\n",
    "\"you'd\": \"you had / you would\",\n",
    "\"you'd've\": \"you would have\",\n",
    "\"you'll\": \"you shall / you will\",\n",
    "\"you'll've\": \"you shall have / you will have\",\n",
    "\"you're\": \"you are\",\n",
    "\"you've\": \"you have\"\n",
    "}"
   ]
  },
  {
   "cell_type": "markdown",
   "metadata": {},
   "source": [
    "Example"
   ]
  },
  {
   "cell_type": "code",
   "execution_count": 71,
   "metadata": {},
   "outputs": [],
   "source": [
    "x = \"i don't, can't tell, he'll be fine, i'd like to save this file\""
   ]
  },
  {
   "cell_type": "code",
   "execution_count": 72,
   "metadata": {},
   "outputs": [],
   "source": [
    "def cont_to_exp(x):\n",
    "    if type(x) is str:\n",
    "        for key in contractions:\n",
    "            value = contractions[key]\n",
    "            x = x.replace(key, value)\n",
    "        return x\n",
    "    else:\n",
    "        return x"
   ]
  },
  {
   "cell_type": "code",
   "execution_count": 73,
   "metadata": {},
   "outputs": [
    {
     "data": {
      "text/plain": [
       "'i do not, cannot tell, he shall / he will be fine, i had / i would like to save this file'"
      ]
     },
     "execution_count": 73,
     "metadata": {},
     "output_type": "execute_result"
    }
   ],
   "source": [
    "cont_to_exp(x)"
   ]
  },
  {
   "cell_type": "markdown",
   "metadata": {},
   "source": [
    "Similarly we are going to expand the contract word found if any in the tweets"
   ]
  },
  {
   "cell_type": "code",
   "execution_count": 74,
   "metadata": {},
   "outputs": [
    {
     "name": "stdout",
     "output_type": "stream",
     "text": [
      "Wall time: 1min 20s\n"
     ]
    }
   ],
   "source": [
    "%%time\n",
    "df['tweets'] = df['tweets'].apply(lambda x: cont_to_exp(x))"
   ]
  },
  {
   "cell_type": "code",
   "execution_count": 75,
   "metadata": {},
   "outputs": [
    {
     "data": {
      "text/html": [
       "<div>\n",
       "<style scoped>\n",
       "    .dataframe tbody tr th:only-of-type {\n",
       "        vertical-align: middle;\n",
       "    }\n",
       "\n",
       "    .dataframe tbody tr th {\n",
       "        vertical-align: top;\n",
       "    }\n",
       "\n",
       "    .dataframe thead th {\n",
       "        text-align: right;\n",
       "    }\n",
       "</style>\n",
       "<table border=\"1\" class=\"dataframe\">\n",
       "  <thead>\n",
       "    <tr style=\"text-align: right;\">\n",
       "      <th></th>\n",
       "      <th>tweets</th>\n",
       "      <th>sentiment</th>\n",
       "      <th>word_counts</th>\n",
       "      <th>char_counts</th>\n",
       "      <th>avg_word_len</th>\n",
       "      <th>stop_words_len</th>\n",
       "      <th>hashtags_count</th>\n",
       "      <th>mentions_count</th>\n",
       "      <th>numeric_count</th>\n",
       "      <th>upper_counts</th>\n",
       "    </tr>\n",
       "  </thead>\n",
       "  <tbody>\n",
       "    <tr>\n",
       "      <th>0</th>\n",
       "      <td>@switchfoot http://twitpic.com/2y1zl - awww, t...</td>\n",
       "      <td>0</td>\n",
       "      <td>19</td>\n",
       "      <td>115</td>\n",
       "      <td>5.052632</td>\n",
       "      <td>4</td>\n",
       "      <td>0</td>\n",
       "      <td>1</td>\n",
       "      <td>0</td>\n",
       "      <td>1</td>\n",
       "    </tr>\n",
       "    <tr>\n",
       "      <th>1</th>\n",
       "      <td>is upset that he cannot update his facebook by...</td>\n",
       "      <td>0</td>\n",
       "      <td>21</td>\n",
       "      <td>111</td>\n",
       "      <td>4.285714</td>\n",
       "      <td>9</td>\n",
       "      <td>0</td>\n",
       "      <td>0</td>\n",
       "      <td>0</td>\n",
       "      <td>0</td>\n",
       "    </tr>\n",
       "    <tr>\n",
       "      <th>2</th>\n",
       "      <td>@kenichan i dived many times for the ball. man...</td>\n",
       "      <td>0</td>\n",
       "      <td>18</td>\n",
       "      <td>89</td>\n",
       "      <td>3.944444</td>\n",
       "      <td>7</td>\n",
       "      <td>0</td>\n",
       "      <td>1</td>\n",
       "      <td>0</td>\n",
       "      <td>1</td>\n",
       "    </tr>\n",
       "    <tr>\n",
       "      <th>3</th>\n",
       "      <td>my whole body feels itchy and like its on fire</td>\n",
       "      <td>0</td>\n",
       "      <td>10</td>\n",
       "      <td>47</td>\n",
       "      <td>3.700000</td>\n",
       "      <td>5</td>\n",
       "      <td>0</td>\n",
       "      <td>0</td>\n",
       "      <td>0</td>\n",
       "      <td>0</td>\n",
       "    </tr>\n",
       "    <tr>\n",
       "      <th>4</th>\n",
       "      <td>@nationwideclass no, it has / it is not behavi...</td>\n",
       "      <td>0</td>\n",
       "      <td>21</td>\n",
       "      <td>111</td>\n",
       "      <td>4.285714</td>\n",
       "      <td>10</td>\n",
       "      <td>0</td>\n",
       "      <td>1</td>\n",
       "      <td>0</td>\n",
       "      <td>1</td>\n",
       "    </tr>\n",
       "  </tbody>\n",
       "</table>\n",
       "</div>"
      ],
      "text/plain": [
       "                                              tweets  sentiment  word_counts  \\\n",
       "0  @switchfoot http://twitpic.com/2y1zl - awww, t...          0           19   \n",
       "1  is upset that he cannot update his facebook by...          0           21   \n",
       "2  @kenichan i dived many times for the ball. man...          0           18   \n",
       "3    my whole body feels itchy and like its on fire           0           10   \n",
       "4  @nationwideclass no, it has / it is not behavi...          0           21   \n",
       "\n",
       "   char_counts  avg_word_len  stop_words_len  hashtags_count  mentions_count  \\\n",
       "0          115      5.052632               4               0               1   \n",
       "1          111      4.285714               9               0               0   \n",
       "2           89      3.944444               7               0               1   \n",
       "3           47      3.700000               5               0               0   \n",
       "4          111      4.285714              10               0               1   \n",
       "\n",
       "   numeric_count  upper_counts  \n",
       "0              0             1  \n",
       "1              0             0  \n",
       "2              0             1  \n",
       "3              0             0  \n",
       "4              0             1  "
      ]
     },
     "execution_count": 75,
     "metadata": {},
     "output_type": "execute_result"
    }
   ],
   "source": [
    "df.head()"
   ]
  },
  {
   "cell_type": "markdown",
   "metadata": {},
   "source": [
    "### Count and Remove emails\n",
    "We need regular expression library for this"
   ]
  },
  {
   "cell_type": "code",
   "execution_count": 76,
   "metadata": {},
   "outputs": [],
   "source": [
    "import re"
   ]
  },
  {
   "cell_type": "markdown",
   "metadata": {},
   "source": [
    "Example: "
   ]
  },
  {
   "cell_type": "code",
   "execution_count": 77,
   "metadata": {},
   "outputs": [],
   "source": [
    "x = 'hi email me at email@gmail.com or anothe@gmail.com'"
   ]
  },
  {
   "cell_type": "code",
   "execution_count": 78,
   "metadata": {},
   "outputs": [
    {
     "data": {
      "text/plain": [
       "['email@gmail.com', 'anothe@gmail.com']"
      ]
     },
     "execution_count": 78,
     "metadata": {},
     "output_type": "execute_result"
    }
   ],
   "source": [
    "re.findall(r'([a-zA-Z0-9+._-]+@[a-zA-Z0-9+._-]+\\.[a-zA-Z0-9+._-]+)', x)"
   ]
  },
  {
   "cell_type": "markdown",
   "metadata": {},
   "source": [
    "Similarly"
   ]
  },
  {
   "cell_type": "code",
   "execution_count": 79,
   "metadata": {},
   "outputs": [],
   "source": [
    "df['emails'] = df['tweets'].apply(lambda x: re.findall(r'([a-zA-Z0-9+._-]+@[a-zA-Z0-9+._-]+\\.[a-zA-Z0-9+._-]+)', x))"
   ]
  },
  {
   "cell_type": "code",
   "execution_count": 80,
   "metadata": {},
   "outputs": [],
   "source": [
    "df['emails_count'] = df['emails'].apply(lambda x: len(x))"
   ]
  },
  {
   "cell_type": "code",
   "execution_count": 81,
   "metadata": {},
   "outputs": [
    {
     "data": {
      "text/html": [
       "<div>\n",
       "<style scoped>\n",
       "    .dataframe tbody tr th:only-of-type {\n",
       "        vertical-align: middle;\n",
       "    }\n",
       "\n",
       "    .dataframe tbody tr th {\n",
       "        vertical-align: top;\n",
       "    }\n",
       "\n",
       "    .dataframe thead th {\n",
       "        text-align: right;\n",
       "    }\n",
       "</style>\n",
       "<table border=\"1\" class=\"dataframe\">\n",
       "  <thead>\n",
       "    <tr style=\"text-align: right;\">\n",
       "      <th></th>\n",
       "      <th>tweets</th>\n",
       "      <th>sentiment</th>\n",
       "      <th>word_counts</th>\n",
       "      <th>char_counts</th>\n",
       "      <th>avg_word_len</th>\n",
       "      <th>stop_words_len</th>\n",
       "      <th>hashtags_count</th>\n",
       "      <th>mentions_count</th>\n",
       "      <th>numeric_count</th>\n",
       "      <th>upper_counts</th>\n",
       "      <th>emails</th>\n",
       "      <th>emails_count</th>\n",
       "    </tr>\n",
       "  </thead>\n",
       "  <tbody>\n",
       "    <tr>\n",
       "      <th>0</th>\n",
       "      <td>@switchfoot http://twitpic.com/2y1zl - awww, t...</td>\n",
       "      <td>0</td>\n",
       "      <td>19</td>\n",
       "      <td>115</td>\n",
       "      <td>5.052632</td>\n",
       "      <td>4</td>\n",
       "      <td>0</td>\n",
       "      <td>1</td>\n",
       "      <td>0</td>\n",
       "      <td>1</td>\n",
       "      <td>[]</td>\n",
       "      <td>0</td>\n",
       "    </tr>\n",
       "    <tr>\n",
       "      <th>1</th>\n",
       "      <td>is upset that he cannot update his facebook by...</td>\n",
       "      <td>0</td>\n",
       "      <td>21</td>\n",
       "      <td>111</td>\n",
       "      <td>4.285714</td>\n",
       "      <td>9</td>\n",
       "      <td>0</td>\n",
       "      <td>0</td>\n",
       "      <td>0</td>\n",
       "      <td>0</td>\n",
       "      <td>[]</td>\n",
       "      <td>0</td>\n",
       "    </tr>\n",
       "  </tbody>\n",
       "</table>\n",
       "</div>"
      ],
      "text/plain": [
       "                                              tweets  sentiment  word_counts  \\\n",
       "0  @switchfoot http://twitpic.com/2y1zl - awww, t...          0           19   \n",
       "1  is upset that he cannot update his facebook by...          0           21   \n",
       "\n",
       "   char_counts  avg_word_len  stop_words_len  hashtags_count  mentions_count  \\\n",
       "0          115      5.052632               4               0               1   \n",
       "1          111      4.285714               9               0               0   \n",
       "\n",
       "   numeric_count  upper_counts emails  emails_count  \n",
       "0              0             1     []             0  \n",
       "1              0             0     []             0  "
      ]
     },
     "execution_count": 81,
     "metadata": {},
     "output_type": "execute_result"
    }
   ],
   "source": [
    "df.head(2)"
   ]
  },
  {
   "cell_type": "code",
   "execution_count": 82,
   "metadata": {},
   "outputs": [
    {
     "data": {
      "text/html": [
       "<div>\n",
       "<style scoped>\n",
       "    .dataframe tbody tr th:only-of-type {\n",
       "        vertical-align: middle;\n",
       "    }\n",
       "\n",
       "    .dataframe tbody tr th {\n",
       "        vertical-align: top;\n",
       "    }\n",
       "\n",
       "    .dataframe thead th {\n",
       "        text-align: right;\n",
       "    }\n",
       "</style>\n",
       "<table border=\"1\" class=\"dataframe\">\n",
       "  <thead>\n",
       "    <tr style=\"text-align: right;\">\n",
       "      <th></th>\n",
       "      <th>tweets</th>\n",
       "      <th>sentiment</th>\n",
       "      <th>word_counts</th>\n",
       "      <th>char_counts</th>\n",
       "      <th>avg_word_len</th>\n",
       "      <th>stop_words_len</th>\n",
       "      <th>hashtags_count</th>\n",
       "      <th>mentions_count</th>\n",
       "      <th>numeric_count</th>\n",
       "      <th>upper_counts</th>\n",
       "      <th>emails</th>\n",
       "      <th>emails_count</th>\n",
       "    </tr>\n",
       "  </thead>\n",
       "  <tbody>\n",
       "    <tr>\n",
       "      <th>4054</th>\n",
       "      <td>i want a new laptop.  hp tx2000 is the bomb. :...</td>\n",
       "      <td>0</td>\n",
       "      <td>20</td>\n",
       "      <td>103</td>\n",
       "      <td>4.150000</td>\n",
       "      <td>6</td>\n",
       "      <td>0</td>\n",
       "      <td>0</td>\n",
       "      <td>0</td>\n",
       "      <td>4</td>\n",
       "      <td>[gabbehhramos@yahoo.com]</td>\n",
       "      <td>1</td>\n",
       "    </tr>\n",
       "    <tr>\n",
       "      <th>7917</th>\n",
       "      <td>who stole elledell@gmail.com?</td>\n",
       "      <td>0</td>\n",
       "      <td>3</td>\n",
       "      <td>31</td>\n",
       "      <td>9.000000</td>\n",
       "      <td>1</td>\n",
       "      <td>0</td>\n",
       "      <td>0</td>\n",
       "      <td>0</td>\n",
       "      <td>0</td>\n",
       "      <td>[elledell@gmail.com]</td>\n",
       "      <td>1</td>\n",
       "    </tr>\n",
       "    <tr>\n",
       "      <th>8496</th>\n",
       "      <td>@alexistehpom  really? did you send out all th...</td>\n",
       "      <td>0</td>\n",
       "      <td>20</td>\n",
       "      <td>130</td>\n",
       "      <td>5.500000</td>\n",
       "      <td>11</td>\n",
       "      <td>0</td>\n",
       "      <td>1</td>\n",
       "      <td>0</td>\n",
       "      <td>0</td>\n",
       "      <td>[missataari@gmail.com]</td>\n",
       "      <td>1</td>\n",
       "    </tr>\n",
       "    <tr>\n",
       "      <th>10290</th>\n",
       "      <td>@laureystack awh...that has / that is kinda sa...</td>\n",
       "      <td>0</td>\n",
       "      <td>8</td>\n",
       "      <td>76</td>\n",
       "      <td>8.500000</td>\n",
       "      <td>0</td>\n",
       "      <td>0</td>\n",
       "      <td>1</td>\n",
       "      <td>0</td>\n",
       "      <td>0</td>\n",
       "      <td>[hello.kitty.65@hotmail.com]</td>\n",
       "      <td>1</td>\n",
       "    </tr>\n",
       "    <tr>\n",
       "      <th>16413</th>\n",
       "      <td>@jilliancyork  got 2 bottom of it, human error...</td>\n",
       "      <td>0</td>\n",
       "      <td>21</td>\n",
       "      <td>137</td>\n",
       "      <td>5.428571</td>\n",
       "      <td>7</td>\n",
       "      <td>0</td>\n",
       "      <td>1</td>\n",
       "      <td>1</td>\n",
       "      <td>0</td>\n",
       "      <td>[press@linkedin.com]</td>\n",
       "      <td>1</td>\n",
       "    </tr>\n",
       "    <tr>\n",
       "      <th>...</th>\n",
       "      <td>...</td>\n",
       "      <td>...</td>\n",
       "      <td>...</td>\n",
       "      <td>...</td>\n",
       "      <td>...</td>\n",
       "      <td>...</td>\n",
       "      <td>...</td>\n",
       "      <td>...</td>\n",
       "      <td>...</td>\n",
       "      <td>...</td>\n",
       "      <td>...</td>\n",
       "      <td>...</td>\n",
       "    </tr>\n",
       "    <tr>\n",
       "      <th>1588338</th>\n",
       "      <td>@boudoirsextoys do not forget to shoot me an e...</td>\n",
       "      <td>4</td>\n",
       "      <td>21</td>\n",
       "      <td>127</td>\n",
       "      <td>5.047619</td>\n",
       "      <td>10</td>\n",
       "      <td>0</td>\n",
       "      <td>1</td>\n",
       "      <td>0</td>\n",
       "      <td>1</td>\n",
       "      <td>[hello@tastelikekisses.com]</td>\n",
       "      <td>1</td>\n",
       "    </tr>\n",
       "    <tr>\n",
       "      <th>1589132</th>\n",
       "      <td>hi there , anybody got a job for me  oil &amp;amp;...</td>\n",
       "      <td>4</td>\n",
       "      <td>15</td>\n",
       "      <td>98</td>\n",
       "      <td>5.533333</td>\n",
       "      <td>4</td>\n",
       "      <td>0</td>\n",
       "      <td>0</td>\n",
       "      <td>0</td>\n",
       "      <td>0</td>\n",
       "      <td>[aadvanspijk@yahoo.co.uk]</td>\n",
       "      <td>1</td>\n",
       "    </tr>\n",
       "    <tr>\n",
       "      <th>1590489</th>\n",
       "      <td>@clericaaron yes, lbruton@tulsalanparty.com is...</td>\n",
       "      <td>4</td>\n",
       "      <td>14</td>\n",
       "      <td>95</td>\n",
       "      <td>5.785714</td>\n",
       "      <td>6</td>\n",
       "      <td>0</td>\n",
       "      <td>1</td>\n",
       "      <td>0</td>\n",
       "      <td>1</td>\n",
       "      <td>[lbruton@tulsalanparty.com]</td>\n",
       "      <td>1</td>\n",
       "    </tr>\n",
       "    <tr>\n",
       "      <th>1591675</th>\n",
       "      <td>@miss_ellen good morning!!!!   congrats!    se...</td>\n",
       "      <td>4</td>\n",
       "      <td>9</td>\n",
       "      <td>77</td>\n",
       "      <td>7.111111</td>\n",
       "      <td>2</td>\n",
       "      <td>0</td>\n",
       "      <td>1</td>\n",
       "      <td>0</td>\n",
       "      <td>0</td>\n",
       "      <td>[jill@q985fm.com]</td>\n",
       "      <td>1</td>\n",
       "    </tr>\n",
       "    <tr>\n",
       "      <th>1599053</th>\n",
       "      <td>@thejoshlynn you are! btw send me an email. wa...</td>\n",
       "      <td>4</td>\n",
       "      <td>19</td>\n",
       "      <td>145</td>\n",
       "      <td>6.631579</td>\n",
       "      <td>7</td>\n",
       "      <td>0</td>\n",
       "      <td>1</td>\n",
       "      <td>0</td>\n",
       "      <td>1</td>\n",
       "      <td>[marni@creativecustomcardboxes.com]</td>\n",
       "      <td>1</td>\n",
       "    </tr>\n",
       "  </tbody>\n",
       "</table>\n",
       "<p>586 rows × 12 columns</p>\n",
       "</div>"
      ],
      "text/plain": [
       "                                                    tweets  sentiment  \\\n",
       "4054     i want a new laptop.  hp tx2000 is the bomb. :...          0   \n",
       "7917                       who stole elledell@gmail.com?            0   \n",
       "8496     @alexistehpom  really? did you send out all th...          0   \n",
       "10290    @laureystack awh...that has / that is kinda sa...          0   \n",
       "16413    @jilliancyork  got 2 bottom of it, human error...          0   \n",
       "...                                                    ...        ...   \n",
       "1588338  @boudoirsextoys do not forget to shoot me an e...          4   \n",
       "1589132  hi there , anybody got a job for me  oil &amp;...          4   \n",
       "1590489  @clericaaron yes, lbruton@tulsalanparty.com is...          4   \n",
       "1591675  @miss_ellen good morning!!!!   congrats!    se...          4   \n",
       "1599053  @thejoshlynn you are! btw send me an email. wa...          4   \n",
       "\n",
       "         word_counts  char_counts  avg_word_len  stop_words_len  \\\n",
       "4054              20          103      4.150000               6   \n",
       "7917               3           31      9.000000               1   \n",
       "8496              20          130      5.500000              11   \n",
       "10290              8           76      8.500000               0   \n",
       "16413             21          137      5.428571               7   \n",
       "...              ...          ...           ...             ...   \n",
       "1588338           21          127      5.047619              10   \n",
       "1589132           15           98      5.533333               4   \n",
       "1590489           14           95      5.785714               6   \n",
       "1591675            9           77      7.111111               2   \n",
       "1599053           19          145      6.631579               7   \n",
       "\n",
       "         hashtags_count  mentions_count  numeric_count  upper_counts  \\\n",
       "4054                  0               0              0             4   \n",
       "7917                  0               0              0             0   \n",
       "8496                  0               1              0             0   \n",
       "10290                 0               1              0             0   \n",
       "16413                 0               1              1             0   \n",
       "...                 ...             ...            ...           ...   \n",
       "1588338               0               1              0             1   \n",
       "1589132               0               0              0             0   \n",
       "1590489               0               1              0             1   \n",
       "1591675               0               1              0             0   \n",
       "1599053               0               1              0             1   \n",
       "\n",
       "                                      emails  emails_count  \n",
       "4054                [gabbehhramos@yahoo.com]             1  \n",
       "7917                    [elledell@gmail.com]             1  \n",
       "8496                  [missataari@gmail.com]             1  \n",
       "10290           [hello.kitty.65@hotmail.com]             1  \n",
       "16413                   [press@linkedin.com]             1  \n",
       "...                                      ...           ...  \n",
       "1588338          [hello@tastelikekisses.com]             1  \n",
       "1589132            [aadvanspijk@yahoo.co.uk]             1  \n",
       "1590489          [lbruton@tulsalanparty.com]             1  \n",
       "1591675                    [jill@q985fm.com]             1  \n",
       "1599053  [marni@creativecustomcardboxes.com]             1  \n",
       "\n",
       "[586 rows x 12 columns]"
      ]
     },
     "execution_count": 82,
     "metadata": {},
     "output_type": "execute_result"
    }
   ],
   "source": [
    "df[df['emails_count']>0]"
   ]
  },
  {
   "cell_type": "markdown",
   "metadata": {},
   "source": [
    "### Removing emails from tweets"
   ]
  },
  {
   "cell_type": "code",
   "execution_count": 83,
   "metadata": {},
   "outputs": [
    {
     "data": {
      "text/plain": [
       "'hi email me at  or '"
      ]
     },
     "execution_count": 83,
     "metadata": {},
     "output_type": "execute_result"
    }
   ],
   "source": [
    "re.sub(r'([a-zA-Z0-9+._-]+@[a-zA-Z0-9+._-]+\\.[a-zA-Z0-9+._-]+)','', x) #substitute"
   ]
  },
  {
   "cell_type": "code",
   "execution_count": 84,
   "metadata": {},
   "outputs": [],
   "source": [
    "df['tweets'] = df['tweets'].apply(lambda x: re.sub(r'([a-zA-Z0-9+._-]+@[a-zA-Z0-9+._-]+\\.[a-zA-Z0-9+._-]+)','', x))"
   ]
  },
  {
   "cell_type": "code",
   "execution_count": 85,
   "metadata": {},
   "outputs": [
    {
     "data": {
      "text/html": [
       "<div>\n",
       "<style scoped>\n",
       "    .dataframe tbody tr th:only-of-type {\n",
       "        vertical-align: middle;\n",
       "    }\n",
       "\n",
       "    .dataframe tbody tr th {\n",
       "        vertical-align: top;\n",
       "    }\n",
       "\n",
       "    .dataframe thead th {\n",
       "        text-align: right;\n",
       "    }\n",
       "</style>\n",
       "<table border=\"1\" class=\"dataframe\">\n",
       "  <thead>\n",
       "    <tr style=\"text-align: right;\">\n",
       "      <th></th>\n",
       "      <th>tweets</th>\n",
       "      <th>sentiment</th>\n",
       "      <th>word_counts</th>\n",
       "      <th>char_counts</th>\n",
       "      <th>avg_word_len</th>\n",
       "      <th>stop_words_len</th>\n",
       "      <th>hashtags_count</th>\n",
       "      <th>mentions_count</th>\n",
       "      <th>numeric_count</th>\n",
       "      <th>upper_counts</th>\n",
       "      <th>emails</th>\n",
       "      <th>emails_count</th>\n",
       "    </tr>\n",
       "  </thead>\n",
       "  <tbody>\n",
       "    <tr>\n",
       "      <th>4054</th>\n",
       "      <td>i want a new laptop.  hp tx2000 is the bomb. :...</td>\n",
       "      <td>0</td>\n",
       "      <td>20</td>\n",
       "      <td>103</td>\n",
       "      <td>4.150000</td>\n",
       "      <td>6</td>\n",
       "      <td>0</td>\n",
       "      <td>0</td>\n",
       "      <td>0</td>\n",
       "      <td>4</td>\n",
       "      <td>[gabbehhramos@yahoo.com]</td>\n",
       "      <td>1</td>\n",
       "    </tr>\n",
       "    <tr>\n",
       "      <th>7917</th>\n",
       "      <td>who stole ?</td>\n",
       "      <td>0</td>\n",
       "      <td>3</td>\n",
       "      <td>31</td>\n",
       "      <td>9.000000</td>\n",
       "      <td>1</td>\n",
       "      <td>0</td>\n",
       "      <td>0</td>\n",
       "      <td>0</td>\n",
       "      <td>0</td>\n",
       "      <td>[elledell@gmail.com]</td>\n",
       "      <td>1</td>\n",
       "    </tr>\n",
       "    <tr>\n",
       "      <th>8496</th>\n",
       "      <td>@alexistehpom  really? did you send out all th...</td>\n",
       "      <td>0</td>\n",
       "      <td>20</td>\n",
       "      <td>130</td>\n",
       "      <td>5.500000</td>\n",
       "      <td>11</td>\n",
       "      <td>0</td>\n",
       "      <td>1</td>\n",
       "      <td>0</td>\n",
       "      <td>0</td>\n",
       "      <td>[missataari@gmail.com]</td>\n",
       "      <td>1</td>\n",
       "    </tr>\n",
       "    <tr>\n",
       "      <th>10290</th>\n",
       "      <td>@laureystack awh...that has / that is kinda sa...</td>\n",
       "      <td>0</td>\n",
       "      <td>8</td>\n",
       "      <td>76</td>\n",
       "      <td>8.500000</td>\n",
       "      <td>0</td>\n",
       "      <td>0</td>\n",
       "      <td>1</td>\n",
       "      <td>0</td>\n",
       "      <td>0</td>\n",
       "      <td>[hello.kitty.65@hotmail.com]</td>\n",
       "      <td>1</td>\n",
       "    </tr>\n",
       "    <tr>\n",
       "      <th>16413</th>\n",
       "      <td>@jilliancyork  got 2 bottom of it, human error...</td>\n",
       "      <td>0</td>\n",
       "      <td>21</td>\n",
       "      <td>137</td>\n",
       "      <td>5.428571</td>\n",
       "      <td>7</td>\n",
       "      <td>0</td>\n",
       "      <td>1</td>\n",
       "      <td>1</td>\n",
       "      <td>0</td>\n",
       "      <td>[press@linkedin.com]</td>\n",
       "      <td>1</td>\n",
       "    </tr>\n",
       "    <tr>\n",
       "      <th>...</th>\n",
       "      <td>...</td>\n",
       "      <td>...</td>\n",
       "      <td>...</td>\n",
       "      <td>...</td>\n",
       "      <td>...</td>\n",
       "      <td>...</td>\n",
       "      <td>...</td>\n",
       "      <td>...</td>\n",
       "      <td>...</td>\n",
       "      <td>...</td>\n",
       "      <td>...</td>\n",
       "      <td>...</td>\n",
       "    </tr>\n",
       "    <tr>\n",
       "      <th>1588338</th>\n",
       "      <td>@boudoirsextoys do not forget to shoot me an e...</td>\n",
       "      <td>4</td>\n",
       "      <td>21</td>\n",
       "      <td>127</td>\n",
       "      <td>5.047619</td>\n",
       "      <td>10</td>\n",
       "      <td>0</td>\n",
       "      <td>1</td>\n",
       "      <td>0</td>\n",
       "      <td>1</td>\n",
       "      <td>[hello@tastelikekisses.com]</td>\n",
       "      <td>1</td>\n",
       "    </tr>\n",
       "    <tr>\n",
       "      <th>1589132</th>\n",
       "      <td>hi there , anybody got a job for me  oil &amp;amp;...</td>\n",
       "      <td>4</td>\n",
       "      <td>15</td>\n",
       "      <td>98</td>\n",
       "      <td>5.533333</td>\n",
       "      <td>4</td>\n",
       "      <td>0</td>\n",
       "      <td>0</td>\n",
       "      <td>0</td>\n",
       "      <td>0</td>\n",
       "      <td>[aadvanspijk@yahoo.co.uk]</td>\n",
       "      <td>1</td>\n",
       "    </tr>\n",
       "    <tr>\n",
       "      <th>1590489</th>\n",
       "      <td>@clericaaron yes,  is a good start. but i thin...</td>\n",
       "      <td>4</td>\n",
       "      <td>14</td>\n",
       "      <td>95</td>\n",
       "      <td>5.785714</td>\n",
       "      <td>6</td>\n",
       "      <td>0</td>\n",
       "      <td>1</td>\n",
       "      <td>0</td>\n",
       "      <td>1</td>\n",
       "      <td>[lbruton@tulsalanparty.com]</td>\n",
       "      <td>1</td>\n",
       "    </tr>\n",
       "    <tr>\n",
       "      <th>1591675</th>\n",
       "      <td>@miss_ellen good morning!!!!   congrats!    se...</td>\n",
       "      <td>4</td>\n",
       "      <td>9</td>\n",
       "      <td>77</td>\n",
       "      <td>7.111111</td>\n",
       "      <td>2</td>\n",
       "      <td>0</td>\n",
       "      <td>1</td>\n",
       "      <td>0</td>\n",
       "      <td>0</td>\n",
       "      <td>[jill@q985fm.com]</td>\n",
       "      <td>1</td>\n",
       "    </tr>\n",
       "    <tr>\n",
       "      <th>1599053</th>\n",
       "      <td>@thejoshlynn you are! btw send me an email. wa...</td>\n",
       "      <td>4</td>\n",
       "      <td>19</td>\n",
       "      <td>145</td>\n",
       "      <td>6.631579</td>\n",
       "      <td>7</td>\n",
       "      <td>0</td>\n",
       "      <td>1</td>\n",
       "      <td>0</td>\n",
       "      <td>1</td>\n",
       "      <td>[marni@creativecustomcardboxes.com]</td>\n",
       "      <td>1</td>\n",
       "    </tr>\n",
       "  </tbody>\n",
       "</table>\n",
       "<p>586 rows × 12 columns</p>\n",
       "</div>"
      ],
      "text/plain": [
       "                                                    tweets  sentiment  \\\n",
       "4054     i want a new laptop.  hp tx2000 is the bomb. :...          0   \n",
       "7917                                         who stole ?            0   \n",
       "8496     @alexistehpom  really? did you send out all th...          0   \n",
       "10290    @laureystack awh...that has / that is kinda sa...          0   \n",
       "16413    @jilliancyork  got 2 bottom of it, human error...          0   \n",
       "...                                                    ...        ...   \n",
       "1588338  @boudoirsextoys do not forget to shoot me an e...          4   \n",
       "1589132  hi there , anybody got a job for me  oil &amp;...          4   \n",
       "1590489  @clericaaron yes,  is a good start. but i thin...          4   \n",
       "1591675  @miss_ellen good morning!!!!   congrats!    se...          4   \n",
       "1599053  @thejoshlynn you are! btw send me an email. wa...          4   \n",
       "\n",
       "         word_counts  char_counts  avg_word_len  stop_words_len  \\\n",
       "4054              20          103      4.150000               6   \n",
       "7917               3           31      9.000000               1   \n",
       "8496              20          130      5.500000              11   \n",
       "10290              8           76      8.500000               0   \n",
       "16413             21          137      5.428571               7   \n",
       "...              ...          ...           ...             ...   \n",
       "1588338           21          127      5.047619              10   \n",
       "1589132           15           98      5.533333               4   \n",
       "1590489           14           95      5.785714               6   \n",
       "1591675            9           77      7.111111               2   \n",
       "1599053           19          145      6.631579               7   \n",
       "\n",
       "         hashtags_count  mentions_count  numeric_count  upper_counts  \\\n",
       "4054                  0               0              0             4   \n",
       "7917                  0               0              0             0   \n",
       "8496                  0               1              0             0   \n",
       "10290                 0               1              0             0   \n",
       "16413                 0               1              1             0   \n",
       "...                 ...             ...            ...           ...   \n",
       "1588338               0               1              0             1   \n",
       "1589132               0               0              0             0   \n",
       "1590489               0               1              0             1   \n",
       "1591675               0               1              0             0   \n",
       "1599053               0               1              0             1   \n",
       "\n",
       "                                      emails  emails_count  \n",
       "4054                [gabbehhramos@yahoo.com]             1  \n",
       "7917                    [elledell@gmail.com]             1  \n",
       "8496                  [missataari@gmail.com]             1  \n",
       "10290           [hello.kitty.65@hotmail.com]             1  \n",
       "16413                   [press@linkedin.com]             1  \n",
       "...                                      ...           ...  \n",
       "1588338          [hello@tastelikekisses.com]             1  \n",
       "1589132            [aadvanspijk@yahoo.co.uk]             1  \n",
       "1590489          [lbruton@tulsalanparty.com]             1  \n",
       "1591675                    [jill@q985fm.com]             1  \n",
       "1599053  [marni@creativecustomcardboxes.com]             1  \n",
       "\n",
       "[586 rows x 12 columns]"
      ]
     },
     "execution_count": 85,
     "metadata": {},
     "output_type": "execute_result"
    }
   ],
   "source": [
    "df[df['emails_count']>0]"
   ]
  },
  {
   "cell_type": "markdown",
   "metadata": {},
   "source": [
    "### Count URLs and remove it"
   ]
  },
  {
   "cell_type": "code",
   "execution_count": 86,
   "metadata": {},
   "outputs": [],
   "source": [
    "x = 'hi, wanna see project like this? visit https://github.com/shubhamraw'"
   ]
  },
  {
   "cell_type": "code",
   "execution_count": 87,
   "metadata": {},
   "outputs": [
    {
     "data": {
      "text/plain": [
       "[('https', 'github.com', '/shubhamraw')]"
      ]
     },
     "execution_count": 87,
     "metadata": {},
     "output_type": "execute_result"
    }
   ],
   "source": [
    "re.findall(r'(https|ftp|https)://([\\w_-]+(?:(?:\\.[\\w_-]+)+))([\\w.,@?^=%&:/~+#-]*[\\w@?^=%&/~+#-])?', x)"
   ]
  },
  {
   "cell_type": "code",
   "execution_count": 88,
   "metadata": {},
   "outputs": [],
   "source": [
    "df['urls_flag'] = df['tweets'].apply(lambda x: len(re.findall(r'(http|ftp|https)://([\\w_-]+(?:(?:\\.[\\w_-]+)+))([\\w.,@?^=%&:/~+#-]*[\\w@?^=%&/~+#-])?', x)))"
   ]
  },
  {
   "cell_type": "code",
   "execution_count": 89,
   "metadata": {},
   "outputs": [
    {
     "data": {
      "text/plain": [
       "'hi, wanna see project like this? visit '"
      ]
     },
     "execution_count": 89,
     "metadata": {},
     "output_type": "execute_result"
    }
   ],
   "source": [
    "re.sub(r'(https|ftp|https)://([\\w_-]+(?:(?:\\.[\\w_-]+)+))([\\w.,@?^=%&:/~+#-]*[\\w@?^=%&/~+#-])?', '', x)"
   ]
  },
  {
   "cell_type": "code",
   "execution_count": 90,
   "metadata": {},
   "outputs": [],
   "source": [
    "df['tweets'] = df['tweets'].apply(lambda x: re.sub(r'(http|ftp|https)://([\\w_-]+(?:(?:\\.[\\w_-]+)+))([\\w.,@?^=%&:/~+#-]*[\\w@?^=%&/~+#-])?', '', x))"
   ]
  },
  {
   "cell_type": "code",
   "execution_count": 91,
   "metadata": {},
   "outputs": [
    {
     "data": {
      "text/plain": [
       "'@switchfoot  - awww, that has / that is a bummer.  you shoulda got david carr of third day to do it. ;d'"
      ]
     },
     "execution_count": 91,
     "metadata": {},
     "output_type": "execute_result"
    }
   ],
   "source": [
    "df.loc[0]['tweets']"
   ]
  },
  {
   "cell_type": "code",
   "execution_count": 92,
   "metadata": {},
   "outputs": [
    {
     "data": {
      "text/html": [
       "<div>\n",
       "<style scoped>\n",
       "    .dataframe tbody tr th:only-of-type {\n",
       "        vertical-align: middle;\n",
       "    }\n",
       "\n",
       "    .dataframe tbody tr th {\n",
       "        vertical-align: top;\n",
       "    }\n",
       "\n",
       "    .dataframe thead th {\n",
       "        text-align: right;\n",
       "    }\n",
       "</style>\n",
       "<table border=\"1\" class=\"dataframe\">\n",
       "  <thead>\n",
       "    <tr style=\"text-align: right;\">\n",
       "      <th></th>\n",
       "      <th>tweets</th>\n",
       "      <th>sentiment</th>\n",
       "      <th>word_counts</th>\n",
       "      <th>char_counts</th>\n",
       "      <th>avg_word_len</th>\n",
       "      <th>stop_words_len</th>\n",
       "      <th>hashtags_count</th>\n",
       "      <th>mentions_count</th>\n",
       "      <th>numeric_count</th>\n",
       "      <th>upper_counts</th>\n",
       "      <th>emails</th>\n",
       "      <th>emails_count</th>\n",
       "      <th>urls_flag</th>\n",
       "    </tr>\n",
       "  </thead>\n",
       "  <tbody>\n",
       "    <tr>\n",
       "      <th>0</th>\n",
       "      <td>@switchfoot  - awww, that has / that is a bumm...</td>\n",
       "      <td>0</td>\n",
       "      <td>19</td>\n",
       "      <td>115</td>\n",
       "      <td>5.052632</td>\n",
       "      <td>4</td>\n",
       "      <td>0</td>\n",
       "      <td>1</td>\n",
       "      <td>0</td>\n",
       "      <td>1</td>\n",
       "      <td>[]</td>\n",
       "      <td>0</td>\n",
       "      <td>1</td>\n",
       "    </tr>\n",
       "    <tr>\n",
       "      <th>1</th>\n",
       "      <td>is upset that he cannot update his facebook by...</td>\n",
       "      <td>0</td>\n",
       "      <td>21</td>\n",
       "      <td>111</td>\n",
       "      <td>4.285714</td>\n",
       "      <td>9</td>\n",
       "      <td>0</td>\n",
       "      <td>0</td>\n",
       "      <td>0</td>\n",
       "      <td>0</td>\n",
       "      <td>[]</td>\n",
       "      <td>0</td>\n",
       "      <td>0</td>\n",
       "    </tr>\n",
       "    <tr>\n",
       "      <th>2</th>\n",
       "      <td>@kenichan i dived many times for the ball. man...</td>\n",
       "      <td>0</td>\n",
       "      <td>18</td>\n",
       "      <td>89</td>\n",
       "      <td>3.944444</td>\n",
       "      <td>7</td>\n",
       "      <td>0</td>\n",
       "      <td>1</td>\n",
       "      <td>0</td>\n",
       "      <td>1</td>\n",
       "      <td>[]</td>\n",
       "      <td>0</td>\n",
       "      <td>0</td>\n",
       "    </tr>\n",
       "    <tr>\n",
       "      <th>3</th>\n",
       "      <td>my whole body feels itchy and like its on fire</td>\n",
       "      <td>0</td>\n",
       "      <td>10</td>\n",
       "      <td>47</td>\n",
       "      <td>3.700000</td>\n",
       "      <td>5</td>\n",
       "      <td>0</td>\n",
       "      <td>0</td>\n",
       "      <td>0</td>\n",
       "      <td>0</td>\n",
       "      <td>[]</td>\n",
       "      <td>0</td>\n",
       "      <td>0</td>\n",
       "    </tr>\n",
       "    <tr>\n",
       "      <th>4</th>\n",
       "      <td>@nationwideclass no, it has / it is not behavi...</td>\n",
       "      <td>0</td>\n",
       "      <td>21</td>\n",
       "      <td>111</td>\n",
       "      <td>4.285714</td>\n",
       "      <td>10</td>\n",
       "      <td>0</td>\n",
       "      <td>1</td>\n",
       "      <td>0</td>\n",
       "      <td>1</td>\n",
       "      <td>[]</td>\n",
       "      <td>0</td>\n",
       "      <td>0</td>\n",
       "    </tr>\n",
       "  </tbody>\n",
       "</table>\n",
       "</div>"
      ],
      "text/plain": [
       "                                              tweets  sentiment  word_counts  \\\n",
       "0  @switchfoot  - awww, that has / that is a bumm...          0           19   \n",
       "1  is upset that he cannot update his facebook by...          0           21   \n",
       "2  @kenichan i dived many times for the ball. man...          0           18   \n",
       "3    my whole body feels itchy and like its on fire           0           10   \n",
       "4  @nationwideclass no, it has / it is not behavi...          0           21   \n",
       "\n",
       "   char_counts  avg_word_len  stop_words_len  hashtags_count  mentions_count  \\\n",
       "0          115      5.052632               4               0               1   \n",
       "1          111      4.285714               9               0               0   \n",
       "2           89      3.944444               7               0               1   \n",
       "3           47      3.700000               5               0               0   \n",
       "4          111      4.285714              10               0               1   \n",
       "\n",
       "   numeric_count  upper_counts emails  emails_count  urls_flag  \n",
       "0              0             1     []             0          1  \n",
       "1              0             0     []             0          0  \n",
       "2              0             1     []             0          0  \n",
       "3              0             0     []             0          0  \n",
       "4              0             1     []             0          0  "
      ]
     },
     "execution_count": 92,
     "metadata": {},
     "output_type": "execute_result"
    }
   ],
   "source": [
    "df.head()"
   ]
  },
  {
   "cell_type": "markdown",
   "metadata": {},
   "source": [
    "### Remove retweets"
   ]
  },
  {
   "cell_type": "code",
   "execution_count": 93,
   "metadata": {},
   "outputs": [],
   "source": [
    "df['tweets'] = df['tweets'].apply(lambda x: re.sub(r'RT', '', x))"
   ]
  },
  {
   "cell_type": "markdown",
   "metadata": {},
   "source": [
    "### Special chars removal or punctuation removal"
   ]
  },
  {
   "cell_type": "code",
   "execution_count": 94,
   "metadata": {},
   "outputs": [],
   "source": [
    "df['tweets'] = df['tweets'].apply(lambda x: re.sub('[^A-Z a-z 0-9-]+', '', x))"
   ]
  },
  {
   "cell_type": "code",
   "execution_count": 95,
   "metadata": {},
   "outputs": [
    {
     "data": {
      "text/html": [
       "<div>\n",
       "<style scoped>\n",
       "    .dataframe tbody tr th:only-of-type {\n",
       "        vertical-align: middle;\n",
       "    }\n",
       "\n",
       "    .dataframe tbody tr th {\n",
       "        vertical-align: top;\n",
       "    }\n",
       "\n",
       "    .dataframe thead th {\n",
       "        text-align: right;\n",
       "    }\n",
       "</style>\n",
       "<table border=\"1\" class=\"dataframe\">\n",
       "  <thead>\n",
       "    <tr style=\"text-align: right;\">\n",
       "      <th></th>\n",
       "      <th>tweets</th>\n",
       "      <th>sentiment</th>\n",
       "      <th>word_counts</th>\n",
       "      <th>char_counts</th>\n",
       "      <th>avg_word_len</th>\n",
       "      <th>stop_words_len</th>\n",
       "      <th>hashtags_count</th>\n",
       "      <th>mentions_count</th>\n",
       "      <th>numeric_count</th>\n",
       "      <th>upper_counts</th>\n",
       "      <th>emails</th>\n",
       "      <th>emails_count</th>\n",
       "      <th>urls_flag</th>\n",
       "    </tr>\n",
       "  </thead>\n",
       "  <tbody>\n",
       "    <tr>\n",
       "      <th>0</th>\n",
       "      <td>switchfoot  - awww that has  that is a bummer ...</td>\n",
       "      <td>0</td>\n",
       "      <td>19</td>\n",
       "      <td>115</td>\n",
       "      <td>5.052632</td>\n",
       "      <td>4</td>\n",
       "      <td>0</td>\n",
       "      <td>1</td>\n",
       "      <td>0</td>\n",
       "      <td>1</td>\n",
       "      <td>[]</td>\n",
       "      <td>0</td>\n",
       "      <td>1</td>\n",
       "    </tr>\n",
       "    <tr>\n",
       "      <th>1</th>\n",
       "      <td>is upset that he cannot update his facebook by...</td>\n",
       "      <td>0</td>\n",
       "      <td>21</td>\n",
       "      <td>111</td>\n",
       "      <td>4.285714</td>\n",
       "      <td>9</td>\n",
       "      <td>0</td>\n",
       "      <td>0</td>\n",
       "      <td>0</td>\n",
       "      <td>0</td>\n",
       "      <td>[]</td>\n",
       "      <td>0</td>\n",
       "      <td>0</td>\n",
       "    </tr>\n",
       "    <tr>\n",
       "      <th>2</th>\n",
       "      <td>kenichan i dived many times for the ball manag...</td>\n",
       "      <td>0</td>\n",
       "      <td>18</td>\n",
       "      <td>89</td>\n",
       "      <td>3.944444</td>\n",
       "      <td>7</td>\n",
       "      <td>0</td>\n",
       "      <td>1</td>\n",
       "      <td>0</td>\n",
       "      <td>1</td>\n",
       "      <td>[]</td>\n",
       "      <td>0</td>\n",
       "      <td>0</td>\n",
       "    </tr>\n",
       "    <tr>\n",
       "      <th>3</th>\n",
       "      <td>my whole body feels itchy and like its on fire</td>\n",
       "      <td>0</td>\n",
       "      <td>10</td>\n",
       "      <td>47</td>\n",
       "      <td>3.700000</td>\n",
       "      <td>5</td>\n",
       "      <td>0</td>\n",
       "      <td>0</td>\n",
       "      <td>0</td>\n",
       "      <td>0</td>\n",
       "      <td>[]</td>\n",
       "      <td>0</td>\n",
       "      <td>0</td>\n",
       "    </tr>\n",
       "    <tr>\n",
       "      <th>4</th>\n",
       "      <td>nationwideclass no it has  it is not behaving ...</td>\n",
       "      <td>0</td>\n",
       "      <td>21</td>\n",
       "      <td>111</td>\n",
       "      <td>4.285714</td>\n",
       "      <td>10</td>\n",
       "      <td>0</td>\n",
       "      <td>1</td>\n",
       "      <td>0</td>\n",
       "      <td>1</td>\n",
       "      <td>[]</td>\n",
       "      <td>0</td>\n",
       "      <td>0</td>\n",
       "    </tr>\n",
       "  </tbody>\n",
       "</table>\n",
       "</div>"
      ],
      "text/plain": [
       "                                              tweets  sentiment  word_counts  \\\n",
       "0  switchfoot  - awww that has  that is a bummer ...          0           19   \n",
       "1  is upset that he cannot update his facebook by...          0           21   \n",
       "2  kenichan i dived many times for the ball manag...          0           18   \n",
       "3    my whole body feels itchy and like its on fire           0           10   \n",
       "4  nationwideclass no it has  it is not behaving ...          0           21   \n",
       "\n",
       "   char_counts  avg_word_len  stop_words_len  hashtags_count  mentions_count  \\\n",
       "0          115      5.052632               4               0               1   \n",
       "1          111      4.285714               9               0               0   \n",
       "2           89      3.944444               7               0               1   \n",
       "3           47      3.700000               5               0               0   \n",
       "4          111      4.285714              10               0               1   \n",
       "\n",
       "   numeric_count  upper_counts emails  emails_count  urls_flag  \n",
       "0              0             1     []             0          1  \n",
       "1              0             0     []             0          0  \n",
       "2              0             1     []             0          0  \n",
       "3              0             0     []             0          0  \n",
       "4              0             1     []             0          0  "
      ]
     },
     "execution_count": 95,
     "metadata": {},
     "output_type": "execute_result"
    }
   ],
   "source": [
    "df.head()"
   ]
  },
  {
   "cell_type": "markdown",
   "metadata": {},
   "source": [
    "### Remove multiple spaces `\"hi      hello           \"`"
   ]
  },
  {
   "cell_type": "code",
   "execution_count": 96,
   "metadata": {},
   "outputs": [],
   "source": [
    "x= 'thanks    for     viewing     this and  '"
   ]
  },
  {
   "cell_type": "code",
   "execution_count": 97,
   "metadata": {},
   "outputs": [
    {
     "data": {
      "text/plain": [
       "'thanks for viewing this and'"
      ]
     },
     "execution_count": 97,
     "metadata": {},
     "output_type": "execute_result"
    }
   ],
   "source": [
    "\" \".join(x.split())"
   ]
  },
  {
   "cell_type": "code",
   "execution_count": 98,
   "metadata": {},
   "outputs": [],
   "source": [
    "df['tweets'] = df['tweets'].apply(lambda x: \" \".join(x.split()))"
   ]
  },
  {
   "cell_type": "markdown",
   "metadata": {},
   "source": [
    "### Remove HTML tags"
   ]
  },
  {
   "cell_type": "code",
   "execution_count": 99,
   "metadata": {},
   "outputs": [],
   "source": [
    "from bs4 import BeautifulSoup # library for parsing HTML and XML documents"
   ]
  },
  {
   "cell_type": "code",
   "execution_count": 100,
   "metadata": {},
   "outputs": [],
   "source": [
    "x = '<html><h2>Have a great day</h2></html>'"
   ]
  },
  {
   "cell_type": "code",
   "execution_count": 101,
   "metadata": {},
   "outputs": [
    {
     "data": {
      "text/plain": [
       "'Have a great day'"
      ]
     },
     "execution_count": 101,
     "metadata": {},
     "output_type": "execute_result"
    }
   ],
   "source": [
    "BeautifulSoup(x, 'lxml').get_text()"
   ]
  },
  {
   "cell_type": "code",
   "execution_count": 102,
   "metadata": {},
   "outputs": [
    {
     "name": "stdout",
     "output_type": "stream",
     "text": [
      "Wall time: 10min 16s\n"
     ]
    }
   ],
   "source": [
    "%%time\n",
    "df['tweets'] = df['tweets'].apply(lambda x: BeautifulSoup(x, 'lxml').get_text())"
   ]
  },
  {
   "cell_type": "markdown",
   "metadata": {},
   "source": [
    "### Remove accented chars"
   ]
  },
  {
   "cell_type": "code",
   "execution_count": 103,
   "metadata": {},
   "outputs": [],
   "source": [
    "import unicodedata"
   ]
  },
  {
   "cell_type": "code",
   "execution_count": 104,
   "metadata": {},
   "outputs": [],
   "source": [
    "x = \"Accented text: 'àéêöhello'\""
   ]
  },
  {
   "cell_type": "code",
   "execution_count": 105,
   "metadata": {},
   "outputs": [],
   "source": [
    "def remove_accented_chars(x):\n",
    "    x = unicodedata.normalize('NFKD', x).encode('ascii', 'ignore').decode('utf-8', 'ignore')\n",
    "    return x"
   ]
  },
  {
   "cell_type": "code",
   "execution_count": 106,
   "metadata": {},
   "outputs": [
    {
     "data": {
      "text/plain": [
       "\"Accented text: 'aeeohello'\""
      ]
     },
     "execution_count": 106,
     "metadata": {},
     "output_type": "execute_result"
    }
   ],
   "source": [
    "remove_accented_chars(x)"
   ]
  },
  {
   "cell_type": "markdown",
   "metadata": {},
   "source": [
    "### SpaCy and NLP\n",
    "\n",
    "### Remove stop words"
   ]
  },
  {
   "cell_type": "code",
   "execution_count": 107,
   "metadata": {},
   "outputs": [],
   "source": [
    "x = 'this is stop words removal code'"
   ]
  },
  {
   "cell_type": "code",
   "execution_count": 108,
   "metadata": {},
   "outputs": [
    {
     "data": {
      "text/plain": [
       "'stop words removal code'"
      ]
     },
     "execution_count": 108,
     "metadata": {},
     "output_type": "execute_result"
    }
   ],
   "source": [
    "\" \".join([t for t in x.split() if t not in STOP_WORDS])"
   ]
  },
  {
   "cell_type": "code",
   "execution_count": 109,
   "metadata": {},
   "outputs": [],
   "source": [
    "df['tweets'] = df['tweets'].apply(lambda x: \" \".join([t for t in x.split() if t not in STOP_WORDS]))"
   ]
  },
  {
   "cell_type": "code",
   "execution_count": 110,
   "metadata": {},
   "outputs": [
    {
     "data": {
      "text/html": [
       "<div>\n",
       "<style scoped>\n",
       "    .dataframe tbody tr th:only-of-type {\n",
       "        vertical-align: middle;\n",
       "    }\n",
       "\n",
       "    .dataframe tbody tr th {\n",
       "        vertical-align: top;\n",
       "    }\n",
       "\n",
       "    .dataframe thead th {\n",
       "        text-align: right;\n",
       "    }\n",
       "</style>\n",
       "<table border=\"1\" class=\"dataframe\">\n",
       "  <thead>\n",
       "    <tr style=\"text-align: right;\">\n",
       "      <th></th>\n",
       "      <th>tweets</th>\n",
       "      <th>sentiment</th>\n",
       "      <th>word_counts</th>\n",
       "      <th>char_counts</th>\n",
       "      <th>avg_word_len</th>\n",
       "      <th>stop_words_len</th>\n",
       "      <th>hashtags_count</th>\n",
       "      <th>mentions_count</th>\n",
       "      <th>numeric_count</th>\n",
       "      <th>upper_counts</th>\n",
       "      <th>emails</th>\n",
       "      <th>emails_count</th>\n",
       "      <th>urls_flag</th>\n",
       "    </tr>\n",
       "  </thead>\n",
       "  <tbody>\n",
       "    <tr>\n",
       "      <th>0</th>\n",
       "      <td>switchfoot - awww bummer shoulda got david car...</td>\n",
       "      <td>0</td>\n",
       "      <td>19</td>\n",
       "      <td>115</td>\n",
       "      <td>5.052632</td>\n",
       "      <td>4</td>\n",
       "      <td>0</td>\n",
       "      <td>1</td>\n",
       "      <td>0</td>\n",
       "      <td>1</td>\n",
       "      <td>[]</td>\n",
       "      <td>0</td>\n",
       "      <td>1</td>\n",
       "    </tr>\n",
       "    <tr>\n",
       "      <th>1</th>\n",
       "      <td>upset update facebook texting cry result schoo...</td>\n",
       "      <td>0</td>\n",
       "      <td>21</td>\n",
       "      <td>111</td>\n",
       "      <td>4.285714</td>\n",
       "      <td>9</td>\n",
       "      <td>0</td>\n",
       "      <td>0</td>\n",
       "      <td>0</td>\n",
       "      <td>0</td>\n",
       "      <td>[]</td>\n",
       "      <td>0</td>\n",
       "      <td>0</td>\n",
       "    </tr>\n",
       "    <tr>\n",
       "      <th>2</th>\n",
       "      <td>kenichan dived times ball managed save 50 rest...</td>\n",
       "      <td>0</td>\n",
       "      <td>18</td>\n",
       "      <td>89</td>\n",
       "      <td>3.944444</td>\n",
       "      <td>7</td>\n",
       "      <td>0</td>\n",
       "      <td>1</td>\n",
       "      <td>0</td>\n",
       "      <td>1</td>\n",
       "      <td>[]</td>\n",
       "      <td>0</td>\n",
       "      <td>0</td>\n",
       "    </tr>\n",
       "    <tr>\n",
       "      <th>3</th>\n",
       "      <td>body feels itchy like fire</td>\n",
       "      <td>0</td>\n",
       "      <td>10</td>\n",
       "      <td>47</td>\n",
       "      <td>3.700000</td>\n",
       "      <td>5</td>\n",
       "      <td>0</td>\n",
       "      <td>0</td>\n",
       "      <td>0</td>\n",
       "      <td>0</td>\n",
       "      <td>[]</td>\n",
       "      <td>0</td>\n",
       "      <td>0</td>\n",
       "    </tr>\n",
       "    <tr>\n",
       "      <th>4</th>\n",
       "      <td>nationwideclass behaving mad</td>\n",
       "      <td>0</td>\n",
       "      <td>21</td>\n",
       "      <td>111</td>\n",
       "      <td>4.285714</td>\n",
       "      <td>10</td>\n",
       "      <td>0</td>\n",
       "      <td>1</td>\n",
       "      <td>0</td>\n",
       "      <td>1</td>\n",
       "      <td>[]</td>\n",
       "      <td>0</td>\n",
       "      <td>0</td>\n",
       "    </tr>\n",
       "  </tbody>\n",
       "</table>\n",
       "</div>"
      ],
      "text/plain": [
       "                                              tweets  sentiment  word_counts  \\\n",
       "0  switchfoot - awww bummer shoulda got david car...          0           19   \n",
       "1  upset update facebook texting cry result schoo...          0           21   \n",
       "2  kenichan dived times ball managed save 50 rest...          0           18   \n",
       "3                         body feels itchy like fire          0           10   \n",
       "4                       nationwideclass behaving mad          0           21   \n",
       "\n",
       "   char_counts  avg_word_len  stop_words_len  hashtags_count  mentions_count  \\\n",
       "0          115      5.052632               4               0               1   \n",
       "1          111      4.285714               9               0               0   \n",
       "2           89      3.944444               7               0               1   \n",
       "3           47      3.700000               5               0               0   \n",
       "4          111      4.285714              10               0               1   \n",
       "\n",
       "   numeric_count  upper_counts emails  emails_count  urls_flag  \n",
       "0              0             1     []             0          1  \n",
       "1              0             0     []             0          0  \n",
       "2              0             1     []             0          0  \n",
       "3              0             0     []             0          0  \n",
       "4              0             1     []             0          0  "
      ]
     },
     "execution_count": 110,
     "metadata": {},
     "output_type": "execute_result"
    }
   ],
   "source": [
    "df.head()"
   ]
  },
  {
   "cell_type": "markdown",
   "metadata": {},
   "source": [
    "### Convert into base or root form of word it will take hrs or days"
   ]
  },
  {
   "cell_type": "code",
   "execution_count": 111,
   "metadata": {},
   "outputs": [],
   "source": [
    "nlp = spacy.load('en_core_web_sm') # need to install this small data for spacy library, medium and large data files are also available"
   ]
  },
  {
   "cell_type": "code",
   "execution_count": 112,
   "metadata": {},
   "outputs": [],
   "source": [
    "x = 'kenichan dived times ball managed save 50 rest'"
   ]
  },
  {
   "cell_type": "code",
   "execution_count": 113,
   "metadata": {},
   "outputs": [],
   "source": [
    "# dive = dived, time=times, manage = managed"
   ]
  },
  {
   "cell_type": "code",
   "execution_count": 114,
   "metadata": {},
   "outputs": [],
   "source": [
    "def make_to_base(x):\n",
    "    x_list = []\n",
    "    doc = nlp(x)\n",
    "    \n",
    "    for token in doc:\n",
    "        lemma  = str(token.lemma_)\n",
    "        if lemma == '-PRON-' or lemma == 'be':\n",
    "            lemma = token.text\n",
    "        x_list.append(lemma)\n",
    "    print(\" \".join(x_list))"
   ]
  },
  {
   "cell_type": "code",
   "execution_count": 115,
   "metadata": {},
   "outputs": [
    {
     "name": "stdout",
     "output_type": "stream",
     "text": [
      "kenichan dive times ball manage save 50 rest\n"
     ]
    }
   ],
   "source": [
    "make_to_base(x)"
   ]
  },
  {
   "cell_type": "markdown",
   "metadata": {},
   "source": [
    "### Common words removal"
   ]
  },
  {
   "cell_type": "code",
   "execution_count": 116,
   "metadata": {},
   "outputs": [
    {
     "data": {
      "text/plain": [
       "'switchfoot - awww bummer shoulda got david carr day d upset update facebook texting cry result school today blah kenichan dived times ball managed save 50 rest bounds body feels itchy like fire nationwideclass behaving mad'"
      ]
     },
     "execution_count": 116,
     "metadata": {},
     "output_type": "execute_result"
    }
   ],
   "source": [
    "' '.join(df.head()['tweets'])"
   ]
  },
  {
   "cell_type": "code",
   "execution_count": 117,
   "metadata": {},
   "outputs": [],
   "source": [
    "text = ' '.join(df['tweets'])"
   ]
  },
  {
   "cell_type": "code",
   "execution_count": 118,
   "metadata": {},
   "outputs": [],
   "source": [
    "text = text.split()"
   ]
  },
  {
   "cell_type": "code",
   "execution_count": 119,
   "metadata": {},
   "outputs": [],
   "source": [
    "freq_comm = pd.Series(text).value_counts()"
   ]
  },
  {
   "cell_type": "code",
   "execution_count": 120,
   "metadata": {},
   "outputs": [
    {
     "data": {
      "text/plain": [
       "good      89366\n",
       "day       82299\n",
       "like      77735\n",
       "-         69662\n",
       "today     64512\n",
       "going     64078\n",
       "love      63421\n",
       "work      62804\n",
       "got       60749\n",
       "time      56081\n",
       "lol       55094\n",
       "u         52833\n",
       "know      51172\n",
       "im        50147\n",
       "want      42070\n",
       "new       41995\n",
       "think     41040\n",
       "night     41029\n",
       "amp       40616\n",
       "thanks    39311\n",
       "dtype: int64"
      ]
     },
     "execution_count": 120,
     "metadata": {},
     "output_type": "execute_result"
    }
   ],
   "source": [
    "f20 = freq_comm[:20]\n",
    "f20"
   ]
  },
  {
   "cell_type": "code",
   "execution_count": 121,
   "metadata": {},
   "outputs": [],
   "source": [
    "df['tweets'] = df['tweets'].apply(lambda x: \" \".join([t for t in x.split() if t not in f20]))"
   ]
  },
  {
   "cell_type": "markdown",
   "metadata": {},
   "source": [
    "### Rare words removal"
   ]
  },
  {
   "cell_type": "code",
   "execution_count": 122,
   "metadata": {},
   "outputs": [
    {
     "data": {
      "text/plain": [
       "kenakasoulstar    1\n",
       "beatthegmat       1\n",
       "partaaayy         1\n",
       "benbiputra        1\n",
       "cornerwoo         1\n",
       "mrsmoca           1\n",
       "tomgaroo          1\n",
       "mitseufz          1\n",
       "failbot           1\n",
       "damnfinally       1\n",
       "carme             1\n",
       "gendegrassi       1\n",
       "kathrynshea       1\n",
       "heeeell           1\n",
       "princessmisa      1\n",
       "kudos2your        1\n",
       "night---also      1\n",
       "horrible-i        1\n",
       "enterteinment     1\n",
       "shakened          1\n",
       "dtype: int64"
      ]
     },
     "execution_count": 122,
     "metadata": {},
     "output_type": "execute_result"
    }
   ],
   "source": [
    "rare20 = freq_comm[-20:]\n",
    "rare20"
   ]
  },
  {
   "cell_type": "code",
   "execution_count": 123,
   "metadata": {},
   "outputs": [
    {
     "data": {
      "text/plain": [
       "goodnighttook                                          1\n",
       "poteet                                                 1\n",
       "mostlikely                                             1\n",
       "ffxscarfacexsoundtrack2greatnessxcultureshockmagcom    1\n",
       "quessir                                                1\n",
       "                                                      ..\n",
       "kudos2your                                             1\n",
       "night---also                                           1\n",
       "horrible-i                                             1\n",
       "enterteinment                                          1\n",
       "shakened                                               1\n",
       "Length: 535876, dtype: int64"
      ]
     },
     "execution_count": 123,
     "metadata": {},
     "output_type": "execute_result"
    }
   ],
   "source": [
    "rare = freq_comm[freq_comm.values ==1]\n",
    "rare"
   ]
  },
  {
   "cell_type": "code",
   "execution_count": 124,
   "metadata": {},
   "outputs": [],
   "source": [
    "df['tweets'] = df['tweets'].apply(lambda x: ' '.join([t for t in x.split() if t not in rare20]))"
   ]
  },
  {
   "cell_type": "code",
   "execution_count": 125,
   "metadata": {},
   "outputs": [
    {
     "data": {
      "text/html": [
       "<div>\n",
       "<style scoped>\n",
       "    .dataframe tbody tr th:only-of-type {\n",
       "        vertical-align: middle;\n",
       "    }\n",
       "\n",
       "    .dataframe tbody tr th {\n",
       "        vertical-align: top;\n",
       "    }\n",
       "\n",
       "    .dataframe thead th {\n",
       "        text-align: right;\n",
       "    }\n",
       "</style>\n",
       "<table border=\"1\" class=\"dataframe\">\n",
       "  <thead>\n",
       "    <tr style=\"text-align: right;\">\n",
       "      <th></th>\n",
       "      <th>tweets</th>\n",
       "      <th>sentiment</th>\n",
       "      <th>word_counts</th>\n",
       "      <th>char_counts</th>\n",
       "      <th>avg_word_len</th>\n",
       "      <th>stop_words_len</th>\n",
       "      <th>hashtags_count</th>\n",
       "      <th>mentions_count</th>\n",
       "      <th>numeric_count</th>\n",
       "      <th>upper_counts</th>\n",
       "      <th>emails</th>\n",
       "      <th>emails_count</th>\n",
       "      <th>urls_flag</th>\n",
       "    </tr>\n",
       "  </thead>\n",
       "  <tbody>\n",
       "    <tr>\n",
       "      <th>0</th>\n",
       "      <td>switchfoot awww bummer shoulda david carr d</td>\n",
       "      <td>0</td>\n",
       "      <td>19</td>\n",
       "      <td>115</td>\n",
       "      <td>5.052632</td>\n",
       "      <td>4</td>\n",
       "      <td>0</td>\n",
       "      <td>1</td>\n",
       "      <td>0</td>\n",
       "      <td>1</td>\n",
       "      <td>[]</td>\n",
       "      <td>0</td>\n",
       "      <td>1</td>\n",
       "    </tr>\n",
       "    <tr>\n",
       "      <th>1</th>\n",
       "      <td>upset update facebook texting cry result schoo...</td>\n",
       "      <td>0</td>\n",
       "      <td>21</td>\n",
       "      <td>111</td>\n",
       "      <td>4.285714</td>\n",
       "      <td>9</td>\n",
       "      <td>0</td>\n",
       "      <td>0</td>\n",
       "      <td>0</td>\n",
       "      <td>0</td>\n",
       "      <td>[]</td>\n",
       "      <td>0</td>\n",
       "      <td>0</td>\n",
       "    </tr>\n",
       "    <tr>\n",
       "      <th>2</th>\n",
       "      <td>kenichan dived times ball managed save 50 rest...</td>\n",
       "      <td>0</td>\n",
       "      <td>18</td>\n",
       "      <td>89</td>\n",
       "      <td>3.944444</td>\n",
       "      <td>7</td>\n",
       "      <td>0</td>\n",
       "      <td>1</td>\n",
       "      <td>0</td>\n",
       "      <td>1</td>\n",
       "      <td>[]</td>\n",
       "      <td>0</td>\n",
       "      <td>0</td>\n",
       "    </tr>\n",
       "    <tr>\n",
       "      <th>3</th>\n",
       "      <td>body feels itchy fire</td>\n",
       "      <td>0</td>\n",
       "      <td>10</td>\n",
       "      <td>47</td>\n",
       "      <td>3.700000</td>\n",
       "      <td>5</td>\n",
       "      <td>0</td>\n",
       "      <td>0</td>\n",
       "      <td>0</td>\n",
       "      <td>0</td>\n",
       "      <td>[]</td>\n",
       "      <td>0</td>\n",
       "      <td>0</td>\n",
       "    </tr>\n",
       "    <tr>\n",
       "      <th>4</th>\n",
       "      <td>nationwideclass behaving mad</td>\n",
       "      <td>0</td>\n",
       "      <td>21</td>\n",
       "      <td>111</td>\n",
       "      <td>4.285714</td>\n",
       "      <td>10</td>\n",
       "      <td>0</td>\n",
       "      <td>1</td>\n",
       "      <td>0</td>\n",
       "      <td>1</td>\n",
       "      <td>[]</td>\n",
       "      <td>0</td>\n",
       "      <td>0</td>\n",
       "    </tr>\n",
       "  </tbody>\n",
       "</table>\n",
       "</div>"
      ],
      "text/plain": [
       "                                              tweets  sentiment  word_counts  \\\n",
       "0        switchfoot awww bummer shoulda david carr d          0           19   \n",
       "1  upset update facebook texting cry result schoo...          0           21   \n",
       "2  kenichan dived times ball managed save 50 rest...          0           18   \n",
       "3                              body feels itchy fire          0           10   \n",
       "4                       nationwideclass behaving mad          0           21   \n",
       "\n",
       "   char_counts  avg_word_len  stop_words_len  hashtags_count  mentions_count  \\\n",
       "0          115      5.052632               4               0               1   \n",
       "1          111      4.285714               9               0               0   \n",
       "2           89      3.944444               7               0               1   \n",
       "3           47      3.700000               5               0               0   \n",
       "4          111      4.285714              10               0               1   \n",
       "\n",
       "   numeric_count  upper_counts emails  emails_count  urls_flag  \n",
       "0              0             1     []             0          1  \n",
       "1              0             0     []             0          0  \n",
       "2              0             1     []             0          0  \n",
       "3              0             0     []             0          0  \n",
       "4              0             1     []             0          0  "
      ]
     },
     "execution_count": 125,
     "metadata": {},
     "output_type": "execute_result"
    }
   ],
   "source": [
    "df.head()"
   ]
  },
  {
   "cell_type": "markdown",
   "metadata": {},
   "source": [
    "### Word cloud visualization"
   ]
  },
  {
   "cell_type": "code",
   "execution_count": 126,
   "metadata": {},
   "outputs": [],
   "source": [
    "from wordcloud import WordCloud\n",
    "import matplotlib.pyplot as plt\n",
    "%matplotlib inline"
   ]
  },
  {
   "cell_type": "code",
   "execution_count": 127,
   "metadata": {},
   "outputs": [],
   "source": [
    "x = ' '.join(text[:20000])"
   ]
  },
  {
   "cell_type": "code",
   "execution_count": 128,
   "metadata": {},
   "outputs": [
    {
     "data": {
      "text/plain": [
       "'switchfoot - awww bummer shoulda got david carr day d upset update facebook texting cry result school today blah kenichan dived times ball managed save 50 rest bounds body feels itchy like fire nationwideclass behaving mad kwesidei crew need hug loltrish hey long time yes rains bit bit lol fine thanks tatianak nope twittera que muera spring break plain city snowing re-pierced ears caregiving bear watch thought ua loss embarrassing octolinz16 counts idk talk anymore smarrison gun zac snyders doucheclown iamjazzyfizzle wish got watch miss iamlilnicki premiere hollis death scene hurt severely watch film wry directors cut file taxes lettya ahh ive wanted rent love soundtrack fakerpattypattz oh dear drinking forgotten table drinks alydesigns day friend called asked meet mid valley todaybut time sigh angrybarista baked cake ated week going hoped blagh class 8 tomorrow hate wake people going cry sleep watching marley im sad misslilly ooooh lol leslie ok leslie mad meh lover exception track gets depressed time some1 hacked account aim new alielayus want promote gear groove unfornately ride b going anaheim thought sleeping option tomorrow realizing evaluations morning work afternoon julieebaby awe love 1 miss humpninja cry asian eyes sleep night ok sick spent hour sitting shower cause sick stand held puke like champ bed cocomix04 ill tell ya story later good day ill workin like hours missxu sorry bed time came gmt1 fleurylis depressing think want know kids suitcases bed class 8-12 work 12-3 gym 3-5 6 class 6-10 day gonna fly miss girlfriend feel like getting today got study tomorrows practical exam reason teardrops guitar break heart sad sad sad know hate feeling wanna sleep jonathanrknight awww soo wish finally comfortable im sad missed falling asleep heard tracy girls body found sad heart breaks family viennah yay happy job means time checked user timeline blackberry looks like twanking happening ppl having probs w bgs uids oh manwas ironing jeancjumbes fave wear meeting burnt strangely sad lilo samro breaking tea oh sorry think retweeting broadband plan massive broken promise wwwdiigocomtautao waiting broadband localtweeps wow tons replies unfollow friends tweets scrolling feed lot duck chicken taking wayyy long hatch vacation photos online yrs ago pc crashed forget site need hug andywana sure pos want dont think trade away company assets sorry andy oanhlove hate happens sad feeling dallas going gotta think shows use music game mmm ugh92 degrees tomorrow u thought u sd hmmm random u found glad hear yer batmanyng miss ps3 commission wutcha playing copped blood sand leaving parking lot work life cool sadly gotten experience post coitus cigarette nice day bad rain comes tomorrow 5am starrbby bad lost job pay phone bill lmao aw shucks damm school tomorrow mo jobs money hell min wage 4 fn clams hour katortiz forever soon ltalgonquin agreed saw failwhale allllll day today jdarter oh haha dude dont look em says hey added sorry terrible need pop ninjen sure right need start working nikster jared hate people diss bands trace clearly ugly gym attire today puma singlet adidas shortsand black business socks leather shoes lucky run cute girls location picnic phone smells like citrus ashleyac donkey sensitive comments med glad mug asap charger awol new csi tonight fml think arms sore tennis wonders u like unhappy split seccond depressed sleep soon hate saying bye tomorrow night statravelau got ur newsletter fares unbelievable shame booked paid missin boo markhardy1974 itm damn chalk chalkboard useless blast getty villa hates sore throat day getting worse msdrama hey missed ya meeting sup mama tummy hurts wonder hypnosis working stop smoking fat ones januarycrimson sorry babe fam annoys thankfully asleep right muahaha evil laugh hollywoodheat paid attention covered photoshop webpage design class undergrad wednesday b-day know 2 poor cameron hills pray ex threatening start sh myour babies 1st birthday party jerk headache makeherfamous hmm u enjoy problems constants u think things find ulike strider sick little puppy ryleegracewana steves party sadly easter wnt b able 2 ohh hey actually won bracket pools bad money stark follow work bad nite favorite teams astros spartans lose nite tw good body missing northern calif girl found police found remains missing northern california girl mangaaa hope increase capacity fast yesterday pain got fail whale 15 times 2 hours classes work watching quothousequot kpreyes remember bum leg strikes time paradisej cool kinds complaints laptop online overheating recalls emily glad mommy training new job misses party send bad messages 3rd party send mixed ones sophmore year henkuyinepu overrated marykatherineq know heard afternoon wondered thing moscow times laying bed voice sooo sad killed kutner house whyyyyyyyy jacobsummers sorry tell mea culpa sorry alliana07 sense suicide thing refuse believe actually happened salancaster hope ok mercedesashley damn grind inspirational saddening time want stop cuz like u love hibanick yeah aw know wudnt stand chance ugh cant sleep 130am hanging crooners wanna sing sucks erresc aaw miss ya im leaving bh tomorrow quotmorningquot think aww wanna beach w u girls pissed asbas radio station wednesday b-day n know 2 know life flipped upside thought head ramen sounds good pain sides hurt mention crying fail late night snack glass oj bc quotdown sicknessquot sleepugh hate getting sick allyheman big fan camilla belle grum wah clip el-stupido work filters wait till puter 2 blame ex 4 broke week longer longer terms need actually going cold thecoolestout ehhh weathers gonna turn ugly tomorrow chelserlynn haha cooooold d incredible stuff hoping tummy rumbles away soon knights notice told working tomorrow called agency follow said bedtime missing babe long alive happy yawwwnn tired love imma try sleep hopefully headstart aghsnow miss kenny powers bridgetsbeaches thank letting people know sad direct message got actually bridget india missed 100th test victory n 10th consecutive win loss jonathanrknight guess sadly going bed ozesteph1992 shame hear stephan mrsaintnick hey leavin morning intending finish editing 536-page novel manuscript tonight probably happen 12 pages left laid today head hurts twista202 read 9thamp10th princess diaries saving francesca cry end hmm easy books nokia 1110 died mom breast cancer find like week worried going sleep hoping tomorrow better day rumblepurr lol wish understood daylight savings ended breakfast hour later waking kids onemoreproject lame understand heroes season living downtown sure fun jonathanchard calorie wise wish junk food calorie free ate thing sour skittles big ass cherry coke man work hard getting sick time hot tea studying sleeeep getting eyebrows waxed pain phantasy star yesterday going work oh - got macheist 30 apps - sweet espresso serial said sent - oh picked mich st win feeling pretty good pick way untiltonight lost downstairsworking feel bad ryanseacrest hates anoop mean seriously kinda mean pinkserendipity yes sprint 4g baltimore chicago far stuck awake middle night second day row felt terrible yesterday thanks bursting bubble going school soon find wear gosh hard marieclr lol naughtyhaughty page sooooo long got deleted sad day history crazy wind today birding currently work grrr ipods acting weird jai ho thinking playing songs ughh penndbad send dvd cos missed heaps happy big deal website machineplay sorry having therapyfail colindemar far way rail tips swear losing gaining losing gaining tweeps heart wrenching today realized good hiding things find staying friends househouse sitting neighbors loud-having party dannyvegasbaby danny im upset wasnt watch live chat car 3 hours trip im soooo upset check mug borders closed 10 downloading nins new album quotthe slipquot - hell come times days woke written e-mail early university today teach 830 watching hill making sad channels boring lazy day find hobby supersport miss buddy ill ny 25th robluketic love french tell people south qtr french snarl french beautiful people opps said got day remain problem come activated selfcontrol block early meaning check new qc regularizing internal clock difficult fb hillydop oh spencer good guy goodlaura reese dying ttsc season finale week 24 boring madame president crazy woman jonathanrknight hate limited letterstoohope guys finei pray dogshes shit today screwed wanttss going sleep tonite worried tired post tonight shit today screwed job interview cardiff today wish luck got 3 hours sleep stustone whack way worse whack wiggety-whack djalizay think people choose way think chose accept familys help dead eloquentembrace going kill seen ds9 waiting till solid week sitting cheechbud think ur right hahaha 45 hrs hate spartans sad mind body severely protesting quotgetting upquot thing nightmares boot mysteezradio goin follow u u lol angels mandayyy twista202 think want read books library nap interrupted times today going japanese rents kind longs bus shows end ghost world right ugh gurumn canada canada weird supposed snow wednesday ugh awwh babs look sad underneith shop entrance quotyesterdays musikquot o- like look new transformer movie sad feet macbook fell gonna late tomorrow 132am gonna tipsy lonesome isthat sad sweating forthcoming trip e3 find crash screwed gotten somebody read tweets cant account infinitydefines omgawd couldnt handle cat heat time d d donniewahlberg hope auburn looking good davidhenrie thats people mag haha couldnt fit dont think pictures magazine tho haha breadandbadger congrats totally forgot submit photos paulaabdul awww good luck paula work hard hope fun new album gonna amazing xxx imaginarypeach leaving -gets sad- miss twitter phone broke stupid nokia phone ughhh miss advance phone shooting outside house o kidding scared tuesdayll start reflection n lecture stress reducing techniques sure useful accompaniers tragedy disaster news week yes yes trying find picture upload correclty oh red sox game rained looking forward opening day find keys charlietm know right dunno going twitter getting sore throat labelsnotlove home town mammy called depressd pls explain y parent let 8yr old child walk hello 2009 ircmaxell - think need find better anti-depressants think paxilwellbutrin combo losing efficacy myconnecticut restaurant called woodntap competitive eating tourney round tourney time place 2nd bathroom wake lakin caitlinoconnor want tacos margarhitas telll gay hellolt3 im lonely company 22 female california bad day betfair office miss wait celebrate tar heel win weekend cold want sleep kristencampisi 4 u officially 4 round monkeys found twin wont write heartbroken missom aww know felt like yesterday work sarahreedsc treaty defined missed brent praise band fun lead guitarist ltpoutgt jpfurry poor john happens play fruit microwave seriously seen doctor xxx missing bff watching home away reminds lt3 shout u courts mandayyy new video card doa feeling lost naked confused jk sort ofno iphone damn late filling appraisal form people sent occupied work missed brent praise band fun lead guitarist ltpoutgt think past cant change deserved wat got thinking gah lost ring no-where seen burgaw ooooooh sealclap download shitloads zip folders 4chan internet moneys fuck yeah alicia amp mikey nursing nile glad feeling better hate baby sick fucked ic brandizzzle08 yoyoyo internet rude tonight reconnected bed jemcam uni stuff netball netbal uni stuff kissability poor help forget 8th april amp 13th july dierks bentley comin columbus oh wanna bad sidekick chriscantore congrats totally jealous wish xm working gr8t face itchy poor socks luvvvvv golden retriever want sighhhh saw found tracy girl piece luggage fucking terrible aaaaand nausea donniewahlberg ooh im excited going 2 long love youtube spent 1 hour reach axis bank find today holiday mahavir jayanti contd mathewsmichael agree jobros dont update theres fishmouse hilarious linked clip lj time ago went dead link diannepulham oooooooo im thats need study tweeted nearly day posted website tonight hopefully goes night time bostongarden miss bentley seriously needs finish job applications son vincas sick stay home tense days work holiday kids whinging clientampboss understand english rewrote text unreadable written v good writerampreviewed correctly huntermoore want punch sooo sick snow ughh itsnemesis ------- lovemeagan work fan upset like apologize repeated video games live related tweets going stern discussion koodo soon stern zaydia cant figure pay hotel etc fml seniority bc technological ineptness quotregisterquot classes feels like slept day away looking forward bouts gallbladder pills pain thastevieg want old bass mad tired today callin early tonight nighty night twittas levenrambin easy good afraid bad code think going bed goodniight hate riancurtis friend love kariajay time notice gonejust needed db2 aaronrva bathroom pee ashleyskyy wanted margarita kourtneykardash yup night workouts r worst unfortunetly work schedule allows night tough called hillsong - said tell waiting list - know looking good 0g milky bar left 200ml coke jokerrrr stillllll arrived mraow feel like dancing art school wants rape karenucol ah bet like craving play softball basketball noo time terrified accidentally deleted reference management assignment hopes doesnt trouble gets amazon s3 plugin worked website need php 5 hosting provider php 44 sad argh suuuper sleepy hour ago wide awake hope stay night - austinhill wish sold time let know love hear watched tropic thunder dreading tomorrow qweendassah nohe missn chiefdelphi - according bro new puppy poo fight covered poop picture stolen playing game home new boss su yin huen tweeted feel unbearable guilt staff cry poor joshy sick damn tejanos thoughts sandra cantus family difficult sad time franzglaus know wanted let everybody know happening michigan know sigh shameful fill hours alicayaba cuuute hey miss na seeing girls everyday jonathanrknight oh mention quotgooooood moooorniiiiiiingquot germany im cageor bettermy office throat closing string cheese good idea aww sandra cantu found dead suitcase missing children stories good poor family wishing home underneath covers walking home school drains energy ridley1013 agree shapeshifting copout excited angelas ep thought week noah awesome tho savethestrib dang knew earlier outings planned wish better writing taking long write paper course access halo 3 mythic map pack re-download bad news legendary map pack ugh 600ms vene2ia unfortunately weeks told little bit busy latest project thecoolestout ha suns gone day 2 lot harder day 1 let day 3 goes tomorrow man crush jake peavy let gayforpeavy trishzw megafast trip time day tomweds going tonight want bad tried warn tech fail michigan state sad omg mouth pain wanna sleep untill time braces getting annoyed easily today gtgtgt biofuel proposal getting annoyed easily today gtgtgt biof mizzchievouz hey girl site girlyvue videos a5hleyf spending time grandma early tomorrow leave skittles got home watching michigan state tromped oh jew-bus years worth classes work alot organize gtlt finishing tonight possiblemy bones ache griffmiester exchanging laptop arrived hyperbets hope long feel miserable rcompo rachel hang outage neccessary - gonna home wekend dumb folk work im free f sat 4 theleaguesf fun amp furious new mantra bay 2 breakers getting 2 rambunctiousthe city overreacted amp clamped amberbenson hubby reason thinks important good spot red carpet trek movie premiere sod swear matter long getting 5am gets easier man eyes hurts wah jeffreestar jeffree hair color permanent dye fades week otakusecret reaction whoa coming sick feeling bit better got new medicine hope feel good night sleep ohh suppose snow wtf dangerm0use think maybe couple hours sleep hon productive right ur dog tired worry maddyva thanks lot learned lot new words find looking wish xblm downloads gamertag hitokyri 5 gamertag thing nonsense tired new testament test 930 scoutbuck tons hay troll ahhhh stupid movies watched mirrors ugggggh stooopeeed rip - love buck homework understand things taken away time unfair want like baby scratch du heif half cookies tum anymore shoog poots cococourtney listening sweets time forever miss chi town visits plz geez busy afternoon meetings emails meetings email meetings 6pm day going ah dark dang spring break cool bad work week oh money phone ttyl everbody sarakate im afraid ur reply uni ages ago feeling carvin1 lol emotional ass men omg late night eating broke nickcarter aww nick like hair longer cut break heart wonder jon lost net wow depressing thing world losing video created matter seconds fml nchokkan says stock poohpot lmao im sorry poohpot ate chance softbelly mtub loud time posterior lose fat articulation creaking running im drool swimming listening nathan cry today sucked gonna die chris callum wahhh stou site update info 22552 exam open course wait mail notices doc um ohsbrat30i sorry feeling kinda yucky 5am going come quick love scrappy missin wants hear seblefebvre s song myspace messing bad news dad cancer dying good news new business started life coach practising holistic weight management duchessrebecca man intervention soo sad help need new boyfriend stuck rut feel like complete idiot shit works help saw ad craigslist casting female host g4 totally psyched realized hoax pepperoni rolls la called valentinos - said sausage rolls pepperoni rolls soillodge yes monday want new gg episode miss watching rockos modern life rip sandraits sad like keeping fingers crossed buddy feeling wait eat skinny vegas hungry margeinovera tried tweetdeck hated passion hated sure benackerman btw iphone acting funny dying quickly freezing bs admitting sayin sitting wondering quotedquot strong hold bananaface im sorry got sick lol going bed night carolrainbow internet home drive ox use internet builders stevebuscemi weather canada freezing twiggassssssss range day hopefully good danadearmond reads pray grandma pain 3 woke having accident - quotit pushing pushingquot crying stop wetting pants home franklin street jumped fire kicked jenny lost shoe johnnybeane hey changed default finally gave bored start thing think 140 going problem tho like myspace status ellievolia oooonly lucky eh awh definitely early work buttload homework needs copy visual studio 2008 school world weekmy school silly look bright u omg economics test dont know things know omg im gonna fail robcthegeek time islands pride philippine tourism coralclamrare fish poaching kinda sad henkuyinepu yeah apparently bad taste hummiemd know surprised recommends youtube tomorrow figure waiting airport ride harassed 2 men trying sell ugly hats want sleep left ids location bars fuckkkkkkkkkkkkk celycarmo sorry understand comment officialrandl announcement stayed late night kishorek strange illegal torrents avlbl legal dvd stock imiss u trolley packed like sardines padre game remove car good mts randomlynat jeez trying help haha supamagg happened saturday night glittery green lighter trying reduce number cigarettes day yea quiet cuz work im bored death talk gotta cooking assignment hard treesahquiche okay applepears talked people told jennifermf know night owl nature hahaha time zone 1 mamasvan lol - nope complete camerafail maxime68 megelder useless sleep fair want fun pookie uti nurse gabbie 100 sodas jillianfish tweet damn hang anistorm video games matter yesterdays news sleeptilnoon left got tempted ate soon got home chocolate velvet amp ate d mocha stressing blackberry keeps flashing red alert status reason faking hate - wanna wear doc martens worn december shoe repair shop guy find shoes find couple days bbarnett coming woke vivid sketchy not-cool dreams life time stare wall lights shall 3 days sister passport nicolerichie oh yes miss uh oh think getting sick good god ruined belly button watching framed roger rabbit makes miss toon town akianz renting cheap renting awesome house 3 buying attempts fall running nose spinning head good combination meeting eazydoesit87 negative lost vote confidence nasty budget iphone sent apple today sofiinoel thats bad dammit episode 3 kings play reason stopped middle upset missed chat quiz online free internet ceased believe disbelief way people hurt car season started throat raw kevchoice persons mind ish like prayers fam real frago hate need need therapist twilight come yesterday fingers crossed today nilelegania glad able help feel better hate sick love tireddddddd want sleep assignment finish exam tomorrow study know thinking need money omgits jst teusday ddlovato davidhenrie ummmmm cant find heard found sandra cantu 8 yrs old corrosivecandy ive forgotten snoo-snoo wonder snoo-snoo meet amanorris wow tweet like giant sexistsorry bathtub drain fired haz 1 job 2 amp iz fail got drano ass amp iz draining wanna shower dangit stuck home nomadicmatt 110 duckling famous childrens book stolen bostons public garden - boston globe sharethis oh appomattoxnews thank hate list includes 2 convicts heading altrincham hours install morning good im bloody knackered work today helppp xxx jeffreecuntstar garage park driveway lauredhel happened quoton popular musicquot twadorno probably difficult reading prescribed actually struggling continue - cant flowers falling dont camera cellphone good liking snow right getting nice spring-like weather brianarmstrong pity youtube currently blocked china vids margaretcho happened hightlight life best leather sofa world office means working 3 days internet gets uncapped better days lodged belly love atekinzz ampamp soo miss wanna sneak zoo play kitties lolitariot oh hope getting sick alejandralei dont think cause cousins birthday party sweet little man fell asleep waiting daddy big brother home poor baby missed today angel going miss athlete weekend trust hard watched considering today yaknow shawnna tomomorrowi need bestfriend grr want reading wont left read atekinzz world rumlover u supposed date pears amp brie bottle cabernet quotwin date tad hamiltonquot oh gawwd life flashed forward 40 75 cats crap need dresses kaeeeep yeah know horrible ugh saddening brodhe geez ur fun wanna punk rock band jyesmith lot angst tuesday afternoon glad britney crazy anymore hell sad upap cook county huuuge headache omg feel like crap anistorm sorry cleders sorryi rooting man took forever shandasaurus listing items ebay sell takes forevermeanwhile coleman watching hills season premier got presentation 23 slides crying week hardest weeks lost 160 like previously skins thing starts season like went straight intro like houndour wish therei pretty good scaring shit people going sound vain running fav lip gloss stuiy click link screams quoti spider spiderquot known better yucky time work sick pratama imac came 320 indonesia states dammit need stop buying furniture misssil half asleep turned laptop death peaceful life bites think jonathanrknight lost net sure hope - test footage girlfriend hd dark underxposed tough game watch tonight state finally going bed staying watch season premiere hills jruby support hpricot versions jinxcat unlike sisteri fraking app store pissing logging need study having problems accessing ttb cant strongly dislike people stupid comments dont know story emmaketurah sorry emma swarley goldfish sad u tweets gone missed guys tonight sleep face kinda swollen let allergic thing thatll thursday school tomorrow doubtful snickthedog izzys cat tree shall stare floor chases runs officially banning godaddycom comp head hurts small print wasted 10 happily gone boba humanopium pretty scary ilovepie mines finding hard fit good morning ready 2 want 2 2 bed hates waiting mails wheat bread dollar store toast nicely going taxes calling early night kutner mean knew going happen sad lt3 house sad jonathanrknight aw ok goonite ill cant cinema fell asleep mean christina kelleyrowe hey remember time friends ugh vomit sick need sleep lymph nodes massive rahm emanuels balls right oh computer sucks think shall able listen xbox 360 fancast tonite missing playing trumpet throat sore meant going 5 day camp friday sure sasii know exactly feel work bed time 1 sighs 6 mornings week wednesday hert jesus camp yeah marybethune oh happened today forgot going dress shopping opera tomorrow turtles better mac - lasts longer moves faster soaked pleasant ginayates sorry hear maggie thoughts mum ewarden email hope feel better miamiiboii dead yu gettin wen im leavin arlenecd tell close california lol phlaimeaux stupid arranged marriages shall convert marry melove emilyruppe said looser implies poor sandra cantu amp cantu family prayers sick world live 8 fuck omg austins man lt3 love nicolerichie cried hard matthew died sad feet macbook fell sad feet macbook fell chordsy - find things like twitter lovebscott absolutely - filled curry true indian coming im soooo cold right heidimontag lol kant believe cam got beat upp sooo embarasssiiiin jonathanrknight good knight hun looking forward ur tweets hate missing fun cuz time difference tumblr exactly feels wearing tie daniela95616 hahaa realized quotimpunequot definitely isnt word wanted dang unclever watching old videos dance team makes miss wahh csi dvred love money 2 - gonna watch sleep - goodnight tweeterslt3 struggling hard inventory ddlovato hate ballinbitch haha im ballin got bills paaaaay days want work home crap paulewog waitis game episodes confused carlyw66 haha cried guess statistics bunch mumbo jumbo sloanb got sadly works uk amp moment evicted enjoy learning css nachojohnny brian fuck u lol replied 2 ur messagedid u miss u heidimontag dvrd went watch apparently dish network went missed catch rerun jessdubb lmao u wait season come summe boo hot nd dry ass weather lizchavez set feet ground missing eyelid people daniela95616 english professor ashamed -o wish frogs extinct came home cross county tired want walk home snow wants pick heidimontag lauren stubborn loves love feel bad cry lol grouchy wants bmar heart broken morning dropping foo pre school understand moms quothe heart brokenquot feeling hurts im mood chocolate want miniature reeses cups heat like oven feel sick nwo nickcarter come chat 15 minutes boredd colddd internet keeps stuffing horrible nightmare night affected sleep tired im lonely company 22 female new york born4broadway lost st ignacius prepatory school haha birutagme yeah depressing stuff like gets whoisariston problem tongue-in-cheek remark lots acronyms nz greggrunberg hey said matt gonna ballistic disappointed good ep tho ugh horrible ending sandra kantu story prayers danielledeleasa - hate 2 b allergic want puppy soo bad thought cool names morning folks 700 yawn amp away horses - hope twitter better behaved today night travesty quandotcom miss amandaenglund sorry hear loss year far nicolerichie gossip girl repeat inyoureyes2410 reckon finding hard use twitter stuck house days sad know y thousandmiles maybe years shall tax return girl dream right work tired hell feel cold coming clarianne knot2serious april 9th coming soon hannahsix cream eye herpes - ocular herpes different strain okay gotta repeat art folio cuz old terms work got wet ready weekend monday lovebscott umm nopethink im insomniac plus got flui shall willl sleepin like phuckin fish outta water minute finland sleeping night time lunafiko wait try em prolly wait weekend earliest shiner taking bed blankets clarianne april 9th coming soon wants cry need bank tomorrow broke earthquake italy sadden hours away naples family sleeping stressed week coming dragoneer yea working tp hack server 12player thing folks hurt ankle going dr raymondroman oh noes manage send trash noticing feel ya lost free copy radioactive ipod grrand buy nother coz came paper shit photoshop hate crash vacations makes feel sick gone listening murd 9th wonder- chillen missing crazy sex life louie094 shooting careful luisa hillary006 sure ruined gift whitney cell easter beso hollywood tired want wake early tomorrow damn work finished watching movie prayers bobby broke heart syekr myki horrible stephenkruiser 2 dog today ran nevadawolf sorry hear dnf run tonight risk bad coords ftf honey3223 disgruntled people wrote esn 1000 hits day bill pulls 250 tops moony394 ohh omg lmao crying right lol kutnerrrr best came running took showerwhy lower stomach hurt exercising watching fallon mom working projectschool hard 56 min till home time counting craving visit mac store closed time stephenkruiser sorry hear care paulcoles hmmmgreed good motivates individual better-not takes away gabbyisactive brat rub want mocha kutnerrrr think 13 ugh kutnerkal penn - bright star ho redvinylgirl mom wish best luck hate homeworks -- head hurts bad got ebay blues item want jumped bidders 100 hour 3 hours better hopes gigdiary know - little depressed ate night leftovers today pc living room suffered fatal partion lost itunes library gone docs pics sad day manu season stephenkruiser poor spunkyits sadmy rotti 10 pathi know feel im sooo sad right need hug wants step brother home im worried dont know hope knows care heidimontag got watching hills loved excited episode im sad season ryanmwilson aww stinks hugs tired feel like crap world feels crummy happy usb disco mouse dont want believe im readingbuuso sad wondering gamebattles white trash vs outnumbered emitstop true use spring break celebrate morning bah car start waiting anwb katebornstein pretty anti memorial tattoos strictest official ban disapproving family balamurugan longterm member team leaving month miss working hope venture justgelo sad knowing found body crazy world live child deserves ya know wanna rock maxi dress coachella lacking funding course baby screaming crib night day work let cry boooo home missing baby busy week ahead fri chill day guy kids egg hunt sat spiral dmb sat night easter followsavvy found everytime click twitter thing myspace goes dudes page stephenkruiser horrible sorryto hear davidhenrie cant find says dtmafiaofficial doesnt existthere jus 1 dtmafia found n u dun b followin wht thought support augh eff sarth stole mils nail polish pretty o wishes spring fling tour dawn amp neecee sigh gknight hoyts distribution nz website working great like need crummyasshole like movie cillian murphy hot wishes good old cartoons come ie captain planet wally daria sadness feeling v good abt got text sarah day centre point - time early start guessing train rammed commuters games fall modern warfare 2 halo 3 odst brutal legend bioshock 2 need cash dcastillo ugh disconcerting devinthedude007 actually site finally taken damn russians tweets arent going finished delicious breakfast paris shall miss milk europe tastiest milk world drink ilearn great considering finals week carmonium stressed outttt shouldve bern asleep hour ago trying figure twitter thingnone friends soo re-pinging kyle44 custom icons look cool edges square look bad diff background want la enterbelladonna dunno use forum frustrated shall miss talking lilbucknuts41 option georgeruiz unfortunately moments giant squid monster thestarrage want branch midv open dananner aw sorry hear change plans ordered macs instead time hit books polhillian yup nkdreamer donnies tweet stats 700 repliesand jrk timgrainger nah received stimulus ikimb0 seen ur tweet plz write bak u havnt got reply bak mccainblogette awwwww trying sleep 3 hours ago stephenkruiser sorry hear sad lose close loved cant sleep im feelin like piece shit stephenkruiser oh sympathies hard decision hope old border collie sleep 14 hug josephheustess cool wont spoil limbecky time warp sad theresawhite true lol slap face warm end march hate converting movies em itouch gross pimple torturedlady yea manaaaaaaaaaaaaaaaaaaaam marwan accent lol follower tonight unholyknight mom night brb figure burned feel like quottwittererquot tweetdeck wyldceltic1 karate tournament 8 weeks going sleep 1am againand finish statistics homework north carolina baby aint nothin stopping nba draft sleep reaaly miss john mayers twitters fuck rude people remove like tweets bitchfucks going late mqu today im tired worki need life leavin work feet hurt playradioplay sad unexpected totally cried haha superneej morning bah car start waiting anwb homework little sad deepbluesealove mom amp dad 6too early asleep hours ago stephenkruiser sorry hear dog funny little things homesick criminals breakn n2 brownstone lawnord ci misty djsoulsister yeah great vid 12quot single sold years ago im vals mac iitsc clubroom sweating stephenkruiser awww sad sorry updatingffe gives good minutes hot compress rily workng pulled muscle gng bed good night invite quothealthy diningquot session ashok hotel today exec chef rchopra damn workload - skip stephenkruiser sorry hear dog wishing happier days come hellivina miss em misstoriblack cool tweet apps razr 2 bed gotta wake hella early tomorrow morning procrastinating hate organizing clothes playing new mobbler v040 adds great new features play music e71 like v035 latroneb oh bestie missing esuriospiritus time come flawda double dates seriously sorry hear way late working client 1210 fb blegghhhh work work john muir dr dachesterfrench emailed yesterday u responded going long year fans got watching new house episodedefinitely saddest episodes man taxes suck horrified wrong turbotax decided lot stuff turned sleep time tomorrow gonna suck wtf kutner oh pissed house mean wtf amberpacific know dont know said cash rules picked oats market eat breakfast boy adamgoldston time work usc late night feel sick icecream faithgg45 computer shockwaveblah account rubyrose1 awww wish sydney luxuryprgal hahaha suriously feel like knows joke lc spell today totally suck vaccinated chicken-poxshould vaccinate 3 yr oldi confused damn thing school day yawwwn gotta early tomorrow ready weekend miss home calving seasonsad black died morning wish bottle calves stephenkruiser sorry loss brother dog sam sick wcushings disease work spend 8 hours dispatch room new kind starburst favereds sounds fab bc cherry strawberry fav reds added watermellon yucky productive 2 days angels andreabakes oh gee - insomnia sucks tried melatonin vivekg86 good hear support netbeans netbeans know heidimontag wish time rest world unfornately cairo wait mtva play heartbroken little sandra prayers family hadtobeyou 900 words shall finish tomorrow maybe shortiethug come ur background covers screen corner wrote exactly lines dialogue tonight gave ashman01 complaint facebook changed confusing sliced finger going town traffic bypass stink ugh sleep wish good cuddle ass hate software update downloads updates telling know downloading went ihop great diet kung foo pancakes time -rachel- internet hating night spose contactabe jealous missed opening day year cruel having wait reviews come far looks like star trek best film year debating shower sleep little later tomorrow stress culminates physical pain need sleep cant little pinky finger hurts sarahsaturday sorry gift card ran suck home spring break home tho accessed oneindiamobi google phone android support indic languages school life sleep anymore school work mtsiaklides aw wish speak yia yia speak english winggato free comp lol getting ready clean house crying friend moving away tomorrow swiftkaratechop stop nomnoms share night peoples thinks getting cold caught daddy oh trip ruined moony394 yeah bcoz kal penn visiting lecturer n cant anymore im gonna miss procrastination starts early quarter want reaaaaad write paper apparently 52 degress 11pm washington state miss winter bored homee massage great spilled coke desk lame watching simpsons finished hills dvds nickcarter wait fanclub chat tough favorite mild left inner ear infection got irritating quotblockedquot feeling sunday janebodehouse hey nope cuteness hoytfortenberry away awhile tuesday haha yo know thang twitter haha someones alarm clock phone woke 3amstill got headache yesterday night kalichosich awww poor puppy ok break eat buffalo wings tomorrow sittin wkayla reallly dis-like having brother know stop waiting day fed bokkie birthday treats-sicko s kinda bummed agency told look going ladies help create look work laptop officially dead happy goodness freezing heidimontag listen mom stucked paris travel france work joannafbeckett think close time checked closest 70 miles away aaaaand literature review friendly cup coffee company worried 900 paid buttload tax year okay school phoneless sleep reeked alcohol dentist morning drunk tshirt realised huge stain dentist looked disgusted cold cant sleep wants dream sleep hate nights try bed early stay awake hours poo rootbeersoup yeah bad people like certain burrito-eating man exist cronotriggers sad found mum adopted auntie twitter check mum tessm64 awesome auntie tania38 sleepwide awakeand gotta work later boy going crappy day struggling eam law sleep like bouts start 24 poor linny eyes open tired work tomorrow morning night ilovefatsusan 4 year old 18 year old driving twisti want like sucked place 3 daysany help packingpaintingcleaning appreciated oh rip wall opening partially frozen beer beer toaster oven counter kitchen smells like run speakeasy stewiebrittany dont know ride monasmith sadly yes think need counciling making ready schooldo feel like going tests smugness gone train failed turn heading victoria followed unpleasant tube ride city anybody know ipod went aww earthquake italy sad saw pics news terrible lilibat able afford extraction continue deal pet care people try run business send suspicious e-mails fishing info kameelahwrites lt33 codezthey mia tho reannaremick doesnt work cell sleep p going nice tomorrow rain comes nice weather birthday taliasunset rock band hardon expert beachbassbone roomie home day scratch door comforter goto large laundromat machines hardest thing schedule chat end day usually killed character favorite shows upset jealous friends got new star trek film austin tonight listening q got bad headache drivin lesson mins lucky wana sleeep stevebuscemi shut youi hungry britain home boring suckassy breakfast world miss dennys good morning everybody pkoi y fais pas beau bon coffee time work essay time chauncey78 hey u talk mom r home hope r ok wish coming home 4 easter endearingevania sure wish guys tmrw usual school interferes widyatarina kal penns leaving house noooooo awww totally missed tonight lost loyal played hand bad lost half stack 620pm - early days looooooong night work yaykimo sad season wanna spencer calls lauren im editing quotthe phipstapequot 2 crack brew got trees rj know half means homework homework homework worked heart today doubling weight station result stiff pulled muscles ouch melamachinko feel bad unfollowing tired god hate new job days sad kutner killed fav house happy coach stringer hof co 2009now finish term paper feel like shit way want spend birthdays eve far 311 sites checking updates lot mind needs moneys ideas hiring emiliexclarkex miss stephenkruiser sorry hear dog internet plagues miss ex soo sodding m25 oh thought pirate bay trial verdict today -s apparently 10 days featherinair study hall log immediately tired im crying reason im try hour half tonight half got night totally like girl options viable far 311 veiws sites checking updates listening bjorks love crying omg hills love money2 aww think becky buckwild goes craving tantan nabe cmon sean man watching quota league ownquotmakes miss mint chocolate ice cream cones grand ma fuck lost phone wheremaybe grass long hope rain tomatosalsa hope referring hello new stalker lol brettyboo u sleeping ur gonna night ur bike ride slessard wanna listen masters sephystryx looking good stuff write loads uni work feel unloved dropped 2 tweeters london day thursday gonna raining oh fab london eye robbie care bless completely wiped reloaded 8900 lost bbm contacts going bed sad mykele sayyyy whaaaa invited sleep bad considering workshop starting today beginnings sore throat astewart87 oh gosh emotional haha idk dont want old going post stories manually twitterfeed problem quiet lately like lukewarm showers linuxfoundation - contact need 1099 freelance work linuxcom 2008 got skylineking722 connor febi mad need help want buy macbook pro inlove old powerbook michaeltao man america borez lol realized sent msgs idea flash hellivina ihopness gknight lovely ladies sleepy anybody know electrolytes order vitamin work feel sick sudam08 yes reading posts properly italian homework weeeeee understood turned lights time ip therealnph twitter hates hate fact genuinely excited tweet celesteclara sleep theblondetheory italy earthquake sad news day champagnemanoir rain today garden needs bad yawn yawn yawn 10 minutes bed majesticflame ouch - sounds sucky bengottlieb great idea itunes promo codes - work uk itunes store mattycus cry rumlover rum barrel sad rum barrel shakes head horror horror sleepless night billybush admitted fake batmannn love chutney got highly bored today scanning 24 pages daddy misterphipps cooked risotto keeeerrrrriiiiii better post thing 224amwonderfullll says alot yay baseball season boo yankees losing game lost sucks work today omg exams killed know difference haif circle hemisphere lt3 gt bed suddenly feel wish ma wme goodnight twitterfam rachelcmrn like goodnights greaaat lappy turn wtffffff m4rkm stuck traffic journey traffic free morning help lookin like all-nighter hate vernonhamilton stranger debbugging old vb6 code day started better toddlington quarter percent babe darn coming cold bad allergies way miserable believe cutner dead house sad day santa rosa damnit digging season reaper reftype1101amprefnamestory gah comcast doubled cableinternet bill wout telling quitting suggest affordable company bay area early morn duchess managed cross legs time alexbigman left saying hi l want sleep tracydowds xbox shows red lights means dead needs fixed month microsoft hq king sized bed nice sad lonely hubby puppy kitty conferenceing thing im boredd gah wish sleep ive toooo muchh cooooffffeeeeeeeee bahaha whyinthehell butt nosey sorry conversation interesting smokeyrobinson fell listdid offend 18 weeks till sisters home missed worst feeling world gonna try sleep hotel room chimpytwit brilliant idea bring think shall spend amp shall swap bring brolly simonekali autograph shout record computer dead listen rt kimkardashian khloe got fired apprentice biology class lip hurts sorry tweet grr school today jennlopez hd tivo got set tonight order channels 40 - 59 mouthsex asked yesterday single tweet adame ruddy money like waiting oh surprise state hmmm seriously kalpenn sad kutner favorite new team marcusmims wow quothelloquot u suck bedtime school tomorrow books broke suckssss seating helping baby paperswell forcing seat im sleepy synching contacts old mobile iphone import work concentrate spent 1 hour enter bureaucratic nonsense march waste time nw confused feeling stupid migraine making tummy upset body aches shoot reading buyology bedtime great premise turning quotokquot book - lots info knew home wana sleep wasting free line town assignment finish hellobebe send updates plurk upload photos twitter didnt updates plurk zero omg quotthe readerquot making cloudpimps doh getting decent exchange rate moment sterling getting flogged tried download tweetdeck wont download inch snow ground counting worried poor flowers dweeman happy camper dkoenigs thanks man grateful feel unworthy attention twolfe miss u totally comin tho lastnight sooooooo fun sniffinglue ohhh love ps sad hang end place kisluvkis oh sad poor boy jonathanrknight silvertulip27 um hell fugly poker dog pants cruise hi jonathan sorry missed homework gosh darn hard definitely vacation study group extraordinare leave campussome torts outline finished-good thing-but sleepy hwill 7am airfare live texas know shall able iowa jstricko found pretty frustrating stupid monkeys lenesha im feeling mommy lovebscott nope right wit murder gotcha cant believe nbensalem sitting house sooo looking forward class tomorrow ordered maternity clothes online came today got strange order size stuff missing citizensheep thesage1014 wish gotta work seaghostdesigns happened saturday didnt girlsgonechild fall asleep mouth ulcer painful talk eat danphelan urgh video cut robots dog anymore praying okay kalpenn pretty favenot reason watch artistbabee thts annoying ampdefinitely bitchy def broke like prolly kno oct 5 mileycyrus hahaha dont like time ny got 30 mins sleep got sick love normalguyguide learn wwi tomorrow noon new post graemearcher sad innocent selling dang able workshops run web directions benpritchett goodness find good hear ben video game booki apologize jap girls leaving poor little girl baaaad rash bum isnt feeling good nicolerichie yes vhs cried old man died argh got early girls aloud freshly squeezed video travian total cost atk aggressor 273310 resources said guessing going let slide waiting kellys mhm having good day blah blah blah octopuseatspie got chezburger book lobo look wif trying work assignment year spark want lay grass read robertfperez ugh course thursday fridaysat kids kalpenn oh gosh emotionally dying fact kutners gone arggg kal ily kaozdesign think found faceunfortunately find seeing shouldnt stomach flip like headache pleeeease away siddharthind yeah application runs minutes add-ons conflict time pretty good coaching exceptional talent trounces exceptional coaching pretty good talent msu hate tuesdays gracedent quothairquot deal feel like stuck rut waiting hear schools killing decided break wow awhile need new glassesmines hangnon 1 arm meat week day 3 tummy hurts night quotfakequot verruca twitter sad phone bestie shower confused know sirrah21 aww poor froofroo way late miss 808 fam officialprofoz sed puerto rican joefernandez klout thinking selling simx yeah slow end win pornstartweet wanna 20 lovemeagan mss snippet hunwts aski wanna hear know big love true blood united states tara long waits seasons sensesdestroyer wanna lamb god sad lost hn arm bandit disappeared set alarm wake wanted speak sis africa skype - miss sooo awh damn puppy ticks house sad oh kutner saffron lookingi know read gonna hurt look guess girl thing amp need needs hugssnuggles health4uandpets saw gsd covered stop crying bawled bawled rachel jessy r making work thanks guy wishing time mycaricature bit got said babs bad mum sure hurts laughing wanting school tomorrow term quotfail whalequot client pitch night incomprehension corp twitter lower org rootbeerfloats8 hate billy 2-day work-weekfast-forward thursday snaprebelx omg love mad feel ur pain im sorry spoiled u possible die coughing sucks ill cant believe way barnes work todayinstead 5minute walk st johns wood paulieseow hahahahahah easily ice milo best friends shitty simultaneously u turns hurting feelings jerks going 2 sleep art regressing onlysweeter know dance laurweeboo im ok guess hard day jade looking new home damnnn missed 1111 sarahprout tweetfinder hates having trouble background twitterwhat think twilighter4life lol yeh ill studying stupid uni 2 weeks im holidays yay plus birthday week woot transbay quotsfmta budget proposal hearing tomorrow april 7 200 pm city hall room 400 sadly attendquot afraid gi notes read sigh rain decide away invited tuesday-party start hoped secretgarden gotten porn spammers check followers tweets like somebody selling japan release album e bay 25 damn thats classic worth charleneli disqus integrates conversations platforms heard abt js-kit advertising fake louis bags 100 authentic google pissed sleep dam naps lol hot lookingi know read gonna hurt look guess girl thing henrygooden oddchicken went month half ago open smelt good getting sick ready bedlong day tomorrow job searchingfyi yahoo hot jobs suck im going find job electricity today tweets bigthink zack tell edit bioprofile create login different cos site answer bt techhelp morning starving dying cuppa cos docs fasting blood test little tired morning - idea great start day morning little break computer work today mobilityvicorg launch grog nice video pwc quotfollowersquot some1 inform works misses right need hug tried earlier todaydid work omg revisions revisions revisions feel like wasted amazingly beautiful day today pointless work foot commission ouch running morning helpnot smart shower hope wake oh synth experiments yielded night bored sleepyand mad find custom lanyard maker wont buy 1000000 minimum cmykevin ooh nice williams sonoma got finally given malaysian restaurant waiting nasi lemak teh tarik mereka tak faham bm waitin 4 theory test centre 2 open got woken mornng 7am - damn lorry van car accident outside main road causing car alarms think need laid sad revolution earlier rofl ourcitylight sudden want amanita feel unliving lanarisque hahahahhha hows food poisening going gone away missxmarisa heard hannah disappointing hutsoncap alright procrastinating feel ill want bed danielhalpin gonna try find sports bar watch got chance think wants home watch hills sarmar guess funny moethebeat aww moe planning leaving tomorrow evening gonna town chance wanna write cool storylineee gripping agreed love sound hates knows brendamew2 art tomorrow nice joined twitter sigh think pms making mind totally over-analyse things making sad doriantaylor outside patio named rex gardner took rip rex ooops ate panini w-mart cold says needed thoroughly cooked taste raw die nao f poisoning good morning rainy france gardening today day staying bed today got cleo vets sure wrong feeling sorry today day 1 fast amp feel break b4 2 bed hold til end wk stayed focused wish luck extremely jealous kimmyawesome ohhhh sucks love summer set daydee tell forgot password amp new way prevent tons spam bedtime wake 7am glad work - extra hour paycheck waiting lost mums taken hospital know wrong vomiting yesterday rushing hospital congested nose sleep need talk penalba por favor decime ke estas involucrado en esa pagina nicatrolls cancer killing b cold tired write good twitter obeying cops tonight total dissappointment close lifee gets worsee ampamp worsee dnwallace - shuddering shaking sorting brekkie kids horrible place called work boohoo condolences natasha richardsons family littleyellowjen think ily nawwww derrick needs stop sleeping day causes problems wide awake 245am missed todays ellen suddenly miss flintstones vitamin tablets soooo gooood mattpro13 legitimately good cops onlytosee twitters tooo pealuh think need twitterholics anonymous lizhenry heard sha heart broken forgot sleep morning need decent coffee catering open 0830 mostazzza im sorry failed codaqueen oh wait 1 oakland 18th understand 1 amp oakland missing talking bff da phone wondering stupid need eat fish guess sigh miss old friends elementary ans middle school twitter fix brakes external twitter avatar searches looks like missed job employ haha tacce dang shall house itunes hear devastating episode wow shout box kicked guess means good night slideshares embed code annoying sorry tiny embed fail flawless326 baby eat 3 prunes today finally went poor baby iam bored morning - 1st appointment day - dentist amyserrata wrote album ironically singles write gossip girl away addicted good night swetdreamss everyonee jared chat kyte puff horrible sore throat hurts time dressed supposegah workday self licking pudding seafood fork enjoyable slowly licking spoon ready premier realized dressed makes happy wish want afraid fly eyrro awwwww bummerrsorry missed waking sound jackhammers pleasant way start day almostcool jon8737 totally night lmao like screaming focus 900 mph song nevada long gas pumps good note won 5 slot machine love gamble amirrabennett nope babys 5th getting closer 1001 things headache effinggggg sick better ughh bed dont want university callung loud seattle tents miss peepz tho makes happy wish afraid fly errrggggg tummy hurts thought interesting f1 updates twitter slightly regretting decision elsess updates ripped switcheasy colors failed song poor mel feeling pain ugh working project taking small break day school day exciting happens parliament square watko shockingly today interesting day twitter cboyack igeldard iidiocracy kind quiet today courtneybrwn awww thanks hate sick vip guests today --quot blohheeee hate early fuck youku want watch skins forgot phone car scared outside totally forgot going fisheye 2night u thursday btw late hills lol totally shocked episode house eveing lost favorite characters offbytwo seeing doctor hope pass cset missed 5 effing points kevinpeterson 2g cases like scratches void warrenty dents found chapped lips boo ryleebeth ye im sadbut weirdly shes lettin 2 da party confusing parents r lol kimboinlimbo chance coming 20 mins faster javelins bored lonely classic rainy amsterdam days feels like crying sick feel horrorswench toooooo feel like verge anxiety attack day woke hour ago having hard time going bed lakewood going sleep lily rocki lt3 johnathon busy watching batman movies gaspitsnicole sigh midd hsnging friends damn growing p mrskutcher lol wish bad sync germany right subtitles dont work lol alyssaspears sorry maybe walking goofy store helphint hint lt3 contempted heroics sorry im tired morning cold shower waternot happy haha grandma 2 days 5 houses away shall miss clearing desk w person pic phone died signed shirt amazing words describe skipped mel lol crying inside oh let rain warm thecoolestout packing overnight bag tomorrow going hospital gaspitsnicole sigh miss hsnging friends damn growing p oh yeah miss able spell lol glavas lol u read bio spelt wrong darylo ahem guten morgen ready phantasialand cologne yay booooo park holiday ladiscoteca saw im sorry nikicheong reminded krispykreme landed msia ugly website guykawasaki sad goats wa-ah-ah-ah-ah-ah watching roadworks develop outside office thatll late 10 weeks fb work w asma3 nawal fe obeerate alwatan tv wish 2 bed having 2 allergy pill khqrightnow heard making announcements trying find mother looked worried work saturday wanna come company cough cough ok maybe shall sleep hour rise work thesis goodd nightt sweet dreams everyonee jared neveerr chat kyte lol tiffinyhogg heard timewarp fantastic gutted missed playing egg wishing 245 morning sleeping awesome work need scrub apt eileenb know people baf03 hi steven man week school work weebeedee run great thanks windy today bike ride option morning aniita0517 yes sad topic haha going concert far probably expensive couple mt texts arrive decided rejoin aerobics cos know exercise paying rm3 left bag ientje89 aw fine thanks yeah miss mfc hope talk later today kisses huglove hartym looks interesting lot 500 errors documentation website kalpenn favorite excellent job breaks heart navy seal marcus luttrells doggy filled rage argh ive eaton today zurich smelly bags anymore university classroom computer shit day boring want bed fanofbsb4ever sorry missed worst burn life sick priscillacruz funny watched strong today chances miss capoeira zoom zoom official going educational summer owh god bless avisionofbeauty phone like sorry motivation missoliviaa nooo brat west coast hahaa making sad oh going sleep wish 445pm im work thing hate dozing lects wake sheaf wet badly smudged notes sleepy head chances actually sleeping slim fucking money gone 10 battery kristenjstewart watched trailer adventureland itunes looks funny pity think australia tired school holidays 3rd time xxx omg 360 people death toll italy thisismyiq layin downi dont feel sccskwerl aww depressing theblondetheory ditch parish sick people world yo jimo cant talk aim anymore glitching ill cya later hope u gave msu fan car rental discount looked sad turn away ordered pitait nevr came fax machine broke driver left belly britney fucking amazing went hoteli hate travelling cheapos powerpoole people try tricky stop twitter guess good gets try dra6on sad cos u r sad gotobekiddingme triedand failed ditty003 looking school work sucksatleast u home lol acdc rocked night reality today 70000 people homes gt150 dead italy heatherlibby oh like trouble christian slater trying kill moment hoping decent sleep tonight worth shittt night goodnight world xoxo want diana f looks great got spots hurts like hell doubt beauty tomorrow ekim1406 hehehe bad separated babe aint callin hetty4christ heh yeah shakily conquered ladder pointless job tho far away receive digital signal w antenna good morning hope feeling better cold got hold train rammed fellow commuters vile special derision reserved man appeared claim seat luggage rack kalpenn miss awesome shock talking boy hating work upim work larrissar leave stay grants bday danielcalderonl yeaah hate pmelt bad thing aids catch id want inflict pain deadshits world childhoodflames whats wrong bed sick n sleep try w help meds s blipfm downi going normal tweeting lilylauren sad ppl shave moustaches know cry tho oh gosh oh goshsusy going kill remedy finally going sleep waking early study miss friends elementary middle school cyantificnhs balls tunes holiday - chick corea tonightand missed sobs going love season hills tell spartans sucked goodnight needs study quant legal process assessment 2moro itsangie canceled plane tickets hotel stay tickets close 400 eat cheaply man soooo want o polaroidskyline sounds fair horrible going repeat guess text sent better whee bivancamp aw suuuucks sorry dear neyawn yeah interview know lfta ur gonna delete like thaty feel like quottom cruisequot jerry maguire got fired right yo lol worst dream abt turd face date ugh awful shresthayash ouch imagine toothpic eye uhi feel lonely wish bffwiamc best friend forever cousin twitter people following randomly stop makes sad feeling bleh spew burps hot deadline return shirt bought topshop bc 50 bank account rest month life sucks woke 6am far earlymore coffee tooooooooo cold raining tomorrow night sooo nice today guess thankful able enjoy michael crichton curse slow internet miss youtube feels headache coming gordonchiu letter alway koreans use quotxquot hope working holy week marnieblaze haha nope guess original days lots revision tonight final assessments assessments today 90 pass mark harsh thats stapling chipped nails cold paulteeter passed border chewie update ocd left legs fixed possible ocd right leg worse hip dysplasia hips good got hospital bfs nephew meningitis chiu nay hp chun b t chc s kin trng bao nhiu vic coldd watch vid tell moved boo day work 3 3 days driving schiphol apperantly stuck aalsmeer anymore daisy manage 75 bed garretjiroux u write twitter miss ya garee x getting changed hopes means store poor cat foodoops pain nicolerichie haha yeah band mmc cd lost miss bcd friends oliyoung requires assembly assembly completely overrated tonight harder thought diet woke 2day hungry jbeauty oooh heads high killin em wit da lol think u know good tucker inner haha hate cooking dinner maikeru76 connected backso dm compassion people italy mother calling relatives italy right riskyrevenge wait sick oishiieats play polite dance song fav dont course damn need find battery elinchrom ranger canada stock wait amp game fall asleep amp wake london today smile like mean wow song brings memories sleep muzocan talk australia issue woken deep sleep let mad max happy sleep sorry getting ready going leave 8am today got speeding ticket kristensaywhaa ass hm watch episodeee freakin missed scarletjac good close current challenge international font looks ugly going original font whod tweet malayalam business studies revision misses david actually freakin cool doesnt shit like happen believe got answer ask question feels awful tweeting tonight maybe tweets come form tweet vomit later 1 morning think need laid sad revolution earlier rofl txt-chat jake lmfao frikkin awesome miss effin boy awww hoping guys come na xxxx itsdawns thank rmilana like hehe easy danish dude craftysince1990 lol sweet bought tickets year ampamp partnerincrime flaked end going sure razzberrie wha 4gb yay haha laggy computers mba upgrade defsound aawwwww know u mean iv girl sense humor zaibatsu mei super lucky seat train pay 40 25 min journey coyoteontherun bet i- oh wait mac prolly navel piercing tore bit forcing dog bed truck fault know looks healing yay wow got sick cant think straightand mtv hasnt posted hills online wtf woke apples gig ace night seriously tired work begins hour todays episode quothousequot episode simple explanation heartbreaking frankly disappointed offended blogger writing fu penguin tpaw wooo yeah sorry hear missed origin tickets gooood mooorning world dream night fucked knee def need kick start strengthening ready bournemouth 7s need selsun bluepretty sure small spot haole rot think im coming newing twitter lindseyviloria gonna mexico sweetlyaroundme ps woke morning cant access websites havent cleaned computer completely hates hearing girl ill stevediamond know trouble heard thing recommendations mrtweet scarlettdane mary amp going dress shopping tomorrow noelclarke good morning stop ignoring cos said like cough sad nowboo hoo feeling light headed gross thanks chaffie thousand apologies fogive 4 sinned itschelseastaub goodnight chels sorry major layout-delay lt3 collakaaubrey oh joking crushed totally gonna stand middle field wave arms waitin th break service somethin fallen car got hot water bottle feel twat holyjaw middle night committed installing windows 7 boot camp having issues redgray ah man- sad cousin committed suicide yest 8 months pregnant - imagine crying non stop damn megan equals murder poor sandra cantu heart goes family friends rest peace little morning v groggy morning feel soooo bad doglet understanding mouth sore poor little thing oh watch videos people dying right going sleep luke worral doesnt twitter dynoisthename haha better watch actually kill twitter lot interesting cute people suddenly stopped flirting stomach feeling satisfied nowbeen starving 2 hours disappointed nearly spoiled house teeny bit saw went away link terribly surprised marlonjenglish kittcat8 ya basically screwed rewrote seriously want dont know wants goo lronjaii lmaooo mornin baybeeee lie peaceful journey train straight boring hooded teef sight wish talk upset likes willieday26 hommmmeeworrkkk boooo hope fellas good night japh wish known tickets earlier rang arvo - left amy end sitting sigh hard woke find coldfluillness-type thing going fight apparently beats sleep sorry keynote whf tscc killed derek reese brian austin green actually liked character equinuxcom crashed safari tks quotfire anatoliaquot fired costumes destroyed poor situation 800am typical british morning cold wet road miserable angry drivers good times need holiday time sleep dreaming city tattoos great things waking early morning sociology bought sour gummi worms peach gummi os cheeto puffs 44 ounce soda fat ass huge dinner tubeyornot2b thought found tweetheart guess search continues - pixieanna scroll hours missed lotta jon cyfyre finished years twinzzzzzzzzzzz missed 24 hills catch tomor real housewives ugh need figure priorities oh officially birthday happy 23rd birthday looks wish eriks bed needs motivation dressed work hate training today saying snow tomorrow wtf tennessee snow winter people stop following tried fix hubbys computer come disks windows key work buy like afford v3events way ur game right twitter lost updates yesterday - twitter fail paronychia hurts - remember days siiiiike miss old body someday soon u shall miiiiine work bad start day falling stairs enjoying work lt3 cigsrip paperwork today n kinda getting sick fun 5km tready want die built running un1xnut work eveningnight job needs help anxiety crap chaseboogie lol dont ask nice given ride shit started bar b cueing freeway lmao ready azraeel got home 10 end 9am start aswell throat raw sleep t asked friend piglet winnie pooh seriously guys burnt tongue miso soup today worst dream abt turd face ex ugh awful longing sewing machine birthday far away havent slept wink severe insomnia arghhhh terryfree lol byeee time skunkie sorry guess sarcasm hard 130 characters microwaved kashi chicken spinach thing milk dvd seen bet good havent seen slumdog got watch lil bros mom work oh god teachers gave rotten gogoma eat hungry trying eat bad parts hahahaha got headache getting ready work flip lifestyle goodbye sleeping hello work 6am evilunicorn lt3 honeyortar hinge broke works open smoothly pissing dunno shall fixed damn hate stage breakup process miss boy fallen love damn poop rachaelyamagata amazing rach thank music waited outside showed album nightwyrm ate cookies think hallucinating wanna work wanna bed th paper woke nap rampantheart add twitter field comment found madden 08 09 oh old new missing favourite friend brandzhd takin break clubs dont tell u want talk advisors advise judge arse 2 packs moroccan mint teaand truckloads kenyan tea idolette marissatastic - sad house episode tonight bigger amp better things damn taub lol choclatdrop404 paying attn shalinique saying 2 change ur twitter game like u way u r genmarie hope fix california oishiieats hbo 30 minutes got excited remembered sleep tonight soon sad tired leave bed adreamforsteph ok house sad oohhungry creeps kitchen legsandor armsattacks fridge ah cold chicken exciting junebugg15 super glue shoe lol owwwwww doozy headache 2 tablets later taken slight edge days holidays friends public schools hang thursday disneyland omg finds mom rly annoying need detox h2o day skin shitting bed way late likely sac shit work tomorrow ylizabeth died kcarruthers 540 years old pixie years body clock chuffernote stay late -also afro stupid thing wont let old twitter page new soooo tired work txt-chat jake lmfao frikkin awesome miss effin boy awww hoping come na xxxx kristinfinley ur phone breaking disease spread phone doesnt ring flashes agh moth till frank morgan race chrisdjmoyles excited live wales blahhh throat sore amp coughing hate sick sitting unable sleep motivated sleep feeling icky oh dear pups died 1 1 night princess rejected going 30 month ugh 3 morning sleep scarletjac thanks know video harrowing especially 2 minutes admit cried wrote 2 pg paper n 30 min studied n 2 bed gotta wake n 3 hours oh joy nite beginning enjoy lazy town - oh dear brain needs optimise neural search pathways find muscles cried heard girl tracy found today soooo sad god bless sandra cantu gmg2001 lol omg tempt started p90 2 hours ago need good day shoulda asked yesterday moment run fatboy run time twitt theese days insane wyldceltic1 oh man sad twitter woke spazmoraz lady work boohoo got eyenow itchy aw mrskutcher thinking today - deprssing makes appreciate life keelybin ermmm hearing dreaded alarm clock cannibaleyes bowling shit ripped eisie mate rubbish 10pt hug tom covered spots obviously happy doc says bad tell tom warlach curse ye fun miss online pr paramount pics ugh read cnn found cantu girls body pond near home terrible family sleep 205am--ugh sleepy sad know andy hallet died thought markress understand busy tweet work samsungimaging better auto feature ironed blast advertisements industrial strength spam texasvegetarian oh god ow hurt like bitch showered dressed late shift lollypop gillianme yeah time sleep dreaming city tattoos great things waking early morning sociology dougiemcfly hey saw u guys play pushoverdid 2 meet u tho cuz th huge line upset lola msg 4 good morning wish weather good germany today wish dunkin donuts holland today moms japan wait sooooooo busy right lot custom orders catch blogged 31st hrs day right got stinking headache need run happy bunny sorry vid hits hard beware 2 minutes especially wondering gamebattles traffic a2 wait till 10 lanes ready 2010 slept 11 hours awake 530am yesterday late exam gotta wake 5 tomoro onwards finished new moon work tomorrow totally finish tonight geez ok wonder twitpix option new phone got win shall leave photos cuz guess usually zzzz today macbook froze luckily able screen shot paper retyped end submitted paper 1 min late rougeforever faffing actually reading work feel productive thecampingforum forcasters believed lucky lasts till afternoon babybazooka toobut hard cherylthelibrn thanks rebuildersrebuilding tip trying help mom divorce breakup left head phone died morning 1 head phone company journey meganh93 drizzling day u going rain pour cant sleep ugghhh got work ravenous eaten gipton steak amp branston sarnies shall buy lunch doh new iphone yay restoring backup stupid apple catering gigs cool getting ready normal week working easter cant sleep hamporter walk annex hoping instead nguyen family know exactly feel man im yellinq ma mummyy lol angry mee want chicago liked hearing bad politicians oprah hate oprah 4 days left uk candicenicolepr heard homework shannamoakler afraid fly straight refuse plane sucks limits tony changed change feeling bit better today walk idea happened yesterday way school ugh leave exciting day work christieeee aww sorry dearyy fuck la circulation ce mat1 belive home sleepy 4 hrs today round rock tx disneyland ahaha sad pineapple stand closed 3 dollars ok 2 hours self imposed shopping ban aching shoe fixthis going harder thought whip cream melting woken mom cant sleep lonely bed husband 46 followers acknowledge stupid mampms stomach hurt best monday missed gossip girl oh spent time bff today wonderful night xoxo pilvlp luck probably stopped cop stupid sitting home im bored hearing weird noises downstairs kinda creepy let know ok kailuh dis guy talking brothers cock thats feel like talking ewww figure rest birthday today feel old ameliatorode fun shopping bear mind horrible forex truth ok tweet peep head bed nowgot test law tomorrow summer love huggers working lab report 2359hr tonight awake twitters dozing jillglavan soooo disappointed ti party leave vegas jacked talked runawaystarling unfort msn douche half butting poop oinkeraida agree crazy pollen trees washington state making sinuses crazy stupid 3 year project feels like conquered realised 1 year jdpeterson hope feel better cali need lazy laurenlenewx awww sorry woo pages seven gowhy heck procrastinate goal 1 grad school wait morning tired today stayed bed town forgot charge phone think day awake untimely hour dont want school tomorrow exam having half weeks kalpenn thing sucks excited knew final team sleep windy scary darylsws kids holidays summer camp summer school boarding lol 2am sniffling sneezing sleep morning going come way early guys bill gatess associates makes feel like know know oh azppa sent email state conventionmay 17-18 amp papyrus sad bc wanted attend pelf81 work demanding watching greek cant believe day ill guys june 20 ahh cabbins ew terrified news italy lilimarlene ohh sux brainiacmathew know im spring break extremely hungry going loooooooooooooooooooooooooooooooonnnnnnngggggggg night work jennchambless awake drunk darkbutterfly thought looked paler probably drama filming jun looks healthier sad hear discovery little girl tracy poor family supposed think working places cycle2work scheme 15 disc halfauds good office irritating work worst client cant choose project ur employee wye river cold internet expensive jammed finger hurts badly damn- pc completely given sucks let everquest 2 subscription lapse play anymore time flu shot work arm hurts heidimontag love hills missed tonight jesmayhemwa trying sell prelude katsun point trying remain optimistic delayed live365 getting harder day twitter kalpenn omg mad favorite character shall miss wishes david cook coming phoenix trying figure way san diego june 18th obsessed ill fresh start promise xtra sad puppy face beautiful morning - sun shining birds singing playing mousetrap kids damn work aholmesnj able downthemall ta able delete account lose photos lost comments thisisguan tuesday raining day huge headache gotta work actinglikeamama oh recipe gyros developed addiction germany able find like aus feel feckin arseholeda sign old age thinks sukottoxd saw ice rain today snow frozen water nonetheless charp nerdy amp thinking help metropolitan area network tired cant sleep jbeauty lol goodnight laying bed facing wall trying relax hearing things plus air conditioning sound louad needs baby home bit soon bed finally long day tomorrow cant sleep ugh going trend ill need find wakeful night hours read learn language airlie sick mason sick going miss school disco trip canceled latest blog post info saw 1 little 1 huge stingray foot-deep water catseye beach low tide turtles update picture cos look old fat oh old fat playing badminton working weight saw snow flakes lol honeybaby sound like ny-quil commercial word looks right green background want sleep feeling soree bad idea running sick tt need sleep body wont let draw instead lt3 30secondstomars thanks prayers days difficults vanidosa27 wrong need inhaler know sick hope start feeling better eri74 goodmorning hahaha let guess cb hahaha know feeling trip gym help computerinternet hating tonight swear find usb cord sidekick taking angus check-up today quietly dread time poorly know lung function tests crap grahamcracker working melbourne victoria police department melbourne city cabs homework realized twitter getting attention mama ishahaha lame m0nkfish eww hershys kisses ok amazing whoa im super hungry life cereal wgranola amp raspberries calling wants easterfest let gossip girlit mondays good reruns trying fit stuff tiny bag hand luggage dont think gonna work sunky grown horrid seaf2009 strongly considering improvising missed year sick innocentdrinks coke 20 minority stake april fool depressing favourite brand sad said goodbye hubby globe trotting away chauv things bkgirlfriday dude snowed todaycant imagine weather hawaii right updating myspace profile need followers coz bit sad read updates blogspot bulletin myspace etc figure care thelmarockz thelma shiz blank u comments work zeist minute want stay work thought buy silent hill psp ps store find taxes best mood fan sleeping baby boo thought hate sombody hate tobe d gave love pay bad tommcfly hey saw u guys play pushoverdid 2 meet u tho cuz th huge line upset lola msg 4 going sleep johnny died oc fucked sleep ive decided homework instead oscartg morning sun unfortunately need holiday day year stephenkruiser sorry hear dog trashkitten solution found got spanish revision today cold playing outside yesterday stik-o chocolate need sims 3 gaah listening awesome song dnt wanna upload limewire lindajames im morning person prefer night smaffulli correction tell cert use different matter win ktml think itunes fault cant download mac quotstore busyquot got awesome camerakit update katerih tj dinner tonight freezer melted martiy ouchies good day goodnight supertim geoffmartinez youre going mexico easter early twitter buzz star trek secret premiere austin - holy crap wish think getting sick happy birthday jaime loveyoult3 officially screwed right midterm quiz 2 projects 300 page book shoot revising essay talking hubby aim lizdinkel lol figured muchbut know talk anymore maybe easily offended traffic bad normal super early meeting yo hella weird twitter got deleted hyphy east coast e40 perfectly ripe fresh banana goes bag arrive office looks like hit freight train poor banana home mc bored missing sigh im bored tadi exam amp okay thursday lagi exam gaaaaaaaaaaaaaahhh rufus rufus rufus bloody brillaint shame mum miserable crab liten work maddeh sync stummics hurt right studying commerce suppose remember fever cuz like troybolton hottiemcsuperbob omfgz nail buds - cries - arghh hands itchy alergy beef eat chicken cant sleep missing person love past 7yrs life time ass gear start day sleep early tomorrow today fairly certain flu going misery freakin bed ugh math lab wanna leave co 415 coming soon brightillusions fill position tightened borders sucks want magic happens month lol sophia terrific job usual gonna dinner jmielcarz send warmness way cold power levitate negative trying hard sick stuff took rid cough casino big fat loser day week long want stay bed theajp glad enjoyed mate gigs lined near future horizon mo isnt feelin 100 2day going watch julian play bball want phoebe duncanmacrae hmmm good luck got denied letter bazaar bizarre sad looking forward road trip vendor annoyed bones preferred gratuitous grossness poor angela onlinemigration im going hehe layin bed 3am cos tummy beatboxn bd hd 2 wake eat unburnable calories nt gd quotabsquot hungry bed work rain gabysslave thanks - essay write fuck len weins house caught fire earlier today family safe lost dog thinks factorial designs going death test quotaquot comes confusing quotmathyquot stuff ugh schnicklefritz omg problem lent gave friendlypharm bad true thecamacho danm wanted hear studying sucks yay hannah montanas disney channel fun photos try upload big world right sun shining people busybut labrys67 chat broked ruthclayton oh aint gonna ur bitch muwahaha caught looking iphone promised torcher 6 months left current contract goodnight feeling better going doctor tomorrow cardinaire ya blimmin heck slightly tired otalia im going 2 bed nowww - surprising rly school 2morow thats right spring break days r wants camera unc dominated second hills hallelujah econ paper gaussian copula def deal physically tired sleep tks pa 4 quottapauingquot croissant tuna knowing dat ive back-to-back meetings morning amp zuraidah tks 4 buying fav starbuck mocha frap russyrhubarb new twitter telling boo way think oberon dead seen ages jeffsmithcars want send traffic page arielehenriques feel like preaching lol damn guilty looking getting completely different config finding shared hosting hard having control tv wcharley cute sweettrying blues cheer tweeters djteck mean enjoy job nicest outside indoors morning feeling poorly hope u good day x contemplated going post-midnight walk piles work oh em gee love want want want lusting things afford broken mir single morning feel sick 7 hours sleep cant sleeping im thirsty indiblogger neei dotn comments suggestions peace quiet amp stress freeness bout come end found sanaand realized like white girl eat problems work sooo bored misselizabeth food allergies suck allergic shellfish 4 months ago blue love shrimp dtrix mom root canal alsoi feel pain buddy 830am far noise office worked home today louislucci usually sleep 4 hours night going bed 5am tommcfly good morning tom send message short question bad guess guess dad pregnant lol nah doctor epidural chronic pain josordoni yeah good news y combinator interview week dunno bout oyster suck guess siralmo wont let play doh keeps saying user valid enibeni knew ed si que se duerme temprano s valonthecoast lol awwwwi sorry stuck n boredyes hun thought trying entertainedcannot easy jamzeee knowwwwww sukkkk care gurls kalpenn arrrggghhh seen nights episode pity lose early morning meetings infidelsarecool ugh depressing want punch understand setup subversion website imperiusrex brahbrah ugh bed hour joshsharp money dont know maybe lie hes having like little bit lol sat work fair fair whoh day shut hydraulics assignment time oh wtf house cool brain hurty squishy mess vomitto ahh ai dreptate pixar woke early watching tv trying sleep working lisalent freeview sports channel way gonna sleep tonight travoradio morning blipfm dtizzler took entire walk train station undo amyg0716 thats sad wolud hate choco milk earlier d lol allergic reaction contacts stuck specs clears means end breast feeding tho wow x60s dead finished cooking spag bol scratch words cooking past 4 hours hungry anymore trying write dssertation ilovedt thought bummer response support blatantly untrue fake accounts shut time contradicts terms oh noooooo kath annual leave du du duuuuuuuu kalpenn thank great character house sad babyporridge twitter crap reply dad admitted hospital yesterday want fly cape town visit r1900 monday return ticket kulula tweeted ages twitterberry work anymore help like late start night shifts coupled bloody light outside window meant going sleep longing yesterday want guy like carmello jimmy laertesgirl sorry hear specific x ha ha ha damn good time chillin wit favorite hizzo danced face lodge backbooth work today evilunicorn im aim rn accidentally sugar food instead salt eating sweet fried rice clumsiness astounds hot guys gym train morning dullards sales pitch today potential surface customer sales development days downloading torrent nights sytycda love bj tragically predictably eliminated waiting update car shop bored homework pingping worst laundry longer wait unpleasant zappoman oh tweet weapons covered pandoras box - uninvent leaving mad fucki sleep reznik360 bonbonfire fun confab matter comes wish worked 9 gonna miss week sooo proud bro huhu talentfull wish best like missing best friends miss fun times love guys miss homework sneezing feeling better 28 days passed night mum puttin cream mytattoo princedavey aww invite lol jk coolness day bobbyly nah gentlemen got class 8am wednesdays thanks anywaylt3 phillyd awe sucks cant sleep bed hope dad gets better prayers note choclate bar schiphol passengers didnt hear hunn today getvisible journalists ambulance chasing lawyers reckoning good morning world sleep tonight copenhagen want leave head flo rider sampled blue song messed song devakishor oh oh sad extravagant time conserving plan lined todaywhich ive forgotten iwouldificould watched tried youtube link work missing boyfriend im phone tweet wont rudd money doubt kbsesbxr4ampgook rebeccamayne sound boring hell becs sad earthquake italy wilshipley sad dutch localization dl2 bad incomplete truncations codylfriend - sweet disobedientgirl wonderful ll slogging 9 9 eh mrbigglesrox hey emily lie meanie pauliwhirl omg whine whine whine whine housing lotery stfu explain qidong fucked stayed late design like wanted allergies playin like mad today planting friend today funeral gt20 years music today blipfm undergoing maintenance anyshalyke oh went clubbing lol time realized im talking jacvanek sad thought isnt lt3 cc want school tomorrow day twylas day bavstertwit u sip crap vodka nope c25k got ominous knee pain - good doctors today emily rash looks like measles shantelleb aiiane wrong attention whore coach gonna fun misses rach deiondrasanders late wish morning person ahhhhhhh everyones laundry boxee pandora useless oz boo hoo hurt leg timvansas need finish rest seanporter thank uuu know heard youre dallas downy weather summer karsentheslater getting pissy lately - know mormon jokes - sorry hear mormon jokes feel bad realize sounded tad drama-queen sick years hittin hard time okay sorry mean nice craaaaap macbook pro kernel panicking lot think going forced upgrade sooner summer pose ta b goin ta az dis week hope lol sad sat watch tv remembered dont cable anymore lol 1an3 thank today lovely day beach followed dinner gorgeous lady roll work today booo tyjanetrev agreee clearly want attention sorry catch train mateee got smoke eyes burn loves drupal file framework module sick bitcache errors making impossible upload files feel lonely today hebb wish bed haha house creepy night creaks stuffscary loli gonna bed upload pic ahi hate flunow day guess happened accidently shaved eye brows need glasses zackdft like reading bullshit im confused sucks study math 4 econ isnt mood misscassandra quotlions amp tigers amp bearsquot shyt god good consequently people replies damn stiff neck day 2 djginaturner le gusta house house 5 min intro missing fab marcellariley repeat tonight gossip girl losing hubby week tomorrow work easter hoptonhousebnb thinking getting old fm tuner garage having problems pc stops playing audio want money kevo hurry anybody willing help trying sad tune piano new song ends happy bright bursaar good gone bed baking oatmeal chocolate chip cookies tired sleep editing 3000 wedding shots begins facebook fucked kellyshibari thought saw walking door saw derek319 shwe370 sweet fun stretched browser watching twit ads appeared google adsense team said delay 48 hrs tired need regular 9-5 dog room snoring going sleep hoping wake tommorow wednesday instead tuesday want work wtfanabel nite cant sleep im insomniac week alissarules basically feel like need better care seeing fool juicin spitting stitches bone graft hooray reliable signalflare server fun nights work start working day sleepin skankityspence halo tonight leave schofe bridge hope watchin missing heath ledger indigoredhot sorry day waste hope found good bits yay homeward bound awillert im jealousi want salsa cookies amazing blip quotunder maintenancequot amp goin withdrawel madninjacurl hey neighbor msjodiodie sad situation 1-in-3 beaten 15 seconds amp 3 killed day sadly commonplace editing 3000 wedding shots begins journalist throws shoe chidambaram starting resent struck creativity midnight having work morning best way eat reheated pizza trying eat hot makes mouth pain sick day sucked im late cant sleep best intentions late work lindajames thank spent ages thursday tidying came looked like right tip heroes losing momentum come writers pick boring workalthough wish bed sprained glad im holidays stupid bus early missed stupid thing missed bus finally got bus missed second gutz mrnokill mrnokill problem appealing wide audience think aiyerchitra yikes clues engaged muppet orlando realised oh god cant marry justin timberlake gosh itt 939 soooo tired quotyawnquot want sleep cant train sans guardian dc saturday afternoon 17 hours air south fljetlag sucks sleep thurs work sick helluva lot todo blows screwed confused dumb child felt bad life wish specialty bad went doctors today blood sugar level 178 goshit makes sad people god chance kaylee110 yawns pretty good thanks awww sorry hear feel better soon lt3 shelikescute sad 840am awake nearly 2 hours sleep like sonny gone drunk kirstiekalamity finally updatedoohh sooo miss internet sorry woop2x open apr10 goin miss sebbypeek dadiiyal shall familiar twitter pretty soon coming summer means dont loves drunk hole favourite bought sale christmas exchange try fixing later feeling poorly sorry swallow ow stupid glands streetwearbear yes thanks reaveling world bro fuck life hahaha cherrytreerec stupid youtube location restrictions speedo wants mmmf play supporting role mind guys huge cocks banned sims forums rest week aww feels weird sticking chanel willadam treated latte appointment horrible need wisdom teeth surgically removed celestechong oh ceramic ex abit visible inside ones ex double price n double duration dear crimestoppers thankyou regular service burglar alarm grateful new 200db ear-deafening entry tones fightin callin run 2 sister nite sick today lot work trying find tech job find entry level jobs job site spam jobs 4 insomnia bitch threw bathroom fun work hungry sad throw breakfast bin oh darnit mandy creed isnt jordar mikerra dont understand didnt mean break anyones heart obama visiting istanbul today main roads closed cause effect lovely day blazing sunshine bad work omg girl woke reason doesnt matter amp cant fall sleep gotta b 5 maybe shall stay sigh viennateng tweet germany heard concert marburg radio 1 hour started late night re-runs getting homeits snowing roxyyeah yep loser finito bathroom contractors house quotes incoming need bite bullet caitlinaudrey awww sucks going sydney sorry sf rescheduling sf trip coming weekend mid bad circumstances 2morw blasted wisdom teeth pulled need sleepcnt stop worryng hate needles morning twitterati large coffee bath todays list appt 10am loads desk work hitting gym looking forward rewiring studio doesnt want work lol sherrigarrity sorry missed responding yesterday rochester mn far dark chocolate rocks wanna come bohol cold buee ate piece angel food cake laffy taffy driving la quinta tomorrow sleep oddly wired aaaaaaaaaah cold outside sunny running low batteries shell gas station lunch break tired ready sleep having trouble sleeping burnt fingers hot cup tea - ouch hhh times like want things stay right comes wrecks mileycyrus problem 443 let counting works123456 57 58 132 133 134 zs way school today im way sick wikipedia gone forever goverment fualt lets hope donations bring dissapointment haveing absolutly notice gone sad boring boring - reminds wash hair gross know feeling like dancing rain like pixiebut rain stopped ohh welllol shall watch flight conchords instead got funeral government employee-friend deepbluesealove beaus online tonight bummer uand music started getting mailshots aimed pensioners - downhill wishing sneak watch star trek premiere owww hit elbow hard door cant wait 2 c carter bak skewl hate gettin sick suksblech bestflights need 2 ass gear wana away 246 bt nt sure cairo amp uk maybe bt b able 2 earlier bt wont til 85 wow epicfail search epicfail entries apparently widely depressed want cold april noes goat-wool socks worn tired sleep dropped car exhaust replaced - 250 spending school work boring working business law paper right wait till hopefully tomorrow grrrr assignments olabini site gone got pause twilight nearly work hollaglam fav english teacher miscarriage amp u knw wht makes sad going baby tamara anxiously awaiting june 28th come soon graduation ceremony looking forward 10th end break common chidambaram george bush morning stuck registration assembley nayyy cezzadwen think pretty standard find canberra home flu ahhh suxz tired sleep hour goodnites serial city stupid sianllewellyn ive txt morning lfta got sorry understand ur tweet common chidambaram george bush feel like change picture think bff audrey hepburn nooooo good im allowed cry ughhh staying late makes think stuff forehead starting feel like cut slice oh right cut slice forehead today annemarike oh owies happen thinking pay dayanother 3 weeks lol allstarninja choices limited blocked hulu waiting flight slumming departure lounge area nightclub making 8 bewilldered uni students arrived home poor folk like struggle uninstalled rails 232 tried fresh 222 app - dice obviously bizarre setup jcturner yeah good going 221 resolve tasouls stupid watching lol shortage waiting missing baby boy omg house adriii omgosh like biscuits yum xd lived eaten missy p amp miss x tooo early im running late feel hot leaving koh tao start journey bangkok cuckolds set shall watch 2 huge membered guys feel like hat stand fionamccarthy sure got loads today ps broke fucking phone people home town irl connect xjerx ritz lol ok gig got planned work xx katyrullman need old world misses hanging awkward aplusk amazes men like actually exist hope find someday love value going school dt juzley yaaaay maybe gone mileycyrus guess counting sheep work hope sleep need clean sensor slr spot removal pictures woken hammering gtlt stopped sleep hangover stuck traffic elliee haha yeah thought complicated ive got home school got holidays x think tonsillitis mileycyrus meant spending day heaven wmy mom getting foxwhisperer clean resulted soft beaing soaked wet couldnt open dry mhbigcatch 8oz golem finally got wight - 3oz nickcarter time warcraft yes simple game group fans let know u figure want prize yopatrizzle sure tell u truth long seen ask sumos daddy paulskratch custody lol wish eddie izzard tour damn stupid expensive tickets cake death sleep stressing jpc lt3 think im insomniac cant sleep birthday 5 days oh yay coughcoughcough right kalpenn confusing hour life long slow day ahead sigh islandnene83 didnt consult plans maybe changedand thanks dang lazy begun short stories weeks finished focus lostmeself uh february haha imy mizzchievouz sorry air holy shindigs thats hot thinking going reinstall wow simply refuses update 310 irritating times shall forever okie dokie tweoples long day city 10 boooooooooooo good night lovelies lt3 hoping fall asleep watching knowing definitely national treasure think email domain blocked akismet blipfm undergoing maintenance yayfuckbuddies haha anytime plan sick plans window rodrigo grey morning feeling ill sorry o mind trying write maybe sleep classit working cufa getting lots dentist time moment stressfull sore nice easy rest day coke zero mobile site broken iphone quotbruce springsteen embarks world tourquot apparently oz unworldly planet today got2do shopping 4easter lt3 malachi xx owww sore 2day grumpy abu dhabi boring photograph kelmarshall tell mortgage quotes sat going skint 30 years hoping posty delivers pink tickets rustyrockets sense blog coming bad leave like 10 mins xxx house big mess crammed bedroom rooms liking work morning argh opened crisps upside hate feeling ill blazing row boy tantrums round missed train standing platform feeling guilty hot water enibeni lol im sorry love ya stupid dating coach makes feel self-conscious hair joenoia wass lovely anit love worst dream usual nightmare worst probably gonna come true pfff want bed feel horrible today want easter break psklov sleep dunno biking hard yall dougiemcfly morning upset rabbit ran away night postman woke early reply ilu x drs early man internet slow atm looking gray sky sun stolen painful shoulder morning 452 2 tired 2 think peace m 5564583833755523 811 loud - miss a-hole answers iphone questions help upgrade 30 heart abused hurtful lies truths hate sappy kind things hate fucking bored work landed funny foot morning jumping stairs twisted sore taxi way pizza bad traffic headache worst xombiexs course remaking haley bit hope migraine sleep boo reason strong urge draw illustrations novel covers prodigy ace night managed hours sleep night feeling today cool day guys realised time actually final having horrible headache day nose bleedingawful feeling found use windows 7 browse twittercom firewall software automatically turns pc hangs work bump long weekend definitely curses yoghurt exploded bag way work smells like toffee heart abused hurtful lies truths hate sappy kind things hate gold syf k ias awake school today im lonely company 22 female california genting gohtong jaya com vishalud yeah got choice 5am study 5 reach class time paper hows eco treating sloth13 isliye nahi kiya baad methinking ki ab tu movie dekh raha hoga gloomy weatheragain sigh gonna find files argh sad march break mileycyrus awww u seriously cutest dog miley sorry hope u sleep xoxo qr veolia fail translink buses trains align early train late bus hour later crackcouture wow sounds fun nah going melbourne couple days unfortunately tonsilitis birthday jeffkang greeeeat ate hard work away ellendeg ellen messages notice sad try hard communicate wif u observe amp report premiering chinese theater driving slowly saw reporters amp red carpet stars tried smsjunctioncom got odbc driver errors ch0en huh like didnt know plans today scared know moving fear teh boke fml heard eminems new single official fell heard eminems new single official fell bit weather coupla days -- workouts low energy nice day chibi stuck home waiting parcel officialrandl update missed ellisonrox awwww tomorrow 4 watch guys persecute far away holidays bloody insist waking school times finger hurts sleep vicoden amp alcohol combo fell tired want sleep im work need bathroom missing roo totally ready stupid sicknessarghhh icedcoffee end read error persists cant add library cant update delicatelyreal feel pain need post video stuck nixpineda miss youuu penalty scored tynecastle got beat duncn revision oh morning itscammy likes leatherhead okay bbs lt3 know info night clubs la cost wanna rent year shall invite yall got combined ear toothache wants rip face stamps foot laratron alas pimms think like saw ride thorpe park tv ad makes feel sick goodness knows ride joined twitter doesnt know pfff rearanging database wishing loved heidimontag hills episodes sad ps love watching dj emir battle computer supreme ruler studio think computer winning quotflight conchordsquot suddenly disappeared spotify kids crack dawn cold bleh starting work stuckrecord naar haddow racket mee wahey breonna saturday reason explain know st peter marleyuk think spoke soon - big black rain cloud charging town didnt end seeing bummasome ppl pain flu isnt way update twitter cellphones vindiekins aww leaving hoping input -- avatars rp thread mtp torn personality krist0ph3r thats damn sad hope things fine gud lunch sinktoswim hopefully enabled activesync google apps account sync contacts calendars net mail loveeee lt3 hurts hate away cant sleep anymore depressed new apps alpha 0010 complex apps version 95 long small dev teams days currently watching quotroommatesquot miss nyc needs hug office - 3 days long weekend mstyrac lol yea thought tht sowey thnx rod ones sitting aroundquot orange fav color kno 2 use feeling blueand everybody says jokes bad waiting waiting waiting phone mean actually sleep nightbut hate therealswizzz guess graphic art cut huh hold hawk getting job better idea want jvmediadesign pic bucket kitty shall probably post tomorrow means having find cables connections - snow guy seeing car worklmaohe gonna kill bonniebix controlling life possible uni graduation start masters boohoo having major head ache sucks men arrrrrrrg mileycyrus - napping point need gma gonna come early yes got ripped shop wow slept badly feel like hell maybe bad yesterday ill time work work little sick 1 need sleep especially school 12 hours beeeaaach bad day need comfort drink - sipping mocha frap starbucks tricia tired day busy head hurts thinking annnd tomorrow woe realised works bunch racists gerrycoe hi gerry dublin time college tweet4today quothave limbo party supple barquot yayfuckbuddies horny im hungryyyy need sushi wish bought camera-less e62 day 6680 went dead miss photographing little things dslr bulky arhh think ill end going point skoop cause rsi rsi guides tell use hands shortcuts ah wish luck posted marcfennell photo alenakristina oooooh love sorry help find probably wont able find know sucked heather sewage bath xp poor owen bear total drama island borning - thats cold virus - bunged eyes squintybah day need school longer google britsystem stopped eating sleeping day im worried precious little bean finished making chocolates feet hurt gawd laptop fucked system error lil brothers laptop freshly squeezed lied showed video end ok stayed watch heroes admin stuff wp stuff learned new wp stuff finally happy layout loved mari trinis songs child devastated spiegeltent coming edinburgh festival year sorry ruined forgive think use twitter offend people unintentionally mitea missing 3 days leave easter work week long list diy jobs home heading bed work 6 hours gnite twitter worldlong day tomorrow night class till 10pm going priceline city tomorrow lost haves list miss kitty cats dentist midwife blood testswhoop de frikking missing vemsteroo unwell having phoned office going bed morning sigh lizp02x oh man sucks hoping school happy tomorrow good ahhh cant bothered gwtting dressed x tired flowchart kens stompthewalrus haha lived texas past 12 years think explains lol si habla espaool completely addicted iphone like bad habit wanting sunshine lay pool trying finish mix fucken man lol tiring night work hope job got bout hills dang nabbit lol sickness making impossible 2 sleep hot cyantist lucky wish twxtd4jordan wish door open people need saamx thanks toolt3 abacab1975 sore comes tomorrow shutting twitter friendfeed beta appear like twitter account hmm work easy wasted hours silly mistake system slow mileycyrus find quote dont answer better sleep xoxo germany morning know mondays bad spills tuesday sleep wondering following keeps going guess gotta try interesting haha boycotting work facebooks fashion war faces mammoth task rest day things little time jeles argh sy pn mau jln sm kau jg sadddddddddddddish annoying place 4pm half hawkers closed want otah mm twitter appears eaten posts naughty twitter university hawaiis hamilton library hw drinking orange soda masha sad people called red carpet blinded lights moony394 omg believe want cry freaking fb spoiled happen watching davidtennant interesting setfilming updates wish cardiff struggling fact dance 5 days away vacation ummm wait 6am video ow ow ow tummy ache candy learn having trouble accessing replies click link right happens access feel yucky sick morning catdevnull nah rang progress offered rejected reckon 117-118 feeling terribly sick right ugh wake ff goes sleep guess revision wanna twilight love dvd oh guess surive rip baby girl sandra cantumy prayers r cantu family strong like know sleep kremsersenf away tubingen germs yes away friends completing reports meetings morning interviewing people afternoon busy bee today blurrgghh - problem picture txbrad need coffee lol saw tweet mcintec net lol comes mibbit mibbit slow twitter sucks super adventurous 2 days luke gone home let morn loss hero im continue playing sims 2 want puppy quotblipfm undergoing maintenancequot sorry music tweets shaking jonnyisgeek cant watch sucks amsterdamant unfortunately dream shoes travoradio morning blipfm ohonefourthree word word stomach fucked sucks hey djtracyyoung playing gaydays year year know tracys night best night money isnt suppose depress x0mrsjoejonas im okay im missing best friend breezyskies pet course time sf ok theory knew good tools barryearnshaw pezholio achilles heel spending x dvds 20 hmv appletv died dreading diagnosis looking forward class work tomorrow day negotiating wth insurers spilling beer laptop night probably avail talking woke bkk protest maybe ho chi minn city hella breaking probably sick ffs poorly sick corienb kutners gone new episodes urgently available dvd goodnight followers darn forgot tonights shoot postponed loose end nowquot amazon mp3 downloads 29p 10 cheers jodiedoubleday ladyldn hope feel better soon ill fun finally home shitty day work floorset maybe insomniac nocturnal eliteforce - told friends constantly circle globe flight uk downunder worst queue ticket phantasialand looks busy school holidays ftl silver winjas fear closed cherrytreerec oh man vid ot available country tryin nap sleep bivancamp update itunes new version b4 lost new software update killed ipod wondering sunshine went got nappy wet split going nice baby bath nappies honeymunchkin anger getting bigger minute goes got uglycomments videos today day government kills talk aaliyah love miss wife says thank mags sent newkidsfan awwwww ur gunna cry miss blessed w love memories dottedwithearts lol gotta work finished needs work tonight ughthree hours coming wish easier got hint booooo good morning believe week london marketingworld london sure im boring dont understand use cathrynscott thank - contribute discussion angels airwaves vs blink 182 want remembered forgotten best friends birthday awww ellie sounds sick poor thing baby miss writing article video converters test shall long time pietrofelix good luck enduring tiring journey start epic drive glasgow alton towers looks like rainy days work tired reports fun maya spayed todayi nervous thats im folding getting tweetie iphone - twitteriffic taking toooo long update need grouping amp replies tired storycorey mac going long week funeral work tomorrow 143 jac gonna great day 4 6 members team woke feel like rubbish rest chill indoors play xbox cold drink rach2718 oh sucks mike work saturday monday andrews got friday till wednesday bugger lol accutely aware bob know wake paris grey need sun peachfuzzuk ah ok quotto stop da terroristsquot claims acceptable trying fine friends twitterno luck far xbox finally given fight working senior paper ohhh hate civicsss havent update bin stuck gf week non im bk class learnin argh driving london today wrong turn kings-x - stuck extra 30 minutes logjam traffic beats cold damp feeling pulling wet pair knicks yay work todayyy working rest week lol dancing emo want write song illi like season hills oneself ends havent update bin stuck gf week im bk class learnin ellelovexx haaaaa want mac amp cheese toooooo hahahaha heyi got u left herei guess im making today oo lol ugh 40 dollar fill ups pump helenvking feel commuting packed trains hideous triner bad wait month sell miss glass house thankfully pretty moment uploaded youtube future loves iphone hates fact tjat needs charge plug train doesnt work theresev solen var inge varm waiting cisco ip phone load listen jonas brothers love band come germany cant bradhfh hello stoped talking lol irritated find patch released properly tmrw whats point letting jess22t diff camps gahh rural woga woga bathurst best 4 advertising tried install twitter-application phone work tough boo nybabe oh balls forgot article mail yesterday got link electronic copy architectural modeling change going smooth far intuos 4 m looking tempting promised leave right hope break promise flu shot ouch scheduled productive hrs sleep insomia gotten stephen left miss sooo gonna lay count breaths fall asleepwooo lolit cuddle day todayi need cuddle 324pm dont wanna chemistry course dont wanna meet jordi thats main reason leah going zinziii dammit ya heading home messy drunk point tonights gyratory system vibe bar electronic drummer illness wow nw001002 operated a330 ac power cool ticket price hyper crazy expensive cold 76 minutes going bed eric hates wont run day ivf injections let fun begin stephendon24 cant commit time play time isnt elses michellepen immensely started playing new sites want mess easter - paranoid moi let hope sore throat clears break pre-cursor illness holidays bit scratchy throat hope goes away thursday weekend fun ugh hate haviinq dis sleepiinq problemsz wanted tweet victoria silly canadian service work home sad vacation security sydney airport spirits bar startrek adamcurry possible add stream option uses regular 808080 port stream noagenda fwproxy gfalcone601 nawww fly london australia boring addersop habbit misspelling bought got picking parentsgoodbye house understand twitter yawn morning real rough night trib agreed sun shining gotta work moony394 think denial watch turns earthquake warnings italy ignored cube creepin dude cancel trip sydney lol going work snowing im bored fingers hurt playing guitar day sevenmac set video channel podcast miro checked listed meeting hour explain quotwhich version oaw usequot atm heap unbundled emf tools miss room pasig place right sps carter co kentucky estblshd thier public library need director thier entire budget 54000year day age doctors long results train late gonna walk hall shame maefitch deleting number jess22t haha know eh thinking vet science sydney uni cept guy night hostpital miss adelaide wish beach looks beautiful umm yeah homework going bed earlyi wish sleep tomorrow morning tweetpeeps bed 3am yesterday msn alex 2 wanted play dead space bed good morning hospital dad spend basically day waiting room minute app fun fun fun sleep brother home girlfriend baby sleep room firefox e lanati hey crash hey crash wants polaroid camera hospital s jaw breaking happen wish iphone let thing easier tried install twitter-application phone work boo want study want shopping instead saw girl blog thumbnails went wayyyy cp feel dirty need shower ahhh drafthouse surprise world premiere screening new star trek night torchys andygosling ouch zoom1 clearfix method friends loving fact 330 lil daughter sleep nasty scraping noises car php gives segfault pregsplit quotits alike diferentquot cried montage flashback hp5 makes cry time bed trying helplessly breathe nose coming itchy need sneeze allergies suck things sun sets way early hello tuesday hope better think tweet hours later mileycyrus - want sofie helllza cute chewbeka yeah brutal june lmao excited plane canada lol workathlon 3 sets management accounts dhughesy thats birthday plans msdivineknight thats bed early cause u sleep u miss things slept missed joe unhappy struggling type morningmaybe suffering day-glo overload fridays 80s fest episode house cuddy hook apo meetings fault waiting love home getting sad hot cross buns week leelowe aww thanks hun picking scotland yesterday evening kill favourite characters dawww site load rising increased capacity going gabrielmansour multiple books time bad habit finishing books clairerichard6 em duncn happy woke 530am morning sleep till 645am coffee amp carrot cake slices mmm lost ideas art help bipling coming aus cobi going jealous lol misser ugh sound class 8 kill home 10ish wants use 8-directional dance pad pero di compatible sa tv yung game jason2008 hello im coffee morningthat winding yesterday lol good day wants play resident evil school work getting way deepbluesealove im reading article different siteseems little dull twitter tonight music exmi hope comes company work shuts thursday joblessville come trying look big picture boy hard days seriously tired need deep sleep pissy tossing turning moan moan moan flat today didnt everythin amp endured massive headache fever nausea finish essay amp work tomory day feeling ill today sinab77 think hate money nickthompson nick love blame oven blame fact shed load wine watching gear jlsofficial photoshoot eyyim sure look hot come brighton hellooo boyslove loads xxxxxx dentist aww man party nighti miss new jersey today meganxnightmare think girl tjlefebvre missing seen evening feeling twitter splont meeting morning today makes feel better finish tomorrow weds hate zombie mode today kids ill kept till 230am work 6am people says vicious missin babyreally needed talk today school errands sad got lot moment doubt going chance book time family easter hols apply international driver licence competition course nurburgring half-day goulandris email provider laurenbavin hey - tell jealous morning baggered gym work later princessshorty aww sorry hear hope gets better listening podcast debate spoke brilliantly davedynamix sad marley amp damn clearance-dog ashleyemma lucky devil dreaming crispy bacon sandwich volunteered think saw magic sunday salford - saw hull fc come pitch vanished usual breakie starbucks heading morning cameras weather looking shite stage georgemackie dont sell ebay tommcfly know johnsons baby use animals like cute bunnies test products sleep bc drank diet coke 9pmsucks bc wake 530am triop damn need learn darn woke great idea lime article forgot thinking shorts flip flops bad idea mikebreed mike understand think need change opinion good lol waiting parcel arriving argh hurry hurry knot2serious oh btwdjrocko951 amp tried cuban buffet told u aboutso excitedit closed mondays sad story gingha docs morning work freecycling getting stayed home bit lonely - friends actually use twitter oh artemisiii oh laundry powder maybe allergic jeans usually fitted makes worse need inspiration hit kitchen tonight accidentally listened new sugababes album playing girls aloud hits sequentially purge memory going walk dogs shower bed sad yankees lost game monday boooo exmi hey doll sorry hear bout ur doggie hope comes home soon help u look far away upset find quotchurch flying spaghetti monsterquot twitter follow enjoy pretty films feels like comming somethinglet hope cold sleeping damnit t-minus 4 hours counting kids school rochellesheree missed wednesday day thursday missed train york wifi blackberry battery going die soon - good start day theoryofmind woppygook omniaaaa said crackberrryyy time depart flip phone hermes packetdienst sucks fun night- paying going fry egg squirrels today hiding nmcgivney yeah ploughed night happening ali1702 omg- daughter come home night huge worry mind poor bought car impending fatherhood affecting judgement plans 330ci rav-4 aust gov rolls 43 bln 100mb bband way rest worlds bband speeds bnish dan grabbed yardhouse earlier pirate disappointed work early team meeting forgot lunch worried cutting hours start 1000am day morning starbucks mrjoe sorry hear bike aliceverheij ms xp im afriad laptop 3yrs old think bit messed going rpm vespa needs oil going fast remains un broken year mark speight died year goes fast exactly cities burn worries quotas cities burns likely final outingquot - new album review like 9-5 malarky - seeing friends seen months stupid work aw balls new shirt got aerie today fit wear medium small saulwilliams budget yr ireland today want tax text messages pray poets finished second research paper week tuesdaykind kill test friday jpiasentin unfortunately pack probably scotland week having panic attack sleep distracting tv internet hope goes away soon susanstn opps unable dm moment maybe twitter bugs maintenance project going drain legal issues dealt fatal blow heat grazia subscriptions probably delivered door missing n ol frend amp thinking bout rite brahhh quit smoking cigs dont want look old plus cant breath haha omy jus woke wishing woke sumwer ny lol school suxxx wish tourny ainzdj mate time gettin gonna able hang late bit comin support fo sho mathie makes hard work small businesses great sick coughing having sore throat got 7 mistakenly 6 got brainbone daily question wrong - phillyd wishing best lt3 rockchic65 normally pumpkin patch bit skint minute headtotail thank feel sad hope nice life til end msjheart lol yeah good gotta unplug use hustle 79 bucks new cant sleep need cuddle robertzalme yes theory getting solutions coming going school minutes head-ache tt looking forward meeting angry teacher wayy early awake zzz attack hayfever noooo need hugs neevd know sites play games shall past second footpath frogger playing killzone 2 demo iloveac slut talk talk rinn waa waaa waaaaaaaa lol love courtney mrsfr yes unfortunately date clashed important long standing family party got having coffee frost car windows suspected hope tired today comp screwed jessicafilan charliecondou 4skinmusic like crazytwism knowthey block orkut dubai oman orkut accessbut skype banned ru gulf hates waiting game hates uncertainties throat hurts think cold kind sad bullshit found owi totally ate pavement morn stephens green luas stopso soreand freaking tv camera thereof times fall jamming postponed boohoohoozx damn flu bug baby went home morning net towers deadline wakey wakey bored dog annoying weights 20 pounds want come knees miss family guyyy tired borrrrrred vacation sooooooo hot sitting waiting sitting home watching jeremy kyle bored germany stuck work super stressed wish kateblogs author subscriber early -- bored trantula song stuck head past hour wwwstalkdailycomgeorg feels like cramp disconcerting skynicmac shame sites pr dropped mcbesty monday usually working day maxbarners hope goes supposed work university construction sight close makes contant noise crucifire damit idea todays comic wrote credit zen sushi lunch todaylooks like raining outside ashley tisdale love dye hair didnt announce reading lineup ronjeffries love hire tons fun time budget tho hiring german girl night brisbane micameli friend supposed having arranged lan jetblackonyxs missmell blasty-blast time home gnah inner tube exploded gotta taxi work late good morning - going run morning dentist drilling cubedweller gah - freeview - brought colbert report consider switching clinic booring 18 days left london time jerrrm today meeting day gilaaaa hungry dreaming yumyums gym yesteday new gym need new induction good news booked wednesday woot ughhhhh coming house ilu bb gfalcone601 nawww london cornwalls boring website kingkiwi want rain nice today 306 letters sent better start writing llordllama oh obadiah names start e generally good valdezign hmm beta nambu pingfm friendfeed disabled boo ohhh lost voice arizonaaaa - japannaly hhhahaha cant thursday bitch jk hahaha booo ee suck daniella bring sam happy fabianv kind docs write docs wishes om homework right ok heres deal live small town seen anythin famous n thought luck duskyazure u got 2 lie - ve bn way 2 long mrs woke 6am morning amp dragd slumberlnd time trying plan tripslow budget thoughdo think working ianhanlon scobz goal celeb respond tweets sleep sleep speaks waiting tom mums birthday im glad likes pressies looking forward party time later week sad im going cornwall dajbelshaw sounds like day gym car arrived maybe shall thursdaydamn paperwork ratsofatsorat left sips mocha reusable coffee mug week chunky omg whats windows vista today tried installing windows 7 laptop died reinstall mean goes anymore x dear twitter 4 bug bites leg r itchyyyy haha got outta shower uhh night thomassonora problem poken error tracitoguchi nah feeling come mushyv ahhhhh hoff programme sounded classs fuckin missed hopes repeat innit confused life grunt121 good luck big meeting hope rumour mill wrong jxx white guy manager shouts walk wanna feast missing 17 thursday worst hello world dont like physics going dentist mean tooth spa right valeriekhoo boyfriend means world muchless understand natazzz hurt sad finished marking celebrate tho got communicate marks amp feedback online students rest night gone sick hate simon felice longer playing felice brothers sure feel ears size 00 hurt watching chaos theory wonderful movie love going holidays friend tomorrow exited twitter looks like nobel peace prize simply popularity contest oww poor darling body missing tracy girl sandra cantu found inside suitcase wwwtinyurlcomdfhvzg tracy ugh mum wake early 845 geesh need sleep princessnadysthere noth awww work time play haylieofficial night post email loves long walk energy chair chrismevans argh driving london today wrong turn kings-x - stuck extra 30 minutes logjam traffic mattg00d dont like having internet dont tweet jodielane jodie awake hungry need coz leaving coz wont talk llaacceeyy haha good cook looks pretty foul right love having voguettes twitter yay nice meet x needs dentist perfect start holidayshm milk cup tea mother fuckers changing rotas telling cool work add boyfriend arghhhhhh cant profile picture im sorry guys dont know lolzitsmel paranormal pretty good tonight glinner think right username mr brooks grey day london come sun forgiven hate windows movie maker sony vegas come cant download anymore brother banned downloading cant stop laughing burger king commericalim easily amused davidkudrev pity facebook chat exceeded msns amazingly level unreliability pity shall remove irrelevant hubby tight scedule easter vaca stressing 8 visits denmark 6 days rickrodgers kidding man rim sync client linux opensync package sucks charge lolz oh agents booked wrong days x1000000 going josh course broke right thing feel bad confused wish new glasses expensive yummy pizza dinner mouth burnt literally spitting blood im little bit bored warrnambool animal docos handle wordpress bitch-ass bitch new silence remix casasteve vw forums nightmare enthusiasts forums results politics bitching awake sensible time alot coursework bohoo schofe sounds like great shame work wyldceltic1 read glad better emperoremil yup work midshift na e burjz ugh mean sign got gone babys heading perth uh d dentists hurt today holy crap feel like teeth fall let giant cookie going ride hate legs feels sick needs foood cant find camera night good lindsays house pretty ruined eek omkarkurode won coz created quotavenuesquot yeah mistake choosing tango zone youtube sound ubuntu find phone hospital foot x-ray wait doctor confirm hate hospitals ahh sorry yall able twitter phone work brit amazeingahhh damn tired today actually need nap home time woke tiresome times heromancer come orlando sooon sadly wishes restaurant city pet society ported iphoneitouch twittering past 22 days obviously 140am taking small break ochem omg bed making sick cant sleep way hospital praying bowl bran flakes ave shower revision phillcoleman low 35 night sarahlsharp oops feel like breaking hearts shystieuk wish luck gotta london ging great olmand street appointment scared xxxx devdsp hrm posts sound like holding etnobofin google translator hospital foot x-ray wait doctor confirm hate hospitals thi m4 v ci u b know feel upset losing follower probably porn star trying sell arghfirefox removed bookmarks folder - sharepoint folder including links idea whyhow delustre wanna watch dollhouse seen eps lt3 eliza dushku lol kourtneykardash need beach bod saw dan neighbours walking chapel streetrandom feeling like going fire work any1 got job going jansmells maybe stop lazy goosed sorry procrastinating gone macbatchelor ah rehearsal tonight awaiting imminent arrival clairefallen nah snow april sucks colbsi flickrs letting view - says private misswyn bet remember easter kid excited shall great day xambix wow welcome home eh shit especially coming holiday fucking people blueeyedbomber excellent missed saturday night tiahn good coz therebad coz paid going sunny today right forecasters hopes fb ollien33 carousella - doctors appointment 9 11 sucks bit sick working 2 articles today 2 days nice little office dont wanna want college want cuddle babyyy hmm shoulder making bad noises arm forth know fear return physio required happyahma - welcome sorry hear ants rhyswynne pest grr spam odannygirl7 oh yesses quotroad rashquot hip lovely ay rock whyvee welcome home sounds like hell journey got offer camping fraser island weekend jump offer 2nd thought forecast rain latexfetish sadly feed wordpress feed usually blacomfeed blacomfeedrss2 exist kristenkreuk fiuhh nice info fans indonesia waiting movie country thanx want leave college cant smoking tried easy moved dwsr tayswift - 3am btw congrats winning album year deserve shed tear white horse hedgewytch oh horrible innocent smoothies love start putting rubbish sleep fight outside inconsiderate wanna sleep frightened cos spider time hope flat repels unfortunately got man save having casual unprotected tweets twats shall probably mom dissapointed going sidee dee cold insomnia headache virtuallin actually like taub reason thought bromance kutner cute kutner sigh watched smallville 8x18 nite ep decisions fail impress time watched movie huge epiphinal line exactly needed need find jazred87 told caved end abusing like facebook real friends upload pic personal web site hacked finally cold hope suceed bugger good today error check things currently wishing treacle sponge custard louise night watching order phoenix reports italy 179 death 34 missing 1500 injured italy earthquake rai know sucks finding burned tail light stores closed plus open work gday evil highschool right rain ruined malaysian gp - fun money ajiee thnx ajeng skip class im totally unprepared way chicago finally connecting london home 5 measely days maxime68 darn open work computer supposed fun work thanks janelle76 want phone fbms twitter keongzai assign eff hospital soon kinda sucks allowed eat x like uk postal prices gone costs 20p mail black velvet usarotw amp 10p uk 4 days york - nice place photos coming soon feeling sick work davenavarro6767 wondering quiet days miss chatty dave alystoe hope okay work thinking graveyard shift sux day work holiday argh got fuck loads snickered like minutes thinking awesomest know use thing stupid picture upload madre grinding gonna long week thomasgudgeon yes shame plastic generation think tweetdeck failing hurts mckaylajb hey lol btw u know upload picture tried shows xo working home sooo super duper cold misterskull awwwwww shame miles miles away spent half hour making playlist tonight going long night nattnatt81 doggie dazzler im trying work bit today want coule pop ovr hi later oh damnfried screwing lunch getting ready leave calii donquott want home wish bring kids maths examen 1 o clock ryanseacrest tie bar missed wednesday nickdawson hope knee feels better quickly having night wondering lovely wife check respond tweets course document important tables published internet love joke punch line jonathin sorry left corel install cd room went coffee kids got milk coke instead yoghurt overload orangeflowers scary clutter unclean pain keeps awake lately shld start subsiding wk good morning worlds - got snow throat killing missing gordon fighting hungries willieday26 sleep 345 work 830 know problem artemisiii aw sorry hear know jeans winter miss kabalin hates stuffy nose preventing sleep remedies went bed 8pm wide awake 4 work 830 going long day rustyrockets tnk need smile today write everyoneee x itchy eyesgrass cutoh-oh damn filling fell half tooth gone daftasabat needed lie lol slept 6 hours days killing watched greys anatomy cried writing miss meg hope lost sigh going look curtains yesterday bad day found bernie mac died year u shud online dunno find outoutout dunnoi emailed website aampr sent tweet repliesthey probably got bored fan-remixers bugging wishing sleep probably going happen tonight riry pain nomming hand sprayed cat nip mist joke craaaazy silverlines aaaah jadi tiba2 pingin butter sugar toast huhuu thats messed jennnnie yes projects wool hiding meit friday went craigs place project reports school need words 700 words short inspiredwriting love - - easily read tweed working twittercom reloading time teleken unfortunately sorry hopefully find hang use fax machines drjackdr oh disaster horrible situation bid signed panic disco poster unfortunatly fall boy limit antzpantz obviosuly missed evcery single jordynhill7 oh cic meaning ring feeling lose lissie45 sorry saw post signed finished reading lolthese guys gold feel bad paid 600 sweetest ol boy 88 telling war swellvintage lot better today thanks unfortunately sick mean loss apetite x sminchin1977 sorry hear unwell school holiday syndrome waiting scrappers come pick old saab hates know got home night 4 hours laying flattened bean bag ftl great song ooo dr hd ok ok officially sad techy geek valium needz septmourningm texas far phx lol luckyrivera great song ouch toenail aaaaaaaa babysitting morning stiil excuse watch chute cbbc man wacky dream early morning loggin looks like ats spamming updates good mood morning anymore stupid work stupid cellphone provider cant understand linked sthe point got bakc shoot bloody exhausted need hug forgot shitty co-op ugh looking dress friend find enjoying lunch lake constance - uh cool impossible want new job particually better new shaundiviney want pizzaaaa windows mobile doesnt allow write stack pointer need college work work having food terrible toothache feeling grumpy 44 hotels write work queue pypi fail installing markdown pip easyinstall downloads python 3 version y isnt sunny yesterday deadline ahead karinhoegh true love frienfeed cool apps delivers value little time damn m missing twitter busy late got enuff time active twitter missing d action continue hurtful things peace wanted grr savicevic aww roommate year bye im going stop 3tfan cant im fan becouse want date taryll dosent want ianmack season yes descended creepy teen boy humour season 2 lt3 muldermoody iphoneincanada wait 10-cheaper package 150 voice minutes cheaper substantially better messsedd upppp suck making jelly cakeeeee swati121 swati omg missed soo heard new jls song 8- ahaa youre probs jetlagged right argh fantasy surfer carnage dane marlon amp nat c fantasysurfer feels slightly ill guess shouldnt eaten mc ds awlred dont exist anodising services exist - wishing hadnt drunk mush yestaday got amazing new pedal blew speakers wish sydney craigelder proof reading defra greener living fund bid - govt dept grant application deadline close easter hairpins ohh envy natalieeee need new wardrobe wear weekend anothera swati121 yeah havnt got cradunlimited textcall sucks catch today xxxxx sad coz alisons leaving england france tonight needs mouse looks like lappys touch pad giving na u u find person u supported stood day 1 tells u past tried blow u doctors appointment nasa lost raw footage apollo 11 mission winter slowly creeping cape town looking forward cheekybeer document management systems good idea rarely happen practice hate time super bored sleeping ge ready work 9 hour shift ahead x greyhoundgal omg page excited congratulations sorry torres hurting paw tho dog tired reason going bed late sleeping lately makes angry denpasar good luck look forward update run option wind seriously blowing real gale day lshs tomorrow smell tyson wishes twitter translator twitter caught southern hemisphere shall aventually guess christinastokes sh working says website office jxox ohh hope stopin till reply lol wunder marvs read vs lyrics haha imagine nxt blog kleinjinx like in-laws coming easter meet time camera spoil sooo motivated work wont let log know users thier cos anth sent friend request waiting dispatch got hour ago sleeping 4 hours guess shall bed going sleep busy day going meetings stuff - miss girl shes switzerland marthagonemad agreed wish pure easy fun urgh head hurts think 7 hours sleep cat miaowing rest wicked hour late-bad plumbers wish 100 better 100 awesome work better allowed sway sway baby concert shall seriously cry silverlines tadi di pim udah sempet lirik2 mesra tapi baru abis makan definitely putting agenda time pim marley crying like kid good movie good night people lost favourite mac lipglossi upset iti lose things pretty sure electrical house slowly dying like money replace stuff bed painfully tempting right nap shall probably wake 4pm frustrated rudd cant facilitate private enterprise investing broadband infrastructureinstead needs waste money mercygrl oh wow little chubster cant invite ppl play uno facebook moment want ffxii bad got chance play garage getting estimate wheel damage car sundays little mishap - looking good bah hairline fracture impellor hub titsuptuesday morning bad dream woke meatrack sneaky late arvo surfs man feel late arvo glass distant memory summer sleepi wake 4 hours samdj1210 unfortunately work thanks advice bed ridden today dear fbdimms 4gb memory 8 running 90 crippled pc searching job berlin summer timedo speak german piccy coming soon -off watch 90210 god wanna america soo baadd oh harrods day sick tombot18 mind work sick veryyy bad watching american history x wanna watch american beauty buy meeee entered online poker tournement 49 finished 18th isnt happy twitter moment wont let upload picture wishing dougie tom reply trying extend reading watchmen reading dont want end lucygooesy haha nice barbie backgroud hasnt replied lol sunny outside im stuck indoors far far away window roll dinner rhinecruise09 absolutely right bed failed martha want grown usual cooking hate incredibly immensely indecisive wish come true hell carolina yay 2am bit tired boagworld profile picture makes happy return think need new promo picture fairy06 omg'"
      ]
     },
     "execution_count": 128,
     "metadata": {},
     "output_type": "execute_result"
    }
   ],
   "source": [
    "x"
   ]
  },
  {
   "cell_type": "code",
   "execution_count": 129,
   "metadata": {},
   "outputs": [
    {
     "data": {
      "text/plain": [
       "10887961"
      ]
     },
     "execution_count": 129,
     "metadata": {},
     "output_type": "execute_result"
    }
   ],
   "source": [
    "len(text)"
   ]
  },
  {
   "cell_type": "code",
   "execution_count": 130,
   "metadata": {},
   "outputs": [
    {
     "data": {
      "image/png": "[encoded data removed]",
      "text/plain": [
       "<Figure size 432x288 with 1 Axes>"
      ]
     },
     "metadata": {
      "needs_background": "light"
     },
     "output_type": "display_data"
    }
   ],
   "source": [
    "wc = WordCloud(width = 800, height=400).generate(x)\n",
    "plt.imshow(wc)\n",
    "plt.axis('off')\n",
    "plt.show()"
   ]
  },
  {
   "cell_type": "markdown",
   "metadata": {},
   "source": [
    "### Spelling correction"
   ]
  },
  {
   "cell_type": "markdown",
   "metadata": {},
   "source": [
    "TextBlob is a python library and offers a simple API to access its methods and perform basic NLP tasks. A good thing about TextBlob is that they are just like python strings."
   ]
  },
  {
   "cell_type": "code",
   "execution_count": 131,
   "metadata": {},
   "outputs": [],
   "source": [
    "from textblob import TextBlob"
   ]
  },
  {
   "cell_type": "code",
   "execution_count": 137,
   "metadata": {},
   "outputs": [],
   "source": [
    "x = \"lat see how thes wrok whaty hwo wher\""
   ]
  },
  {
   "cell_type": "code",
   "execution_count": 138,
   "metadata": {},
   "outputs": [
    {
     "data": {
      "text/plain": [
       "TextBlob(\"at see how the work what who her\")"
      ]
     },
     "execution_count": 138,
     "metadata": {},
     "output_type": "execute_result"
    }
   ],
   "source": [
    "x = TextBlob(x).correct()\n",
    "x"
   ]
  },
  {
   "cell_type": "markdown",
   "metadata": {},
   "source": [
    "### Tokenization"
   ]
  },
  {
   "cell_type": "code",
   "execution_count": 141,
   "metadata": {},
   "outputs": [],
   "source": [
    "x = 'is this sentence going to tokenize?. ok'"
   ]
  },
  {
   "cell_type": "code",
   "execution_count": 142,
   "metadata": {},
   "outputs": [
    {
     "data": {
      "text/plain": [
       "WordList(['is', 'this', 'sentence', 'going', 'to', 'tokenize', 'ok'])"
      ]
     },
     "execution_count": 142,
     "metadata": {},
     "output_type": "execute_result"
    }
   ],
   "source": [
    "TextBlob(x).words"
   ]
  },
  {
   "cell_type": "code",
   "execution_count": 143,
   "metadata": {},
   "outputs": [
    {
     "name": "stdout",
     "output_type": "stream",
     "text": [
      "is\n",
      "this\n",
      "sentence\n",
      "going\n",
      "to\n",
      "tokenize\n",
      "?\n",
      ".\n",
      "ok\n"
     ]
    }
   ],
   "source": [
    "doc = nlp(x)\n",
    "for token in doc:\n",
    "    print(token)"
   ]
  },
  {
   "cell_type": "markdown",
   "metadata": {},
   "source": [
    "### Lemmatization"
   ]
  },
  {
   "cell_type": "code",
   "execution_count": 144,
   "metadata": {},
   "outputs": [],
   "source": [
    "x = 'runs run running ran'"
   ]
  },
  {
   "cell_type": "code",
   "execution_count": 145,
   "metadata": {},
   "outputs": [],
   "source": [
    "from textblob import Word"
   ]
  },
  {
   "cell_type": "code",
   "execution_count": 146,
   "metadata": {},
   "outputs": [
    {
     "name": "stdout",
     "output_type": "stream",
     "text": [
      "run\n",
      "run\n",
      "running\n",
      "ran\n"
     ]
    }
   ],
   "source": [
    "for token in x.split():\n",
    "    print(Word(token).lemmatize())"
   ]
  },
  {
   "cell_type": "code",
   "execution_count": 147,
   "metadata": {},
   "outputs": [
    {
     "name": "stdout",
     "output_type": "stream",
     "text": [
      "run\n",
      "run\n",
      "run\n",
      "run\n"
     ]
    }
   ],
   "source": [
    "doc = nlp(x)\n",
    "for token in doc:\n",
    "    print(token.lemma_)"
   ]
  },
  {
   "cell_type": "markdown",
   "metadata": {},
   "source": [
    "### Detect Entities using NER of SpaCy"
   ]
  },
  {
   "cell_type": "code",
   "execution_count": 148,
   "metadata": {},
   "outputs": [],
   "source": [
    "x = 'British cosmologist Stephen William Hawking was born in England on Jan. 8, 1942'"
   ]
  },
  {
   "cell_type": "code",
   "execution_count": 149,
   "metadata": {},
   "outputs": [
    {
     "name": "stdout",
     "output_type": "stream",
     "text": [
      "British _ NORP _ Nationalities or religious or political groups\n",
      "Stephen William Hawking _ PERSON _ People, including fictional\n",
      "England _ GPE _ Countries, cities, states\n",
      "Jan. 8, 1942 _ DATE _ Absolute or relative dates or periods\n"
     ]
    }
   ],
   "source": [
    "doc = nlp(x)\n",
    "for ent in doc.ents:\n",
    "    print(ent.text + ' _ ' + ent.label_ + ' _ ' + str(spacy.explain(ent.label_)))"
   ]
  },
  {
   "cell_type": "code",
   "execution_count": 150,
   "metadata": {},
   "outputs": [],
   "source": [
    "from spacy import displacy"
   ]
  },
  {
   "cell_type": "code",
   "execution_count": 151,
   "metadata": {},
   "outputs": [
    {
     "data": {
      "text/html": [
       "<span class=\"tex2jax_ignore\"><div class=\"entities\" style=\"line-height: 2.5; direction: ltr\">\n",
       "<mark class=\"entity\" style=\"background: #c887fb; padding: 0.45em 0.6em; margin: 0 0.25em; line-height: 1; border-radius: 0.35em;\">\n",
       "    British\n",
       "    <span style=\"font-size: 0.8em; font-weight: bold; line-height: 1; border-radius: 0.35em; text-transform: uppercase; vertical-align: middle; margin-left: 0.5rem\">NORP</span>\n",
       "</mark>\n",
       " cosmologist \n",
       "<mark class=\"entity\" style=\"background: #aa9cfc; padding: 0.45em 0.6em; margin: 0 0.25em; line-height: 1; border-radius: 0.35em;\">\n",
       "    Stephen William Hawking\n",
       "    <span style=\"font-size: 0.8em; font-weight: bold; line-height: 1; border-radius: 0.35em; text-transform: uppercase; vertical-align: middle; margin-left: 0.5rem\">PERSON</span>\n",
       "</mark>\n",
       " was born in \n",
       "<mark class=\"entity\" style=\"background: #feca74; padding: 0.45em 0.6em; margin: 0 0.25em; line-height: 1; border-radius: 0.35em;\">\n",
       "    England\n",
       "    <span style=\"font-size: 0.8em; font-weight: bold; line-height: 1; border-radius: 0.35em; text-transform: uppercase; vertical-align: middle; margin-left: 0.5rem\">GPE</span>\n",
       "</mark>\n",
       " on \n",
       "<mark class=\"entity\" style=\"background: #bfe1d9; padding: 0.45em 0.6em; margin: 0 0.25em; line-height: 1; border-radius: 0.35em;\">\n",
       "    Jan. 8, 1942\n",
       "    <span style=\"font-size: 0.8em; font-weight: bold; line-height: 1; border-radius: 0.35em; text-transform: uppercase; vertical-align: middle; margin-left: 0.5rem\">DATE</span>\n",
       "</mark>\n",
       "</div></span>"
      ],
      "text/plain": [
       "<IPython.core.display.HTML object>"
      ]
     },
     "metadata": {},
     "output_type": "display_data"
    }
   ],
   "source": [
    "displacy.render(doc, style = 'ent')"
   ]
  },
  {
   "cell_type": "markdown",
   "metadata": {},
   "source": [
    "### Detecting nouns"
   ]
  },
  {
   "cell_type": "code",
   "execution_count": 152,
   "metadata": {},
   "outputs": [
    {
     "data": {
      "text/plain": [
       "'British cosmologist Stephen William Hawking was born in England on Jan. 8, 1942'"
      ]
     },
     "execution_count": 152,
     "metadata": {},
     "output_type": "execute_result"
    }
   ],
   "source": [
    "x"
   ]
  },
  {
   "cell_type": "code",
   "execution_count": 153,
   "metadata": {},
   "outputs": [
    {
     "name": "stdout",
     "output_type": "stream",
     "text": [
      "British cosmologist Stephen William Hawking\n",
      "England\n",
      "Jan.\n"
     ]
    }
   ],
   "source": [
    "for noun in doc.noun_chunks:\n",
    "    print(noun)"
   ]
  },
  {
   "cell_type": "markdown",
   "metadata": {},
   "source": [
    "### Translation and Language detection\n",
    "\n",
    "Language code:https://www.loc.gov/standards/iso639-2/php/code_list.php"
   ]
  },
  {
   "cell_type": "code",
   "execution_count": 154,
   "metadata": {},
   "outputs": [],
   "source": [
    "tb = TextBlob(x)"
   ]
  },
  {
   "cell_type": "code",
   "execution_count": 155,
   "metadata": {},
   "outputs": [
    {
     "data": {
      "text/plain": [
       "'en'"
      ]
     },
     "execution_count": 155,
     "metadata": {},
     "output_type": "execute_result"
    }
   ],
   "source": [
    "tb.detect_language()"
   ]
  },
  {
   "cell_type": "code",
   "execution_count": 156,
   "metadata": {},
   "outputs": [
    {
     "data": {
      "text/plain": [
       "TextBlob(\"英国宇宙学家斯蒂芬·威廉·霍金于1942年1月8日出生于英国\")"
      ]
     },
     "execution_count": 156,
     "metadata": {},
     "output_type": "execute_result"
    }
   ],
   "source": [
    "tb.translate(to='zh') #fr, ar, hi bn"
   ]
  },
  {
   "cell_type": "markdown",
   "metadata": {},
   "source": [
    "### Use inbuilt sentiment classifier"
   ]
  },
  {
   "cell_type": "code",
   "execution_count": 157,
   "metadata": {},
   "outputs": [],
   "source": [
    "from textblob.sentiments import NaiveBayesAnalyzer"
   ]
  },
  {
   "cell_type": "code",
   "execution_count": 158,
   "metadata": {},
   "outputs": [],
   "source": [
    "x = 'All countries have to stand together to fight climate change'"
   ]
  },
  {
   "cell_type": "code",
   "execution_count": 159,
   "metadata": {},
   "outputs": [],
   "source": [
    "tb = TextBlob(x, analyzer = NaiveBayesAnalyzer())"
   ]
  },
  {
   "cell_type": "code",
   "execution_count": 160,
   "metadata": {},
   "outputs": [
    {
     "data": {
      "text/plain": [
       "Sentiment(classification='pos', p_pos=0.9204087168647589, p_neg=0.07959128313523951)"
      ]
     },
     "execution_count": 160,
     "metadata": {},
     "output_type": "execute_result"
    }
   ],
   "source": [
    "tb.sentiment"
   ]
  },
  {
   "cell_type": "code",
   "execution_count": 167,
   "metadata": {},
   "outputs": [],
   "source": [
    "x = \"people gonna hate 2020\""
   ]
  },
  {
   "cell_type": "code",
   "execution_count": 168,
   "metadata": {},
   "outputs": [],
   "source": [
    "tb = TextBlob(x, analyzer = NaiveBayesAnalyzer())"
   ]
  },
  {
   "cell_type": "code",
   "execution_count": 169,
   "metadata": {},
   "outputs": [
    {
     "data": {
      "text/plain": [
       "Sentiment(classification='neg', p_pos=0.429893522158114, p_neg=0.5701064778418848)"
      ]
     },
     "execution_count": 169,
     "metadata": {},
     "output_type": "execute_result"
    }
   ],
   "source": [
    "tb.sentiment"
   ]
  },
  {
   "cell_type": "markdown",
   "metadata": {},
   "source": [
    "### Advanced text processing"
   ]
  },
  {
   "cell_type": "markdown",
   "metadata": {},
   "source": [
    "### N-Grams :it is the combination of multiple word fused together, 1  2 3......."
   ]
  },
  {
   "cell_type": "code",
   "execution_count": 170,
   "metadata": {},
   "outputs": [],
   "source": [
    "x = 'Thanks for watching'"
   ]
  },
  {
   "cell_type": "code",
   "execution_count": 171,
   "metadata": {},
   "outputs": [],
   "source": [
    "tb = TextBlob(x)"
   ]
  },
  {
   "cell_type": "code",
   "execution_count": 172,
   "metadata": {},
   "outputs": [
    {
     "data": {
      "text/plain": [
       "[WordList(['Thanks']), WordList(['for']), WordList(['watching'])]"
      ]
     },
     "execution_count": 172,
     "metadata": {},
     "output_type": "execute_result"
    }
   ],
   "source": [
    "tb.ngrams(1)"
   ]
  },
  {
   "cell_type": "markdown",
   "metadata": {},
   "source": [
    "### Bag of words "
   ]
  },
  {
   "cell_type": "code",
   "execution_count": 173,
   "metadata": {},
   "outputs": [],
   "source": [
    "x = ['this is first sentence', 'this is second', 'this is last']"
   ]
  },
  {
   "cell_type": "code",
   "execution_count": 174,
   "metadata": {},
   "outputs": [],
   "source": [
    "from sklearn.feature_extraction.text import CountVectorizer"
   ]
  },
  {
   "cell_type": "code",
   "execution_count": 175,
   "metadata": {},
   "outputs": [],
   "source": [
    "cv = CountVectorizer(ngram_range=(1,1))\n",
    "text_counts = cv.fit_transform(x)"
   ]
  },
  {
   "cell_type": "code",
   "execution_count": 176,
   "metadata": {},
   "outputs": [
    {
     "data": {
      "text/plain": [
       "array([[1, 1, 0, 0, 1, 1],\n",
       "       [0, 1, 0, 1, 0, 1],\n",
       "       [0, 1, 1, 0, 0, 1]], dtype=int64)"
      ]
     },
     "execution_count": 176,
     "metadata": {},
     "output_type": "execute_result"
    }
   ],
   "source": [
    "text_counts.toarray()"
   ]
  },
  {
   "cell_type": "code",
   "execution_count": 177,
   "metadata": {},
   "outputs": [
    {
     "data": {
      "text/plain": [
       "['first', 'is', 'last', 'second', 'sentence', 'this']"
      ]
     },
     "execution_count": 177,
     "metadata": {},
     "output_type": "execute_result"
    }
   ],
   "source": [
    "cv.get_feature_names()"
   ]
  },
  {
   "cell_type": "code",
   "execution_count": 178,
   "metadata": {},
   "outputs": [],
   "source": [
    "bow = pd.DataFrame(text_counts.toarray(), columns = cv.get_feature_names())"
   ]
  },
  {
   "cell_type": "code",
   "execution_count": 179,
   "metadata": {},
   "outputs": [
    {
     "data": {
      "text/html": [
       "<div>\n",
       "<style scoped>\n",
       "    .dataframe tbody tr th:only-of-type {\n",
       "        vertical-align: middle;\n",
       "    }\n",
       "\n",
       "    .dataframe tbody tr th {\n",
       "        vertical-align: top;\n",
       "    }\n",
       "\n",
       "    .dataframe thead th {\n",
       "        text-align: right;\n",
       "    }\n",
       "</style>\n",
       "<table border=\"1\" class=\"dataframe\">\n",
       "  <thead>\n",
       "    <tr style=\"text-align: right;\">\n",
       "      <th></th>\n",
       "      <th>first</th>\n",
       "      <th>is</th>\n",
       "      <th>last</th>\n",
       "      <th>second</th>\n",
       "      <th>sentence</th>\n",
       "      <th>this</th>\n",
       "    </tr>\n",
       "  </thead>\n",
       "  <tbody>\n",
       "    <tr>\n",
       "      <th>0</th>\n",
       "      <td>1</td>\n",
       "      <td>1</td>\n",
       "      <td>0</td>\n",
       "      <td>0</td>\n",
       "      <td>1</td>\n",
       "      <td>1</td>\n",
       "    </tr>\n",
       "    <tr>\n",
       "      <th>1</th>\n",
       "      <td>0</td>\n",
       "      <td>1</td>\n",
       "      <td>0</td>\n",
       "      <td>1</td>\n",
       "      <td>0</td>\n",
       "      <td>1</td>\n",
       "    </tr>\n",
       "    <tr>\n",
       "      <th>2</th>\n",
       "      <td>0</td>\n",
       "      <td>1</td>\n",
       "      <td>1</td>\n",
       "      <td>0</td>\n",
       "      <td>0</td>\n",
       "      <td>1</td>\n",
       "    </tr>\n",
       "  </tbody>\n",
       "</table>\n",
       "</div>"
      ],
      "text/plain": [
       "   first  is  last  second  sentence  this\n",
       "0      1   1     0       0         1     1\n",
       "1      0   1     0       1         0     1\n",
       "2      0   1     1       0         0     1"
      ]
     },
     "execution_count": 179,
     "metadata": {},
     "output_type": "execute_result"
    }
   ],
   "source": [
    "bow"
   ]
  },
  {
   "cell_type": "code",
   "execution_count": 180,
   "metadata": {},
   "outputs": [
    {
     "data": {
      "text/plain": [
       "['this is first sentence', 'this is second', 'this is last']"
      ]
     },
     "execution_count": 180,
     "metadata": {},
     "output_type": "execute_result"
    }
   ],
   "source": [
    "x"
   ]
  },
  {
   "cell_type": "markdown",
   "metadata": {},
   "source": [
    "### Term Frequency\n",
    "\n",
    "Term frequency is simply the ratio of the count of a word present in a sentence, to the length of the sentence."
   ]
  },
  {
   "cell_type": "code",
   "execution_count": 181,
   "metadata": {},
   "outputs": [
    {
     "data": {
      "text/plain": [
       "['this is first sentence', 'this is second', 'this is last']"
      ]
     },
     "execution_count": 181,
     "metadata": {},
     "output_type": "execute_result"
    }
   ],
   "source": [
    "x"
   ]
  },
  {
   "cell_type": "code",
   "execution_count": 182,
   "metadata": {},
   "outputs": [
    {
     "data": {
      "text/html": [
       "<div>\n",
       "<style scoped>\n",
       "    .dataframe tbody tr th:only-of-type {\n",
       "        vertical-align: middle;\n",
       "    }\n",
       "\n",
       "    .dataframe tbody tr th {\n",
       "        vertical-align: top;\n",
       "    }\n",
       "\n",
       "    .dataframe thead th {\n",
       "        text-align: right;\n",
       "    }\n",
       "</style>\n",
       "<table border=\"1\" class=\"dataframe\">\n",
       "  <thead>\n",
       "    <tr style=\"text-align: right;\">\n",
       "      <th></th>\n",
       "      <th>first</th>\n",
       "      <th>is</th>\n",
       "      <th>last</th>\n",
       "      <th>second</th>\n",
       "      <th>sentence</th>\n",
       "      <th>this</th>\n",
       "    </tr>\n",
       "  </thead>\n",
       "  <tbody>\n",
       "    <tr>\n",
       "      <th>0</th>\n",
       "      <td>1</td>\n",
       "      <td>1</td>\n",
       "      <td>0</td>\n",
       "      <td>0</td>\n",
       "      <td>1</td>\n",
       "      <td>1</td>\n",
       "    </tr>\n",
       "    <tr>\n",
       "      <th>1</th>\n",
       "      <td>0</td>\n",
       "      <td>1</td>\n",
       "      <td>0</td>\n",
       "      <td>1</td>\n",
       "      <td>0</td>\n",
       "      <td>1</td>\n",
       "    </tr>\n",
       "    <tr>\n",
       "      <th>2</th>\n",
       "      <td>0</td>\n",
       "      <td>1</td>\n",
       "      <td>1</td>\n",
       "      <td>0</td>\n",
       "      <td>0</td>\n",
       "      <td>1</td>\n",
       "    </tr>\n",
       "  </tbody>\n",
       "</table>\n",
       "</div>"
      ],
      "text/plain": [
       "   first  is  last  second  sentence  this\n",
       "0      1   1     0       0         1     1\n",
       "1      0   1     0       1         0     1\n",
       "2      0   1     1       0         0     1"
      ]
     },
     "execution_count": 182,
     "metadata": {},
     "output_type": "execute_result"
    }
   ],
   "source": [
    "bow"
   ]
  },
  {
   "cell_type": "code",
   "execution_count": 183,
   "metadata": {},
   "outputs": [
    {
     "data": {
      "text/plain": [
       "(3, 6)"
      ]
     },
     "execution_count": 183,
     "metadata": {},
     "output_type": "execute_result"
    }
   ],
   "source": [
    "bow.shape"
   ]
  },
  {
   "cell_type": "code",
   "execution_count": 184,
   "metadata": {},
   "outputs": [],
   "source": [
    "tf = bow.copy()"
   ]
  },
  {
   "cell_type": "code",
   "execution_count": 185,
   "metadata": {},
   "outputs": [],
   "source": [
    "for index, row in enumerate(tf.iterrows()):\n",
    "    for col in row[1].index:\n",
    "        tf.loc[index, col] = tf.loc[index, col]/sum(row[1].values)"
   ]
  },
  {
   "cell_type": "code",
   "execution_count": 186,
   "metadata": {},
   "outputs": [
    {
     "data": {
      "text/html": [
       "<div>\n",
       "<style scoped>\n",
       "    .dataframe tbody tr th:only-of-type {\n",
       "        vertical-align: middle;\n",
       "    }\n",
       "\n",
       "    .dataframe tbody tr th {\n",
       "        vertical-align: top;\n",
       "    }\n",
       "\n",
       "    .dataframe thead th {\n",
       "        text-align: right;\n",
       "    }\n",
       "</style>\n",
       "<table border=\"1\" class=\"dataframe\">\n",
       "  <thead>\n",
       "    <tr style=\"text-align: right;\">\n",
       "      <th></th>\n",
       "      <th>first</th>\n",
       "      <th>is</th>\n",
       "      <th>last</th>\n",
       "      <th>second</th>\n",
       "      <th>sentence</th>\n",
       "      <th>this</th>\n",
       "    </tr>\n",
       "  </thead>\n",
       "  <tbody>\n",
       "    <tr>\n",
       "      <th>0</th>\n",
       "      <td>0.25</td>\n",
       "      <td>0.250000</td>\n",
       "      <td>0.000000</td>\n",
       "      <td>0.000000</td>\n",
       "      <td>0.25</td>\n",
       "      <td>0.250000</td>\n",
       "    </tr>\n",
       "    <tr>\n",
       "      <th>1</th>\n",
       "      <td>0.00</td>\n",
       "      <td>0.333333</td>\n",
       "      <td>0.000000</td>\n",
       "      <td>0.333333</td>\n",
       "      <td>0.00</td>\n",
       "      <td>0.333333</td>\n",
       "    </tr>\n",
       "    <tr>\n",
       "      <th>2</th>\n",
       "      <td>0.00</td>\n",
       "      <td>0.333333</td>\n",
       "      <td>0.333333</td>\n",
       "      <td>0.000000</td>\n",
       "      <td>0.00</td>\n",
       "      <td>0.333333</td>\n",
       "    </tr>\n",
       "  </tbody>\n",
       "</table>\n",
       "</div>"
      ],
      "text/plain": [
       "   first        is      last    second  sentence      this\n",
       "0   0.25  0.250000  0.000000  0.000000      0.25  0.250000\n",
       "1   0.00  0.333333  0.000000  0.333333      0.00  0.333333\n",
       "2   0.00  0.333333  0.333333  0.000000      0.00  0.333333"
      ]
     },
     "execution_count": 186,
     "metadata": {},
     "output_type": "execute_result"
    }
   ],
   "source": [
    "tf"
   ]
  },
  {
   "cell_type": "markdown",
   "metadata": {},
   "source": [
    "### Inverse document frequency\n",
    "idf = log( (1 + N)/(n + 1)) + 1 used in sklearn when smooth_idf = True\n",
    "\n",
    "where, N is the total number of rows and n is the number of rows in which the word was present."
   ]
  },
  {
   "cell_type": "code",
   "execution_count": 187,
   "metadata": {},
   "outputs": [],
   "source": [
    "import numpy as np"
   ]
  },
  {
   "cell_type": "code",
   "execution_count": 188,
   "metadata": {},
   "outputs": [],
   "source": [
    "x_df = pd.DataFrame(x, columns=['words'])"
   ]
  },
  {
   "cell_type": "code",
   "execution_count": 189,
   "metadata": {},
   "outputs": [
    {
     "data": {
      "text/html": [
       "<div>\n",
       "<style scoped>\n",
       "    .dataframe tbody tr th:only-of-type {\n",
       "        vertical-align: middle;\n",
       "    }\n",
       "\n",
       "    .dataframe tbody tr th {\n",
       "        vertical-align: top;\n",
       "    }\n",
       "\n",
       "    .dataframe thead th {\n",
       "        text-align: right;\n",
       "    }\n",
       "</style>\n",
       "<table border=\"1\" class=\"dataframe\">\n",
       "  <thead>\n",
       "    <tr style=\"text-align: right;\">\n",
       "      <th></th>\n",
       "      <th>words</th>\n",
       "    </tr>\n",
       "  </thead>\n",
       "  <tbody>\n",
       "    <tr>\n",
       "      <th>0</th>\n",
       "      <td>this is first sentence</td>\n",
       "    </tr>\n",
       "    <tr>\n",
       "      <th>1</th>\n",
       "      <td>this is second</td>\n",
       "    </tr>\n",
       "    <tr>\n",
       "      <th>2</th>\n",
       "      <td>this is last</td>\n",
       "    </tr>\n",
       "  </tbody>\n",
       "</table>\n",
       "</div>"
      ],
      "text/plain": [
       "                    words\n",
       "0  this is first sentence\n",
       "1          this is second\n",
       "2            this is last"
      ]
     },
     "execution_count": 189,
     "metadata": {},
     "output_type": "execute_result"
    }
   ],
   "source": [
    "x_df"
   ]
  },
  {
   "cell_type": "code",
   "execution_count": 190,
   "metadata": {},
   "outputs": [
    {
     "data": {
      "text/html": [
       "<div>\n",
       "<style scoped>\n",
       "    .dataframe tbody tr th:only-of-type {\n",
       "        vertical-align: middle;\n",
       "    }\n",
       "\n",
       "    .dataframe tbody tr th {\n",
       "        vertical-align: top;\n",
       "    }\n",
       "\n",
       "    .dataframe thead th {\n",
       "        text-align: right;\n",
       "    }\n",
       "</style>\n",
       "<table border=\"1\" class=\"dataframe\">\n",
       "  <thead>\n",
       "    <tr style=\"text-align: right;\">\n",
       "      <th></th>\n",
       "      <th>first</th>\n",
       "      <th>is</th>\n",
       "      <th>last</th>\n",
       "      <th>second</th>\n",
       "      <th>sentence</th>\n",
       "      <th>this</th>\n",
       "    </tr>\n",
       "  </thead>\n",
       "  <tbody>\n",
       "    <tr>\n",
       "      <th>0</th>\n",
       "      <td>1</td>\n",
       "      <td>1</td>\n",
       "      <td>0</td>\n",
       "      <td>0</td>\n",
       "      <td>1</td>\n",
       "      <td>1</td>\n",
       "    </tr>\n",
       "    <tr>\n",
       "      <th>1</th>\n",
       "      <td>0</td>\n",
       "      <td>1</td>\n",
       "      <td>0</td>\n",
       "      <td>1</td>\n",
       "      <td>0</td>\n",
       "      <td>1</td>\n",
       "    </tr>\n",
       "    <tr>\n",
       "      <th>2</th>\n",
       "      <td>0</td>\n",
       "      <td>1</td>\n",
       "      <td>1</td>\n",
       "      <td>0</td>\n",
       "      <td>0</td>\n",
       "      <td>1</td>\n",
       "    </tr>\n",
       "  </tbody>\n",
       "</table>\n",
       "</div>"
      ],
      "text/plain": [
       "   first  is  last  second  sentence  this\n",
       "0      1   1     0       0         1     1\n",
       "1      0   1     0       1         0     1\n",
       "2      0   1     1       0         0     1"
      ]
     },
     "execution_count": 190,
     "metadata": {},
     "output_type": "execute_result"
    }
   ],
   "source": [
    "bow"
   ]
  },
  {
   "cell_type": "code",
   "execution_count": 191,
   "metadata": {},
   "outputs": [
    {
     "data": {
      "text/plain": [
       "3"
      ]
     },
     "execution_count": 191,
     "metadata": {},
     "output_type": "execute_result"
    }
   ],
   "source": [
    "N = bow.shape[0]\n",
    "N"
   ]
  },
  {
   "cell_type": "code",
   "execution_count": 192,
   "metadata": {},
   "outputs": [
    {
     "data": {
      "text/html": [
       "<div>\n",
       "<style scoped>\n",
       "    .dataframe tbody tr th:only-of-type {\n",
       "        vertical-align: middle;\n",
       "    }\n",
       "\n",
       "    .dataframe tbody tr th {\n",
       "        vertical-align: top;\n",
       "    }\n",
       "\n",
       "    .dataframe thead th {\n",
       "        text-align: right;\n",
       "    }\n",
       "</style>\n",
       "<table border=\"1\" class=\"dataframe\">\n",
       "  <thead>\n",
       "    <tr style=\"text-align: right;\">\n",
       "      <th></th>\n",
       "      <th>first</th>\n",
       "      <th>is</th>\n",
       "      <th>last</th>\n",
       "      <th>second</th>\n",
       "      <th>sentence</th>\n",
       "      <th>this</th>\n",
       "    </tr>\n",
       "  </thead>\n",
       "  <tbody>\n",
       "    <tr>\n",
       "      <th>0</th>\n",
       "      <td>True</td>\n",
       "      <td>True</td>\n",
       "      <td>False</td>\n",
       "      <td>False</td>\n",
       "      <td>True</td>\n",
       "      <td>True</td>\n",
       "    </tr>\n",
       "    <tr>\n",
       "      <th>1</th>\n",
       "      <td>False</td>\n",
       "      <td>True</td>\n",
       "      <td>False</td>\n",
       "      <td>True</td>\n",
       "      <td>False</td>\n",
       "      <td>True</td>\n",
       "    </tr>\n",
       "    <tr>\n",
       "      <th>2</th>\n",
       "      <td>False</td>\n",
       "      <td>True</td>\n",
       "      <td>True</td>\n",
       "      <td>False</td>\n",
       "      <td>False</td>\n",
       "      <td>True</td>\n",
       "    </tr>\n",
       "  </tbody>\n",
       "</table>\n",
       "</div>"
      ],
      "text/plain": [
       "   first    is   last  second  sentence  this\n",
       "0   True  True  False   False      True  True\n",
       "1  False  True  False    True     False  True\n",
       "2  False  True   True   False     False  True"
      ]
     },
     "execution_count": 192,
     "metadata": {},
     "output_type": "execute_result"
    }
   ],
   "source": [
    "bb = bow.astype('bool')\n",
    "bb"
   ]
  },
  {
   "cell_type": "code",
   "execution_count": 193,
   "metadata": {},
   "outputs": [
    {
     "data": {
      "text/plain": [
       "3"
      ]
     },
     "execution_count": 193,
     "metadata": {},
     "output_type": "execute_result"
    }
   ],
   "source": [
    "bb['is'].sum()"
   ]
  },
  {
   "cell_type": "code",
   "execution_count": 194,
   "metadata": {},
   "outputs": [
    {
     "data": {
      "text/plain": [
       "Index(['first', 'is', 'last', 'second', 'sentence', 'this'], dtype='object')"
      ]
     },
     "execution_count": 194,
     "metadata": {},
     "output_type": "execute_result"
    }
   ],
   "source": [
    "cols = bb.columns\n",
    "cols"
   ]
  },
  {
   "cell_type": "code",
   "execution_count": 195,
   "metadata": {},
   "outputs": [],
   "source": [
    "nz =[]\n",
    "for col in cols:\n",
    "    nz.append(bb[col].sum())"
   ]
  },
  {
   "cell_type": "code",
   "execution_count": 196,
   "metadata": {},
   "outputs": [
    {
     "data": {
      "text/plain": [
       "[1, 3, 1, 1, 1, 3]"
      ]
     },
     "execution_count": 196,
     "metadata": {},
     "output_type": "execute_result"
    }
   ],
   "source": [
    "nz"
   ]
  },
  {
   "cell_type": "code",
   "execution_count": 197,
   "metadata": {},
   "outputs": [],
   "source": [
    "idf = []\n",
    "for index, col in enumerate(cols):\n",
    "    idf.append(np.log((N + 1)/(nz[index] + 1 )) + 1)"
   ]
  },
  {
   "cell_type": "code",
   "execution_count": 198,
   "metadata": {},
   "outputs": [
    {
     "data": {
      "text/plain": [
       "[1.6931471805599454,\n",
       " 1.0,\n",
       " 1.6931471805599454,\n",
       " 1.6931471805599454,\n",
       " 1.6931471805599454,\n",
       " 1.0]"
      ]
     },
     "execution_count": 198,
     "metadata": {},
     "output_type": "execute_result"
    }
   ],
   "source": [
    "idf"
   ]
  },
  {
   "cell_type": "code",
   "execution_count": 199,
   "metadata": {},
   "outputs": [
    {
     "data": {
      "text/html": [
       "<div>\n",
       "<style scoped>\n",
       "    .dataframe tbody tr th:only-of-type {\n",
       "        vertical-align: middle;\n",
       "    }\n",
       "\n",
       "    .dataframe tbody tr th {\n",
       "        vertical-align: top;\n",
       "    }\n",
       "\n",
       "    .dataframe thead th {\n",
       "        text-align: right;\n",
       "    }\n",
       "</style>\n",
       "<table border=\"1\" class=\"dataframe\">\n",
       "  <thead>\n",
       "    <tr style=\"text-align: right;\">\n",
       "      <th></th>\n",
       "      <th>first</th>\n",
       "      <th>is</th>\n",
       "      <th>last</th>\n",
       "      <th>second</th>\n",
       "      <th>sentence</th>\n",
       "      <th>this</th>\n",
       "    </tr>\n",
       "  </thead>\n",
       "  <tbody>\n",
       "    <tr>\n",
       "      <th>0</th>\n",
       "      <td>1</td>\n",
       "      <td>1</td>\n",
       "      <td>0</td>\n",
       "      <td>0</td>\n",
       "      <td>1</td>\n",
       "      <td>1</td>\n",
       "    </tr>\n",
       "    <tr>\n",
       "      <th>1</th>\n",
       "      <td>0</td>\n",
       "      <td>1</td>\n",
       "      <td>0</td>\n",
       "      <td>1</td>\n",
       "      <td>0</td>\n",
       "      <td>1</td>\n",
       "    </tr>\n",
       "    <tr>\n",
       "      <th>2</th>\n",
       "      <td>0</td>\n",
       "      <td>1</td>\n",
       "      <td>1</td>\n",
       "      <td>0</td>\n",
       "      <td>0</td>\n",
       "      <td>1</td>\n",
       "    </tr>\n",
       "  </tbody>\n",
       "</table>\n",
       "</div>"
      ],
      "text/plain": [
       "   first  is  last  second  sentence  this\n",
       "0      1   1     0       0         1     1\n",
       "1      0   1     0       1         0     1\n",
       "2      0   1     1       0         0     1"
      ]
     },
     "execution_count": 199,
     "metadata": {},
     "output_type": "execute_result"
    }
   ],
   "source": [
    "bow"
   ]
  },
  {
   "cell_type": "markdown",
   "metadata": {},
   "source": [
    "### TFIDF"
   ]
  },
  {
   "cell_type": "code",
   "execution_count": 200,
   "metadata": {},
   "outputs": [],
   "source": [
    "from sklearn.feature_extraction.text import TfidfVectorizer"
   ]
  },
  {
   "cell_type": "code",
   "execution_count": 201,
   "metadata": {},
   "outputs": [],
   "source": [
    "tfidf = TfidfVectorizer()\n",
    "x_tfidf = tfidf.fit_transform(x_df['words'])"
   ]
  },
  {
   "cell_type": "code",
   "execution_count": 202,
   "metadata": {},
   "outputs": [
    {
     "data": {
      "text/plain": [
       "array([[0.6088451 , 0.35959372, 0.        , 0.        , 0.6088451 ,\n",
       "        0.35959372],\n",
       "       [0.        , 0.45329466, 0.        , 0.76749457, 0.        ,\n",
       "        0.45329466],\n",
       "       [0.        , 0.45329466, 0.76749457, 0.        , 0.        ,\n",
       "        0.45329466]])"
      ]
     },
     "execution_count": 202,
     "metadata": {},
     "output_type": "execute_result"
    }
   ],
   "source": [
    "x_tfidf.toarray()"
   ]
  },
  {
   "cell_type": "code",
   "execution_count": 203,
   "metadata": {},
   "outputs": [
    {
     "data": {
      "text/plain": [
       "array([1.69314718, 1.        , 1.69314718, 1.69314718, 1.69314718,\n",
       "       1.        ])"
      ]
     },
     "execution_count": 203,
     "metadata": {},
     "output_type": "execute_result"
    }
   ],
   "source": [
    "tfidf.idf_"
   ]
  },
  {
   "cell_type": "code",
   "execution_count": 204,
   "metadata": {},
   "outputs": [
    {
     "data": {
      "text/plain": [
       "[1.6931471805599454,\n",
       " 1.0,\n",
       " 1.6931471805599454,\n",
       " 1.6931471805599454,\n",
       " 1.6931471805599454,\n",
       " 1.0]"
      ]
     },
     "execution_count": 204,
     "metadata": {},
     "output_type": "execute_result"
    }
   ],
   "source": [
    "idf"
   ]
  },
  {
   "cell_type": "markdown",
   "metadata": {},
   "source": [
    "### Word embeddings"
   ]
  },
  {
   "cell_type": "markdown",
   "metadata": {},
   "source": [
    "#### Spacy `Word2Vec`"
   ]
  },
  {
   "cell_type": "code",
   "execution_count": 205,
   "metadata": {},
   "outputs": [],
   "source": [
    "nlp = spacy.load('en_core_web_lg')"
   ]
  },
  {
   "cell_type": "code",
   "execution_count": 206,
   "metadata": {},
   "outputs": [],
   "source": [
    "doc = nlp('thank you! dog cat lion afdsdfa')"
   ]
  },
  {
   "cell_type": "code",
   "execution_count": 207,
   "metadata": {},
   "outputs": [
    {
     "name": "stdout",
     "output_type": "stream",
     "text": [
      "thank True\n",
      "you True\n",
      "! True\n",
      "dog True\n",
      "cat True\n",
      "lion True\n",
      "afdsdfa False\n"
     ]
    }
   ],
   "source": [
    "for token in doc:\n",
    "    print(token.text, token.has_vector)"
   ]
  },
  {
   "cell_type": "code",
   "execution_count": 208,
   "metadata": {},
   "outputs": [
    {
     "data": {
      "text/plain": [
       "(300,)"
      ]
     },
     "execution_count": 208,
     "metadata": {},
     "output_type": "execute_result"
    }
   ],
   "source": [
    "token.vector.shape"
   ]
  },
  {
   "cell_type": "code",
   "execution_count": 209,
   "metadata": {},
   "outputs": [
    {
     "data": {
      "text/plain": [
       "(300,)"
      ]
     },
     "execution_count": 209,
     "metadata": {},
     "output_type": "execute_result"
    }
   ],
   "source": [
    "nlp('cat').vector.shape"
   ]
  },
  {
   "cell_type": "code",
   "execution_count": 210,
   "metadata": {},
   "outputs": [
    {
     "name": "stdout",
     "output_type": "stream",
     "text": [
      "thank thank 1.0\n",
      "thank you 0.5647585\n",
      "thank ! 0.52147406\n",
      "thank dog 0.2504265\n",
      "thank cat 0.20648485\n",
      "thank lion 0.13629764\n",
      "thank afdsdfa 0.0\n",
      "\n",
      "you thank 0.5647585\n",
      "you you 1.0\n",
      "you ! 0.4390223\n",
      "you dog 0.36494097\n",
      "you cat 0.3080798\n",
      "you lion 0.20392051\n",
      "you afdsdfa 0.0\n",
      "\n",
      "! thank 0.52147406\n",
      "! you 0.4390223\n",
      "! ! 1.0\n",
      "! dog 0.29852203\n",
      "! cat 0.29702348\n",
      "! lion 0.19601382\n",
      "! afdsdfa 0.0\n",
      "\n",
      "dog thank 0.2504265\n",
      "dog you 0.36494097\n",
      "dog ! 0.29852203\n",
      "dog dog 1.0\n",
      "dog cat 0.80168545\n",
      "dog lion 0.47424486\n",
      "dog afdsdfa 0.0\n",
      "\n",
      "cat thank 0.20648485\n",
      "cat you 0.3080798\n",
      "cat ! 0.29702348\n",
      "cat dog 0.80168545\n",
      "cat cat 1.0\n",
      "cat lion 0.52654374\n",
      "cat afdsdfa 0.0\n",
      "\n",
      "lion thank 0.13629764\n",
      "lion you 0.20392051\n",
      "lion ! 0.19601382\n",
      "lion dog 0.47424486\n",
      "lion cat 0.52654374\n",
      "lion lion 1.0\n",
      "lion afdsdfa 0.0\n",
      "\n",
      "afdsdfa thank 0.0\n",
      "afdsdfa you 0.0\n",
      "afdsdfa ! 0.0\n",
      "afdsdfa dog 0.0\n",
      "afdsdfa cat 0.0\n",
      "afdsdfa lion 0.0\n",
      "afdsdfa afdsdfa 1.0\n",
      "\n"
     ]
    },
    {
     "name": "stderr",
     "output_type": "stream",
     "text": [
      "C:\\Anaconda3\\lib\\site-packages\\ipykernel_launcher.py:3: UserWarning: [W008] Evaluating Token.similarity based on empty vectors.\n",
      "  This is separate from the ipykernel package so we can avoid doing imports until\n"
     ]
    }
   ],
   "source": [
    "for token1 in doc:\n",
    "    for token2 in doc:\n",
    "        print(token1.text, token2.text, token1.similarity(token2))\n",
    "    print()"
   ]
  },
  {
   "cell_type": "markdown",
   "metadata": {},
   "source": [
    "### Machine learning Models for text classification"
   ]
  },
  {
   "cell_type": "markdown",
   "metadata": {},
   "source": [
    "BOW"
   ]
  },
  {
   "cell_type": "code",
   "execution_count": 211,
   "metadata": {},
   "outputs": [
    {
     "data": {
      "text/plain": [
       "(1600000, 13)"
      ]
     },
     "execution_count": 211,
     "metadata": {},
     "output_type": "execute_result"
    }
   ],
   "source": [
    "df.shape"
   ]
  },
  {
   "cell_type": "code",
   "execution_count": 212,
   "metadata": {},
   "outputs": [],
   "source": [
    "df0 = df[df['sentiment']==0].sample(2000)\n",
    "df4 = df[df['sentiment']==4].sample(2000)"
   ]
  },
  {
   "cell_type": "code",
   "execution_count": 213,
   "metadata": {},
   "outputs": [],
   "source": [
    "dfr = df0.append(df4)"
   ]
  },
  {
   "cell_type": "code",
   "execution_count": 214,
   "metadata": {},
   "outputs": [
    {
     "data": {
      "text/plain": [
       "(4000, 13)"
      ]
     },
     "execution_count": 214,
     "metadata": {},
     "output_type": "execute_result"
    }
   ],
   "source": [
    "dfr.shape"
   ]
  },
  {
   "cell_type": "code",
   "execution_count": 215,
   "metadata": {},
   "outputs": [],
   "source": [
    "dfr_feat = dfr.drop(labels=['tweets', 'sentiment', 'emails'], axis = 1).reset_index(drop=True)"
   ]
  },
  {
   "cell_type": "code",
   "execution_count": 216,
   "metadata": {},
   "outputs": [
    {
     "data": {
      "text/html": [
       "<div>\n",
       "<style scoped>\n",
       "    .dataframe tbody tr th:only-of-type {\n",
       "        vertical-align: middle;\n",
       "    }\n",
       "\n",
       "    .dataframe tbody tr th {\n",
       "        vertical-align: top;\n",
       "    }\n",
       "\n",
       "    .dataframe thead th {\n",
       "        text-align: right;\n",
       "    }\n",
       "</style>\n",
       "<table border=\"1\" class=\"dataframe\">\n",
       "  <thead>\n",
       "    <tr style=\"text-align: right;\">\n",
       "      <th></th>\n",
       "      <th>word_counts</th>\n",
       "      <th>char_counts</th>\n",
       "      <th>avg_word_len</th>\n",
       "      <th>stop_words_len</th>\n",
       "      <th>hashtags_count</th>\n",
       "      <th>mentions_count</th>\n",
       "      <th>numeric_count</th>\n",
       "      <th>upper_counts</th>\n",
       "      <th>emails_count</th>\n",
       "      <th>urls_flag</th>\n",
       "    </tr>\n",
       "  </thead>\n",
       "  <tbody>\n",
       "    <tr>\n",
       "      <th>0</th>\n",
       "      <td>18</td>\n",
       "      <td>102</td>\n",
       "      <td>4.666667</td>\n",
       "      <td>7</td>\n",
       "      <td>0</td>\n",
       "      <td>0</td>\n",
       "      <td>0</td>\n",
       "      <td>2</td>\n",
       "      <td>0</td>\n",
       "      <td>0</td>\n",
       "    </tr>\n",
       "    <tr>\n",
       "      <th>1</th>\n",
       "      <td>13</td>\n",
       "      <td>76</td>\n",
       "      <td>4.846154</td>\n",
       "      <td>3</td>\n",
       "      <td>0</td>\n",
       "      <td>1</td>\n",
       "      <td>0</td>\n",
       "      <td>0</td>\n",
       "      <td>0</td>\n",
       "      <td>0</td>\n",
       "    </tr>\n",
       "    <tr>\n",
       "      <th>2</th>\n",
       "      <td>19</td>\n",
       "      <td>107</td>\n",
       "      <td>4.631579</td>\n",
       "      <td>8</td>\n",
       "      <td>0</td>\n",
       "      <td>0</td>\n",
       "      <td>0</td>\n",
       "      <td>0</td>\n",
       "      <td>0</td>\n",
       "      <td>0</td>\n",
       "    </tr>\n",
       "    <tr>\n",
       "      <th>3</th>\n",
       "      <td>26</td>\n",
       "      <td>125</td>\n",
       "      <td>3.807692</td>\n",
       "      <td>16</td>\n",
       "      <td>0</td>\n",
       "      <td>0</td>\n",
       "      <td>0</td>\n",
       "      <td>0</td>\n",
       "      <td>0</td>\n",
       "      <td>0</td>\n",
       "    </tr>\n",
       "    <tr>\n",
       "      <th>4</th>\n",
       "      <td>13</td>\n",
       "      <td>71</td>\n",
       "      <td>4.461538</td>\n",
       "      <td>3</td>\n",
       "      <td>0</td>\n",
       "      <td>1</td>\n",
       "      <td>0</td>\n",
       "      <td>0</td>\n",
       "      <td>0</td>\n",
       "      <td>0</td>\n",
       "    </tr>\n",
       "    <tr>\n",
       "      <th>...</th>\n",
       "      <td>...</td>\n",
       "      <td>...</td>\n",
       "      <td>...</td>\n",
       "      <td>...</td>\n",
       "      <td>...</td>\n",
       "      <td>...</td>\n",
       "      <td>...</td>\n",
       "      <td>...</td>\n",
       "      <td>...</td>\n",
       "      <td>...</td>\n",
       "    </tr>\n",
       "    <tr>\n",
       "      <th>3995</th>\n",
       "      <td>11</td>\n",
       "      <td>51</td>\n",
       "      <td>3.636364</td>\n",
       "      <td>0</td>\n",
       "      <td>0</td>\n",
       "      <td>1</td>\n",
       "      <td>0</td>\n",
       "      <td>10</td>\n",
       "      <td>0</td>\n",
       "      <td>0</td>\n",
       "    </tr>\n",
       "    <tr>\n",
       "      <th>3996</th>\n",
       "      <td>6</td>\n",
       "      <td>40</td>\n",
       "      <td>5.500000</td>\n",
       "      <td>0</td>\n",
       "      <td>0</td>\n",
       "      <td>1</td>\n",
       "      <td>0</td>\n",
       "      <td>0</td>\n",
       "      <td>0</td>\n",
       "      <td>0</td>\n",
       "    </tr>\n",
       "    <tr>\n",
       "      <th>3997</th>\n",
       "      <td>14</td>\n",
       "      <td>85</td>\n",
       "      <td>5.071429</td>\n",
       "      <td>6</td>\n",
       "      <td>0</td>\n",
       "      <td>1</td>\n",
       "      <td>0</td>\n",
       "      <td>0</td>\n",
       "      <td>0</td>\n",
       "      <td>0</td>\n",
       "    </tr>\n",
       "    <tr>\n",
       "      <th>3998</th>\n",
       "      <td>6</td>\n",
       "      <td>34</td>\n",
       "      <td>4.666667</td>\n",
       "      <td>2</td>\n",
       "      <td>0</td>\n",
       "      <td>1</td>\n",
       "      <td>0</td>\n",
       "      <td>0</td>\n",
       "      <td>0</td>\n",
       "      <td>0</td>\n",
       "    </tr>\n",
       "    <tr>\n",
       "      <th>3999</th>\n",
       "      <td>16</td>\n",
       "      <td>83</td>\n",
       "      <td>4.187500</td>\n",
       "      <td>8</td>\n",
       "      <td>0</td>\n",
       "      <td>0</td>\n",
       "      <td>0</td>\n",
       "      <td>1</td>\n",
       "      <td>0</td>\n",
       "      <td>0</td>\n",
       "    </tr>\n",
       "  </tbody>\n",
       "</table>\n",
       "<p>4000 rows × 10 columns</p>\n",
       "</div>"
      ],
      "text/plain": [
       "      word_counts  char_counts  avg_word_len  stop_words_len  hashtags_count  \\\n",
       "0              18          102      4.666667               7               0   \n",
       "1              13           76      4.846154               3               0   \n",
       "2              19          107      4.631579               8               0   \n",
       "3              26          125      3.807692              16               0   \n",
       "4              13           71      4.461538               3               0   \n",
       "...           ...          ...           ...             ...             ...   \n",
       "3995           11           51      3.636364               0               0   \n",
       "3996            6           40      5.500000               0               0   \n",
       "3997           14           85      5.071429               6               0   \n",
       "3998            6           34      4.666667               2               0   \n",
       "3999           16           83      4.187500               8               0   \n",
       "\n",
       "      mentions_count  numeric_count  upper_counts  emails_count  urls_flag  \n",
       "0                  0              0             2             0          0  \n",
       "1                  1              0             0             0          0  \n",
       "2                  0              0             0             0          0  \n",
       "3                  0              0             0             0          0  \n",
       "4                  1              0             0             0          0  \n",
       "...              ...            ...           ...           ...        ...  \n",
       "3995               1              0            10             0          0  \n",
       "3996               1              0             0             0          0  \n",
       "3997               1              0             0             0          0  \n",
       "3998               1              0             0             0          0  \n",
       "3999               0              0             1             0          0  \n",
       "\n",
       "[4000 rows x 10 columns]"
      ]
     },
     "execution_count": 216,
     "metadata": {},
     "output_type": "execute_result"
    }
   ],
   "source": [
    "dfr_feat"
   ]
  },
  {
   "cell_type": "code",
   "execution_count": 217,
   "metadata": {},
   "outputs": [],
   "source": [
    "y = dfr['sentiment']"
   ]
  },
  {
   "cell_type": "code",
   "execution_count": 218,
   "metadata": {},
   "outputs": [],
   "source": [
    "from sklearn.feature_extraction.text import CountVectorizer"
   ]
  },
  {
   "cell_type": "code",
   "execution_count": 219,
   "metadata": {},
   "outputs": [],
   "source": [
    "cv = CountVectorizer()\n",
    "text_counts = cv.fit_transform(dfr['tweets'])"
   ]
  },
  {
   "cell_type": "code",
   "execution_count": 220,
   "metadata": {},
   "outputs": [
    {
     "data": {
      "text/plain": [
       "(4000, 9883)"
      ]
     },
     "execution_count": 220,
     "metadata": {},
     "output_type": "execute_result"
    }
   ],
   "source": [
    "text_counts.toarray().shape #unique words"
   ]
  },
  {
   "cell_type": "code",
   "execution_count": 221,
   "metadata": {},
   "outputs": [],
   "source": [
    "dfr_bow = pd.DataFrame(text_counts.toarray(), columns=cv.get_feature_names())"
   ]
  },
  {
   "cell_type": "code",
   "execution_count": 222,
   "metadata": {},
   "outputs": [
    {
     "data": {
      "text/html": [
       "<div>\n",
       "<style scoped>\n",
       "    .dataframe tbody tr th:only-of-type {\n",
       "        vertical-align: middle;\n",
       "    }\n",
       "\n",
       "    .dataframe tbody tr th {\n",
       "        vertical-align: top;\n",
       "    }\n",
       "\n",
       "    .dataframe thead th {\n",
       "        text-align: right;\n",
       "    }\n",
       "</style>\n",
       "<table border=\"1\" class=\"dataframe\">\n",
       "  <thead>\n",
       "    <tr style=\"text-align: right;\">\n",
       "      <th></th>\n",
       "      <th>07</th>\n",
       "      <th>0851pm</th>\n",
       "      <th>09</th>\n",
       "      <th>10</th>\n",
       "      <th>100</th>\n",
       "      <th>1000</th>\n",
       "      <th>100000000000000000000000000000000000000000</th>\n",
       "      <th>10000000x</th>\n",
       "      <th>100laps</th>\n",
       "      <th>100mi</th>\n",
       "      <th>...</th>\n",
       "      <th>zoovroo</th>\n",
       "      <th>zoowar</th>\n",
       "      <th>zquot</th>\n",
       "      <th>zubby8</th>\n",
       "      <th>zumiez</th>\n",
       "      <th>zvegas</th>\n",
       "      <th>zz</th>\n",
       "      <th>zzombie</th>\n",
       "      <th>zzzz</th>\n",
       "      <th>zzzzzz</th>\n",
       "    </tr>\n",
       "  </thead>\n",
       "  <tbody>\n",
       "    <tr>\n",
       "      <th>0</th>\n",
       "      <td>0</td>\n",
       "      <td>0</td>\n",
       "      <td>0</td>\n",
       "      <td>0</td>\n",
       "      <td>0</td>\n",
       "      <td>0</td>\n",
       "      <td>0</td>\n",
       "      <td>0</td>\n",
       "      <td>0</td>\n",
       "      <td>0</td>\n",
       "      <td>...</td>\n",
       "      <td>0</td>\n",
       "      <td>0</td>\n",
       "      <td>0</td>\n",
       "      <td>0</td>\n",
       "      <td>0</td>\n",
       "      <td>0</td>\n",
       "      <td>0</td>\n",
       "      <td>0</td>\n",
       "      <td>0</td>\n",
       "      <td>0</td>\n",
       "    </tr>\n",
       "    <tr>\n",
       "      <th>1</th>\n",
       "      <td>0</td>\n",
       "      <td>0</td>\n",
       "      <td>0</td>\n",
       "      <td>0</td>\n",
       "      <td>0</td>\n",
       "      <td>0</td>\n",
       "      <td>0</td>\n",
       "      <td>0</td>\n",
       "      <td>0</td>\n",
       "      <td>0</td>\n",
       "      <td>...</td>\n",
       "      <td>0</td>\n",
       "      <td>0</td>\n",
       "      <td>0</td>\n",
       "      <td>0</td>\n",
       "      <td>0</td>\n",
       "      <td>0</td>\n",
       "      <td>0</td>\n",
       "      <td>0</td>\n",
       "      <td>0</td>\n",
       "      <td>0</td>\n",
       "    </tr>\n",
       "    <tr>\n",
       "      <th>2</th>\n",
       "      <td>0</td>\n",
       "      <td>0</td>\n",
       "      <td>0</td>\n",
       "      <td>0</td>\n",
       "      <td>0</td>\n",
       "      <td>0</td>\n",
       "      <td>0</td>\n",
       "      <td>0</td>\n",
       "      <td>0</td>\n",
       "      <td>0</td>\n",
       "      <td>...</td>\n",
       "      <td>0</td>\n",
       "      <td>0</td>\n",
       "      <td>0</td>\n",
       "      <td>0</td>\n",
       "      <td>0</td>\n",
       "      <td>0</td>\n",
       "      <td>0</td>\n",
       "      <td>0</td>\n",
       "      <td>0</td>\n",
       "      <td>0</td>\n",
       "    </tr>\n",
       "    <tr>\n",
       "      <th>3</th>\n",
       "      <td>0</td>\n",
       "      <td>0</td>\n",
       "      <td>0</td>\n",
       "      <td>0</td>\n",
       "      <td>0</td>\n",
       "      <td>0</td>\n",
       "      <td>0</td>\n",
       "      <td>0</td>\n",
       "      <td>0</td>\n",
       "      <td>0</td>\n",
       "      <td>...</td>\n",
       "      <td>0</td>\n",
       "      <td>0</td>\n",
       "      <td>0</td>\n",
       "      <td>0</td>\n",
       "      <td>0</td>\n",
       "      <td>0</td>\n",
       "      <td>0</td>\n",
       "      <td>0</td>\n",
       "      <td>0</td>\n",
       "      <td>0</td>\n",
       "    </tr>\n",
       "    <tr>\n",
       "      <th>4</th>\n",
       "      <td>0</td>\n",
       "      <td>0</td>\n",
       "      <td>0</td>\n",
       "      <td>0</td>\n",
       "      <td>0</td>\n",
       "      <td>0</td>\n",
       "      <td>0</td>\n",
       "      <td>0</td>\n",
       "      <td>0</td>\n",
       "      <td>0</td>\n",
       "      <td>...</td>\n",
       "      <td>0</td>\n",
       "      <td>0</td>\n",
       "      <td>0</td>\n",
       "      <td>0</td>\n",
       "      <td>0</td>\n",
       "      <td>0</td>\n",
       "      <td>0</td>\n",
       "      <td>0</td>\n",
       "      <td>0</td>\n",
       "      <td>0</td>\n",
       "    </tr>\n",
       "  </tbody>\n",
       "</table>\n",
       "<p>5 rows × 9883 columns</p>\n",
       "</div>"
      ],
      "text/plain": [
       "   07  0851pm  09  10  100  1000  100000000000000000000000000000000000000000  \\\n",
       "0   0       0   0   0    0     0                                           0   \n",
       "1   0       0   0   0    0     0                                           0   \n",
       "2   0       0   0   0    0     0                                           0   \n",
       "3   0       0   0   0    0     0                                           0   \n",
       "4   0       0   0   0    0     0                                           0   \n",
       "\n",
       "   10000000x  100laps  100mi  ...  zoovroo  zoowar  zquot  zubby8  zumiez  \\\n",
       "0          0        0      0  ...        0       0      0       0       0   \n",
       "1          0        0      0  ...        0       0      0       0       0   \n",
       "2          0        0      0  ...        0       0      0       0       0   \n",
       "3          0        0      0  ...        0       0      0       0       0   \n",
       "4          0        0      0  ...        0       0      0       0       0   \n",
       "\n",
       "   zvegas  zz  zzombie  zzzz  zzzzzz  \n",
       "0       0   0        0     0       0  \n",
       "1       0   0        0     0       0  \n",
       "2       0   0        0     0       0  \n",
       "3       0   0        0     0       0  \n",
       "4       0   0        0     0       0  \n",
       "\n",
       "[5 rows x 9883 columns]"
      ]
     },
     "execution_count": 222,
     "metadata": {},
     "output_type": "execute_result"
    }
   ],
   "source": [
    "dfr_bow.head()"
   ]
  },
  {
   "cell_type": "markdown",
   "metadata": {},
   "source": [
    "### ML Algorithms"
   ]
  },
  {
   "cell_type": "code",
   "execution_count": 223,
   "metadata": {},
   "outputs": [],
   "source": [
    "from sklearn.linear_model import SGDClassifier\n",
    "from sklearn.linear_model import LogisticRegression\n",
    "from sklearn.linear_model import LogisticRegressionCV\n",
    "from sklearn.svm import LinearSVC\n",
    "from sklearn.ensemble import RandomForestClassifier\n",
    "\n",
    "from sklearn.model_selection import train_test_split\n",
    "from sklearn.metrics import confusion_matrix, accuracy_score\n",
    "from sklearn.preprocessing import MinMaxScaler\n"
   ]
  },
  {
   "cell_type": "code",
   "execution_count": 224,
   "metadata": {},
   "outputs": [],
   "source": [
    "sgd = SGDClassifier(n_jobs=-1, random_state=42, max_iter=200)\n",
    "lgr = LogisticRegression(random_state=42, max_iter=200)\n",
    "lgrcv = LogisticRegressionCV(cv = 2, random_state=42, max_iter=1000)\n",
    "svm = LinearSVC(random_state=42, max_iter=200)\n",
    "rfc = RandomForestClassifier(random_state=42, n_jobs=-1, n_estimators=200)"
   ]
  },
  {
   "cell_type": "code",
   "execution_count": 225,
   "metadata": {},
   "outputs": [],
   "source": [
    "clf = {'SGD': sgd, 'LGR': lgr, 'LGR-CV':lgrcv, 'SVM': svm, 'RFC':rfc}"
   ]
  },
  {
   "cell_type": "code",
   "execution_count": 226,
   "metadata": {},
   "outputs": [
    {
     "data": {
      "text/plain": [
       "dict_keys(['SGD', 'LGR', 'LGR-CV', 'SVM', 'RFC'])"
      ]
     },
     "execution_count": 226,
     "metadata": {},
     "output_type": "execute_result"
    }
   ],
   "source": [
    "clf.keys()"
   ]
  },
  {
   "cell_type": "code",
   "execution_count": 227,
   "metadata": {},
   "outputs": [],
   "source": [
    "def classify(X, y):\n",
    "    scaler = MinMaxScaler(feature_range=(0,1))\n",
    "    X = scaler.fit_transform(X)\n",
    "    \n",
    "    X_train, X_test, y_train, y_test = train_test_split(X, y, test_size = 0.2, random_state = 42, stratify = y)\n",
    "    \n",
    "    for key in clf.keys():\n",
    "        clf[key].fit(X_train, y_train)\n",
    "        y_pred = clf[key].predict(X_test)\n",
    "        ac = accuracy_score(y_test, y_pred)\n",
    "        print(key, \"----->\", ac)"
   ]
  },
  {
   "cell_type": "code",
   "execution_count": 228,
   "metadata": {},
   "outputs": [
    {
     "name": "stdout",
     "output_type": "stream",
     "text": [
      "SGD -----> 0.63875\n",
      "LGR -----> 0.6625\n",
      "LGR-CV -----> 0.6575\n",
      "SVM -----> 0.655\n",
      "RFC -----> 0.6625\n",
      "Wall time: 1min 11s\n"
     ]
    }
   ],
   "source": [
    "%%time\n",
    "classify(dfr_bow, y)"
   ]
  },
  {
   "cell_type": "markdown",
   "metadata": {},
   "source": [
    "### Manual feature"
   ]
  },
  {
   "cell_type": "code",
   "execution_count": 229,
   "metadata": {},
   "outputs": [
    {
     "data": {
      "text/html": [
       "<div>\n",
       "<style scoped>\n",
       "    .dataframe tbody tr th:only-of-type {\n",
       "        vertical-align: middle;\n",
       "    }\n",
       "\n",
       "    .dataframe tbody tr th {\n",
       "        vertical-align: top;\n",
       "    }\n",
       "\n",
       "    .dataframe thead th {\n",
       "        text-align: right;\n",
       "    }\n",
       "</style>\n",
       "<table border=\"1\" class=\"dataframe\">\n",
       "  <thead>\n",
       "    <tr style=\"text-align: right;\">\n",
       "      <th></th>\n",
       "      <th>word_counts</th>\n",
       "      <th>char_counts</th>\n",
       "      <th>avg_word_len</th>\n",
       "      <th>stop_words_len</th>\n",
       "      <th>hashtags_count</th>\n",
       "      <th>mentions_count</th>\n",
       "      <th>numeric_count</th>\n",
       "      <th>upper_counts</th>\n",
       "      <th>emails_count</th>\n",
       "      <th>urls_flag</th>\n",
       "    </tr>\n",
       "  </thead>\n",
       "  <tbody>\n",
       "    <tr>\n",
       "      <th>0</th>\n",
       "      <td>18</td>\n",
       "      <td>102</td>\n",
       "      <td>4.666667</td>\n",
       "      <td>7</td>\n",
       "      <td>0</td>\n",
       "      <td>0</td>\n",
       "      <td>0</td>\n",
       "      <td>2</td>\n",
       "      <td>0</td>\n",
       "      <td>0</td>\n",
       "    </tr>\n",
       "    <tr>\n",
       "      <th>1</th>\n",
       "      <td>13</td>\n",
       "      <td>76</td>\n",
       "      <td>4.846154</td>\n",
       "      <td>3</td>\n",
       "      <td>0</td>\n",
       "      <td>1</td>\n",
       "      <td>0</td>\n",
       "      <td>0</td>\n",
       "      <td>0</td>\n",
       "      <td>0</td>\n",
       "    </tr>\n",
       "  </tbody>\n",
       "</table>\n",
       "</div>"
      ],
      "text/plain": [
       "   word_counts  char_counts  avg_word_len  stop_words_len  hashtags_count  \\\n",
       "0           18          102      4.666667               7               0   \n",
       "1           13           76      4.846154               3               0   \n",
       "\n",
       "   mentions_count  numeric_count  upper_counts  emails_count  urls_flag  \n",
       "0               0              0             2             0          0  \n",
       "1               1              0             0             0          0  "
      ]
     },
     "execution_count": 229,
     "metadata": {},
     "output_type": "execute_result"
    }
   ],
   "source": [
    "dfr_feat.head(2)"
   ]
  },
  {
   "cell_type": "code",
   "execution_count": 230,
   "metadata": {},
   "outputs": [
    {
     "name": "stdout",
     "output_type": "stream",
     "text": [
      "SGD -----> 0.60625\n",
      "LGR -----> 0.59875\n",
      "LGR-CV -----> 0.5975\n",
      "SVM -----> 0.59625\n",
      "RFC -----> 0.52875\n",
      "Wall time: 1.83 s\n"
     ]
    }
   ],
   "source": [
    "%%time\n",
    "classify(dfr_feat, y)"
   ]
  },
  {
   "cell_type": "markdown",
   "metadata": {},
   "source": [
    "### Manual + BoW"
   ]
  },
  {
   "cell_type": "code",
   "execution_count": 231,
   "metadata": {},
   "outputs": [
    {
     "data": {
      "text/html": [
       "<div>\n",
       "<style scoped>\n",
       "    .dataframe tbody tr th:only-of-type {\n",
       "        vertical-align: middle;\n",
       "    }\n",
       "\n",
       "    .dataframe tbody tr th {\n",
       "        vertical-align: top;\n",
       "    }\n",
       "\n",
       "    .dataframe thead th {\n",
       "        text-align: right;\n",
       "    }\n",
       "</style>\n",
       "<table border=\"1\" class=\"dataframe\">\n",
       "  <thead>\n",
       "    <tr style=\"text-align: right;\">\n",
       "      <th></th>\n",
       "      <th>word_counts</th>\n",
       "      <th>char_counts</th>\n",
       "      <th>avg_word_len</th>\n",
       "      <th>stop_words_len</th>\n",
       "      <th>hashtags_count</th>\n",
       "      <th>mentions_count</th>\n",
       "      <th>numeric_count</th>\n",
       "      <th>upper_counts</th>\n",
       "      <th>emails_count</th>\n",
       "      <th>urls_flag</th>\n",
       "      <th>...</th>\n",
       "      <th>zoovroo</th>\n",
       "      <th>zoowar</th>\n",
       "      <th>zquot</th>\n",
       "      <th>zubby8</th>\n",
       "      <th>zumiez</th>\n",
       "      <th>zvegas</th>\n",
       "      <th>zz</th>\n",
       "      <th>zzombie</th>\n",
       "      <th>zzzz</th>\n",
       "      <th>zzzzzz</th>\n",
       "    </tr>\n",
       "  </thead>\n",
       "  <tbody>\n",
       "    <tr>\n",
       "      <th>0</th>\n",
       "      <td>18</td>\n",
       "      <td>102</td>\n",
       "      <td>4.666667</td>\n",
       "      <td>7</td>\n",
       "      <td>0</td>\n",
       "      <td>0</td>\n",
       "      <td>0</td>\n",
       "      <td>2</td>\n",
       "      <td>0</td>\n",
       "      <td>0</td>\n",
       "      <td>...</td>\n",
       "      <td>0</td>\n",
       "      <td>0</td>\n",
       "      <td>0</td>\n",
       "      <td>0</td>\n",
       "      <td>0</td>\n",
       "      <td>0</td>\n",
       "      <td>0</td>\n",
       "      <td>0</td>\n",
       "      <td>0</td>\n",
       "      <td>0</td>\n",
       "    </tr>\n",
       "    <tr>\n",
       "      <th>1</th>\n",
       "      <td>13</td>\n",
       "      <td>76</td>\n",
       "      <td>4.846154</td>\n",
       "      <td>3</td>\n",
       "      <td>0</td>\n",
       "      <td>1</td>\n",
       "      <td>0</td>\n",
       "      <td>0</td>\n",
       "      <td>0</td>\n",
       "      <td>0</td>\n",
       "      <td>...</td>\n",
       "      <td>0</td>\n",
       "      <td>0</td>\n",
       "      <td>0</td>\n",
       "      <td>0</td>\n",
       "      <td>0</td>\n",
       "      <td>0</td>\n",
       "      <td>0</td>\n",
       "      <td>0</td>\n",
       "      <td>0</td>\n",
       "      <td>0</td>\n",
       "    </tr>\n",
       "    <tr>\n",
       "      <th>2</th>\n",
       "      <td>19</td>\n",
       "      <td>107</td>\n",
       "      <td>4.631579</td>\n",
       "      <td>8</td>\n",
       "      <td>0</td>\n",
       "      <td>0</td>\n",
       "      <td>0</td>\n",
       "      <td>0</td>\n",
       "      <td>0</td>\n",
       "      <td>0</td>\n",
       "      <td>...</td>\n",
       "      <td>0</td>\n",
       "      <td>0</td>\n",
       "      <td>0</td>\n",
       "      <td>0</td>\n",
       "      <td>0</td>\n",
       "      <td>0</td>\n",
       "      <td>0</td>\n",
       "      <td>0</td>\n",
       "      <td>0</td>\n",
       "      <td>0</td>\n",
       "    </tr>\n",
       "    <tr>\n",
       "      <th>3</th>\n",
       "      <td>26</td>\n",
       "      <td>125</td>\n",
       "      <td>3.807692</td>\n",
       "      <td>16</td>\n",
       "      <td>0</td>\n",
       "      <td>0</td>\n",
       "      <td>0</td>\n",
       "      <td>0</td>\n",
       "      <td>0</td>\n",
       "      <td>0</td>\n",
       "      <td>...</td>\n",
       "      <td>0</td>\n",
       "      <td>0</td>\n",
       "      <td>0</td>\n",
       "      <td>0</td>\n",
       "      <td>0</td>\n",
       "      <td>0</td>\n",
       "      <td>0</td>\n",
       "      <td>0</td>\n",
       "      <td>0</td>\n",
       "      <td>0</td>\n",
       "    </tr>\n",
       "    <tr>\n",
       "      <th>4</th>\n",
       "      <td>13</td>\n",
       "      <td>71</td>\n",
       "      <td>4.461538</td>\n",
       "      <td>3</td>\n",
       "      <td>0</td>\n",
       "      <td>1</td>\n",
       "      <td>0</td>\n",
       "      <td>0</td>\n",
       "      <td>0</td>\n",
       "      <td>0</td>\n",
       "      <td>...</td>\n",
       "      <td>0</td>\n",
       "      <td>0</td>\n",
       "      <td>0</td>\n",
       "      <td>0</td>\n",
       "      <td>0</td>\n",
       "      <td>0</td>\n",
       "      <td>0</td>\n",
       "      <td>0</td>\n",
       "      <td>0</td>\n",
       "      <td>0</td>\n",
       "    </tr>\n",
       "    <tr>\n",
       "      <th>...</th>\n",
       "      <td>...</td>\n",
       "      <td>...</td>\n",
       "      <td>...</td>\n",
       "      <td>...</td>\n",
       "      <td>...</td>\n",
       "      <td>...</td>\n",
       "      <td>...</td>\n",
       "      <td>...</td>\n",
       "      <td>...</td>\n",
       "      <td>...</td>\n",
       "      <td>...</td>\n",
       "      <td>...</td>\n",
       "      <td>...</td>\n",
       "      <td>...</td>\n",
       "      <td>...</td>\n",
       "      <td>...</td>\n",
       "      <td>...</td>\n",
       "      <td>...</td>\n",
       "      <td>...</td>\n",
       "      <td>...</td>\n",
       "      <td>...</td>\n",
       "    </tr>\n",
       "    <tr>\n",
       "      <th>3995</th>\n",
       "      <td>11</td>\n",
       "      <td>51</td>\n",
       "      <td>3.636364</td>\n",
       "      <td>0</td>\n",
       "      <td>0</td>\n",
       "      <td>1</td>\n",
       "      <td>0</td>\n",
       "      <td>10</td>\n",
       "      <td>0</td>\n",
       "      <td>0</td>\n",
       "      <td>...</td>\n",
       "      <td>0</td>\n",
       "      <td>0</td>\n",
       "      <td>0</td>\n",
       "      <td>0</td>\n",
       "      <td>0</td>\n",
       "      <td>0</td>\n",
       "      <td>0</td>\n",
       "      <td>0</td>\n",
       "      <td>0</td>\n",
       "      <td>0</td>\n",
       "    </tr>\n",
       "    <tr>\n",
       "      <th>3996</th>\n",
       "      <td>6</td>\n",
       "      <td>40</td>\n",
       "      <td>5.500000</td>\n",
       "      <td>0</td>\n",
       "      <td>0</td>\n",
       "      <td>1</td>\n",
       "      <td>0</td>\n",
       "      <td>0</td>\n",
       "      <td>0</td>\n",
       "      <td>0</td>\n",
       "      <td>...</td>\n",
       "      <td>0</td>\n",
       "      <td>0</td>\n",
       "      <td>0</td>\n",
       "      <td>0</td>\n",
       "      <td>0</td>\n",
       "      <td>0</td>\n",
       "      <td>0</td>\n",
       "      <td>0</td>\n",
       "      <td>0</td>\n",
       "      <td>0</td>\n",
       "    </tr>\n",
       "    <tr>\n",
       "      <th>3997</th>\n",
       "      <td>14</td>\n",
       "      <td>85</td>\n",
       "      <td>5.071429</td>\n",
       "      <td>6</td>\n",
       "      <td>0</td>\n",
       "      <td>1</td>\n",
       "      <td>0</td>\n",
       "      <td>0</td>\n",
       "      <td>0</td>\n",
       "      <td>0</td>\n",
       "      <td>...</td>\n",
       "      <td>0</td>\n",
       "      <td>0</td>\n",
       "      <td>0</td>\n",
       "      <td>0</td>\n",
       "      <td>0</td>\n",
       "      <td>0</td>\n",
       "      <td>0</td>\n",
       "      <td>0</td>\n",
       "      <td>0</td>\n",
       "      <td>0</td>\n",
       "    </tr>\n",
       "    <tr>\n",
       "      <th>3998</th>\n",
       "      <td>6</td>\n",
       "      <td>34</td>\n",
       "      <td>4.666667</td>\n",
       "      <td>2</td>\n",
       "      <td>0</td>\n",
       "      <td>1</td>\n",
       "      <td>0</td>\n",
       "      <td>0</td>\n",
       "      <td>0</td>\n",
       "      <td>0</td>\n",
       "      <td>...</td>\n",
       "      <td>0</td>\n",
       "      <td>0</td>\n",
       "      <td>0</td>\n",
       "      <td>0</td>\n",
       "      <td>0</td>\n",
       "      <td>0</td>\n",
       "      <td>0</td>\n",
       "      <td>0</td>\n",
       "      <td>0</td>\n",
       "      <td>0</td>\n",
       "    </tr>\n",
       "    <tr>\n",
       "      <th>3999</th>\n",
       "      <td>16</td>\n",
       "      <td>83</td>\n",
       "      <td>4.187500</td>\n",
       "      <td>8</td>\n",
       "      <td>0</td>\n",
       "      <td>0</td>\n",
       "      <td>0</td>\n",
       "      <td>1</td>\n",
       "      <td>0</td>\n",
       "      <td>0</td>\n",
       "      <td>...</td>\n",
       "      <td>0</td>\n",
       "      <td>0</td>\n",
       "      <td>0</td>\n",
       "      <td>0</td>\n",
       "      <td>0</td>\n",
       "      <td>0</td>\n",
       "      <td>0</td>\n",
       "      <td>0</td>\n",
       "      <td>0</td>\n",
       "      <td>0</td>\n",
       "    </tr>\n",
       "  </tbody>\n",
       "</table>\n",
       "<p>4000 rows × 9893 columns</p>\n",
       "</div>"
      ],
      "text/plain": [
       "      word_counts  char_counts  avg_word_len  stop_words_len  hashtags_count  \\\n",
       "0              18          102      4.666667               7               0   \n",
       "1              13           76      4.846154               3               0   \n",
       "2              19          107      4.631579               8               0   \n",
       "3              26          125      3.807692              16               0   \n",
       "4              13           71      4.461538               3               0   \n",
       "...           ...          ...           ...             ...             ...   \n",
       "3995           11           51      3.636364               0               0   \n",
       "3996            6           40      5.500000               0               0   \n",
       "3997           14           85      5.071429               6               0   \n",
       "3998            6           34      4.666667               2               0   \n",
       "3999           16           83      4.187500               8               0   \n",
       "\n",
       "      mentions_count  numeric_count  upper_counts  emails_count  urls_flag  \\\n",
       "0                  0              0             2             0          0   \n",
       "1                  1              0             0             0          0   \n",
       "2                  0              0             0             0          0   \n",
       "3                  0              0             0             0          0   \n",
       "4                  1              0             0             0          0   \n",
       "...              ...            ...           ...           ...        ...   \n",
       "3995               1              0            10             0          0   \n",
       "3996               1              0             0             0          0   \n",
       "3997               1              0             0             0          0   \n",
       "3998               1              0             0             0          0   \n",
       "3999               0              0             1             0          0   \n",
       "\n",
       "      ...  zoovroo  zoowar  zquot  zubby8  zumiez  zvegas  zz  zzombie  zzzz  \\\n",
       "0     ...        0       0      0       0       0       0   0        0     0   \n",
       "1     ...        0       0      0       0       0       0   0        0     0   \n",
       "2     ...        0       0      0       0       0       0   0        0     0   \n",
       "3     ...        0       0      0       0       0       0   0        0     0   \n",
       "4     ...        0       0      0       0       0       0   0        0     0   \n",
       "...   ...      ...     ...    ...     ...     ...     ...  ..      ...   ...   \n",
       "3995  ...        0       0      0       0       0       0   0        0     0   \n",
       "3996  ...        0       0      0       0       0       0   0        0     0   \n",
       "3997  ...        0       0      0       0       0       0   0        0     0   \n",
       "3998  ...        0       0      0       0       0       0   0        0     0   \n",
       "3999  ...        0       0      0       0       0       0   0        0     0   \n",
       "\n",
       "      zzzzzz  \n",
       "0          0  \n",
       "1          0  \n",
       "2          0  \n",
       "3          0  \n",
       "4          0  \n",
       "...      ...  \n",
       "3995       0  \n",
       "3996       0  \n",
       "3997       0  \n",
       "3998       0  \n",
       "3999       0  \n",
       "\n",
       "[4000 rows x 9893 columns]"
      ]
     },
     "execution_count": 231,
     "metadata": {},
     "output_type": "execute_result"
    }
   ],
   "source": [
    "X = dfr_feat.join(dfr_bow)\n",
    "X"
   ]
  },
  {
   "cell_type": "code",
   "execution_count": 232,
   "metadata": {},
   "outputs": [
    {
     "name": "stdout",
     "output_type": "stream",
     "text": [
      "SGD -----> 0.67875\n",
      "LGR -----> 0.69875\n",
      "LGR-CV -----> 0.69125\n",
      "SVM -----> 0.68625\n",
      "RFC -----> 0.68125\n",
      "Wall time: 57.7 s\n"
     ]
    }
   ],
   "source": [
    "%%time\n",
    "classify(X, y)"
   ]
  },
  {
   "cell_type": "markdown",
   "metadata": {},
   "source": [
    "### TFIDF"
   ]
  },
  {
   "cell_type": "code",
   "execution_count": 233,
   "metadata": {},
   "outputs": [],
   "source": [
    "from sklearn.feature_extraction.text import TfidfVectorizer"
   ]
  },
  {
   "cell_type": "code",
   "execution_count": 234,
   "metadata": {},
   "outputs": [
    {
     "data": {
      "text/plain": [
       "(4000, 13)"
      ]
     },
     "execution_count": 234,
     "metadata": {},
     "output_type": "execute_result"
    }
   ],
   "source": [
    "dfr.shape"
   ]
  },
  {
   "cell_type": "code",
   "execution_count": 235,
   "metadata": {},
   "outputs": [],
   "source": [
    "tfidf = TfidfVectorizer()\n",
    "X = tfidf.fit_transform(dfr['tweets'])"
   ]
  },
  {
   "cell_type": "code",
   "execution_count": 236,
   "metadata": {},
   "outputs": [
    {
     "name": "stdout",
     "output_type": "stream",
     "text": [
      "SGD -----> 0.6575\n",
      "LGR -----> 0.6625\n",
      "LGR-CV -----> 0.66625\n",
      "SVM -----> 0.6525\n",
      "RFC -----> 0.63625\n",
      "Wall time: 1min 8s\n"
     ]
    }
   ],
   "source": [
    "%%time\n",
    "classify(pd.DataFrame(X.toarray()),y)"
   ]
  },
  {
   "cell_type": "markdown",
   "metadata": {},
   "source": [
    "### Word2vec"
   ]
  },
  {
   "cell_type": "code",
   "execution_count": 237,
   "metadata": {},
   "outputs": [],
   "source": [
    "def get_vec(x):\n",
    "    doc = nlp(x)\n",
    "    return doc.vector.reshape(1, -1)"
   ]
  },
  {
   "cell_type": "code",
   "execution_count": 238,
   "metadata": {},
   "outputs": [
    {
     "name": "stdout",
     "output_type": "stream",
     "text": [
      "Wall time: 46 s\n"
     ]
    }
   ],
   "source": [
    "%%time\n",
    "dfr['vec'] = dfr['tweets'].apply(lambda x: get_vec(x))"
   ]
  },
  {
   "cell_type": "code",
   "execution_count": 239,
   "metadata": {},
   "outputs": [],
   "source": [
    "X = np.concatenate(dfr['vec'].to_numpy(), axis = 0 )"
   ]
  },
  {
   "cell_type": "code",
   "execution_count": 240,
   "metadata": {},
   "outputs": [
    {
     "data": {
      "text/plain": [
       "(4000, 300)"
      ]
     },
     "execution_count": 240,
     "metadata": {},
     "output_type": "execute_result"
    }
   ],
   "source": [
    "X.shape"
   ]
  },
  {
   "cell_type": "code",
   "execution_count": 241,
   "metadata": {},
   "outputs": [
    {
     "name": "stdout",
     "output_type": "stream",
     "text": [
      "SGD -----> 0.68\n",
      "LGR -----> 0.7425\n",
      "LGR-CV -----> 0.7475\n"
     ]
    },
    {
     "name": "stderr",
     "output_type": "stream",
     "text": [
      "C:\\Anaconda3\\lib\\site-packages\\sklearn\\svm\\_base.py:977: ConvergenceWarning: Liblinear failed to converge, increase the number of iterations.\n",
      "  \"the number of iterations.\", ConvergenceWarning)\n"
     ]
    },
    {
     "name": "stdout",
     "output_type": "stream",
     "text": [
      "SVM -----> 0.72625\n",
      "RFC -----> 0.695\n"
     ]
    }
   ],
   "source": [
    "classify(pd.DataFrame(X), y)"
   ]
  },
  {
   "cell_type": "code",
   "execution_count": 242,
   "metadata": {},
   "outputs": [],
   "source": [
    "def predict_w2v(x):\n",
    "    for key in clf.keys():\n",
    "        y_pred = clf[key].predict(get_vec(x))\n",
    "        print(key, \"-->\", y_pred)"
   ]
  },
  {
   "cell_type": "code",
   "execution_count": 256,
   "metadata": {},
   "outputs": [
    {
     "name": "stdout",
     "output_type": "stream",
     "text": [
      "SGD --> [0]\n",
      "LGR --> [4]\n",
      "LGR-CV --> [4]\n",
      "SVM --> [0]\n",
      "RFC --> [4]\n"
     ]
    }
   ],
   "source": [
    "predict_w2v('hi, thanks for seeing this')"
   ]
  },
  {
   "cell_type": "code",
   "execution_count": 248,
   "metadata": {},
   "outputs": [
    {
     "name": "stdout",
     "output_type": "stream",
     "text": [
      "SGD --> [0]\n",
      "LGR --> [0]\n",
      "LGR-CV --> [0]\n",
      "SVM --> [0]\n",
      "RFC --> [4]\n"
     ]
    }
   ],
   "source": [
    "predict_w2v('you gonna hate this')"
   ]
  },
  {
   "cell_type": "code",
   "execution_count": 257,
   "metadata": {},
   "outputs": [
    {
     "name": "stdout",
     "output_type": "stream",
     "text": [
      "SGD --> [0]\n",
      "LGR --> [4]\n",
      "LGR-CV --> [0]\n",
      "SVM --> [0]\n",
      "RFC --> [4]\n"
     ]
    }
   ],
   "source": [
    "predict_w2v('have a nice day and welcome ')"
   ]
  },
  {
   "cell_type": "code",
   "execution_count": null,
   "metadata": {},
   "outputs": [],
   "source": []
  }
 ],
 "metadata": {
  "kernelspec": {
   "display_name": "Python 3",
   "language": "python",
   "name": "python3"
  },
  "language_info": {
   "codemirror_mode": {
    "name": "ipython",
    "version": 3
   },
   "file_extension": ".py",
   "mimetype": "text/x-python",
   "name": "python",
   "nbconvert_exporter": "python",
   "pygments_lexer": "ipython3",
   "version": "3.7.9"
  }
 },
 "nbformat": 4,
 "nbformat_minor": 4
}
